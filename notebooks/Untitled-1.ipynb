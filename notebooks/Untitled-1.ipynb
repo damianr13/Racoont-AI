{
 "cells": [
  {
   "cell_type": "code",
   "execution_count": 1,
   "metadata": {
    "pycharm": {
     "name": "#%%\n"
    }
   },
   "outputs": [],
   "source": [
    "import pandas as pd"
   ]
  },
  {
   "cell_type": "code",
   "execution_count": 4,
   "metadata": {
    "pycharm": {
     "name": "#%%\n"
    }
   },
   "outputs": [
    {
     "data": {
      "text/html": [
       "<div>\n",
       "<style scoped>\n",
       "    .dataframe tbody tr th:only-of-type {\n",
       "        vertical-align: middle;\n",
       "    }\n",
       "\n",
       "    .dataframe tbody tr th {\n",
       "        vertical-align: top;\n",
       "    }\n",
       "\n",
       "    .dataframe thead th {\n",
       "        text-align: right;\n",
       "    }\n",
       "</style>\n",
       "<table border=\"1\" class=\"dataframe\">\n",
       "  <thead>\n",
       "    <tr style=\"text-align: right;\">\n",
       "      <th></th>\n",
       "      <th>Title</th>\n",
       "      <th>Author</th>\n",
       "      <th>Desc</th>\n",
       "      <th>Inerest_age</th>\n",
       "      <th>Reading_age</th>\n",
       "    </tr>\n",
       "  </thead>\n",
       "  <tbody>\n",
       "    <tr>\n",
       "      <th>0</th>\n",
       "      <td>The Girl Who Drank the Moon</td>\n",
       "      <td>Kelly Barnhill</td>\n",
       "      <td>Every year, the evil Protectorate offers a bab...</td>\n",
       "      <td>10-14</td>\n",
       "      <td>10-14</td>\n",
       "    </tr>\n",
       "    <tr>\n",
       "      <th>1</th>\n",
       "      <td>Time Between Us</td>\n",
       "      <td>Tamara Ireland Stone</td>\n",
       "      <td>Sixteen-year-old Anna is struggling to underst...</td>\n",
       "      <td>13+</td>\n",
       "      <td>12+</td>\n",
       "    </tr>\n",
       "    <tr>\n",
       "      <th>2</th>\n",
       "      <td>Girl Out of Water</td>\n",
       "      <td>Nat Luurtsema</td>\n",
       "      <td>Lou Brown's swimming ambitions sank without tr...</td>\n",
       "      <td>13-18</td>\n",
       "      <td>10+</td>\n",
       "    </tr>\n",
       "    <tr>\n",
       "      <th>3</th>\n",
       "      <td>Captive</td>\n",
       "      <td>A J Grainger</td>\n",
       "      <td>Robyn is scared. Ever since the attempted assa...</td>\n",
       "      <td>13+</td>\n",
       "      <td>13</td>\n",
       "    </tr>\n",
       "    <tr>\n",
       "      <th>4</th>\n",
       "      <td>The School of Music</td>\n",
       "      <td>Rachel Bowen and Meurig Bowen Illustrator: Dan...</td>\n",
       "      <td>Welcome to the School of Music. In charge is M...</td>\n",
       "      <td>10+</td>\n",
       "      <td>10+</td>\n",
       "    </tr>\n",
       "    <tr>\n",
       "      <th>...</th>\n",
       "      <td>...</td>\n",
       "      <td>...</td>\n",
       "      <td>...</td>\n",
       "      <td>...</td>\n",
       "      <td>...</td>\n",
       "    </tr>\n",
       "    <tr>\n",
       "      <th>3264</th>\n",
       "      <td>Spy for the Queen of Scots</td>\n",
       "      <td>Theresa Breslin</td>\n",
       "      <td>Beautiful young aristocrat Ginette, known as J...</td>\n",
       "      <td>12+</td>\n",
       "      <td>12+</td>\n",
       "    </tr>\n",
       "    <tr>\n",
       "      <th>3265</th>\n",
       "      <td>Jimmy Corrigan:</td>\n",
       "      <td>Chris Ware</td>\n",
       "      <td>This extraordinary graphic novel is so obvious...</td>\n",
       "      <td>14+</td>\n",
       "      <td>14+</td>\n",
       "    </tr>\n",
       "    <tr>\n",
       "      <th>3266</th>\n",
       "      <td>The Martian Girl</td>\n",
       "      <td>NaN</td>\n",
       "      <td>Following on from the brilliant Lost on Mars, ...</td>\n",
       "      <td>10+</td>\n",
       "      <td>10+</td>\n",
       "    </tr>\n",
       "    <tr>\n",
       "      <th>3267</th>\n",
       "      <td>Buffalo Soldier</td>\n",
       "      <td>Tanya Landman</td>\n",
       "      <td>Plantation slave Charley Smith is eleven when ...</td>\n",
       "      <td>13+</td>\n",
       "      <td>11+</td>\n",
       "    </tr>\n",
       "    <tr>\n",
       "      <th>3268</th>\n",
       "      <td>Witchstruck</td>\n",
       "      <td>Victoria Lamb</td>\n",
       "      <td>The future Elizabeth I has been imprisoned by ...</td>\n",
       "      <td>12+</td>\n",
       "      <td>12+</td>\n",
       "    </tr>\n",
       "  </tbody>\n",
       "</table>\n",
       "<p>3269 rows × 5 columns</p>\n",
       "</div>"
      ],
      "text/plain": [
       "                            Title  \\\n",
       "0     The Girl Who Drank the Moon   \n",
       "1                 Time Between Us   \n",
       "2               Girl Out of Water   \n",
       "3                         Captive   \n",
       "4             The School of Music   \n",
       "...                           ...   \n",
       "3264   Spy for the Queen of Scots   \n",
       "3265              Jimmy Corrigan:   \n",
       "3266             The Martian Girl   \n",
       "3267              Buffalo Soldier   \n",
       "3268                  Witchstruck   \n",
       "\n",
       "                                                 Author  \\\n",
       "0                                        Kelly Barnhill   \n",
       "1                                  Tamara Ireland Stone   \n",
       "2                                         Nat Luurtsema   \n",
       "3                                          A J Grainger   \n",
       "4     Rachel Bowen and Meurig Bowen Illustrator: Dan...   \n",
       "...                                                 ...   \n",
       "3264                                    Theresa Breslin   \n",
       "3265                                         Chris Ware   \n",
       "3266                                                NaN   \n",
       "3267                                      Tanya Landman   \n",
       "3268                                      Victoria Lamb   \n",
       "\n",
       "                                                   Desc Inerest_age  \\\n",
       "0     Every year, the evil Protectorate offers a bab...      10-14    \n",
       "1     Sixteen-year-old Anna is struggling to underst...        13+    \n",
       "2     Lou Brown's swimming ambitions sank without tr...      13-18    \n",
       "3     Robyn is scared. Ever since the attempted assa...        13+    \n",
       "4     Welcome to the School of Music. In charge is M...        10+    \n",
       "...                                                 ...         ...   \n",
       "3264  Beautiful young aristocrat Ginette, known as J...        12+    \n",
       "3265  This extraordinary graphic novel is so obvious...        14+    \n",
       "3266  Following on from the brilliant Lost on Mars, ...        10+    \n",
       "3267  Plantation slave Charley Smith is eleven when ...        13+    \n",
       "3268  The future Elizabeth I has been imprisoned by ...        12+    \n",
       "\n",
       "                               Reading_age  \n",
       "0     10-14                                 \n",
       "1       12+                                 \n",
       "2       10+                                 \n",
       "3        13                                 \n",
       "4       10+                                 \n",
       "...                                    ...  \n",
       "3264    12+                                 \n",
       "3265    14+                                 \n",
       "3266    10+                                 \n",
       "3267    11+                                 \n",
       "3268    12+                                 \n",
       "\n",
       "[3269 rows x 5 columns]"
      ]
     },
     "execution_count": 4,
     "metadata": {},
     "output_type": "execute_result"
    }
   ],
   "source": [
    "df = pd.read_csv('archive/children_books.csv')#, encoding='cp1252')\n",
    "df"
   ]
  },
  {
   "cell_type": "code",
   "execution_count": 14,
   "metadata": {
    "pycharm": {
     "name": "#%%\n"
    }
   },
   "outputs": [
    {
     "data": {
      "text/html": [
       "<div>\n",
       "<style scoped>\n",
       "    .dataframe tbody tr th:only-of-type {\n",
       "        vertical-align: middle;\n",
       "    }\n",
       "\n",
       "    .dataframe tbody tr th {\n",
       "        vertical-align: top;\n",
       "    }\n",
       "\n",
       "    .dataframe thead th {\n",
       "        text-align: right;\n",
       "    }\n",
       "</style>\n",
       "<table border=\"1\" class=\"dataframe\">\n",
       "  <thead>\n",
       "    <tr style=\"text-align: right;\">\n",
       "      <th></th>\n",
       "      <th>names</th>\n",
       "      <th>cats</th>\n",
       "      <th>desc</th>\n",
       "    </tr>\n",
       "  </thead>\n",
       "  <tbody>\n",
       "    <tr>\n",
       "      <th>0</th>\n",
       "      <td>HIDE AND SEEK</td>\n",
       "      <td>Age 2-9</td>\n",
       "      <td>Was it just another game of hide and seek? No....</td>\n",
       "    </tr>\n",
       "    <tr>\n",
       "      <th>1</th>\n",
       "      <td>GINGER THE GIRAFFE</td>\n",
       "      <td>Age 2-9</td>\n",
       "      <td>Read this warm tale of camaraderie and affecti...</td>\n",
       "    </tr>\n",
       "    <tr>\n",
       "      <th>2</th>\n",
       "      <td>DOING MY CHORES</td>\n",
       "      <td>Age 2-9</td>\n",
       "      <td>Love shines through this great illustrated kid...</td>\n",
       "    </tr>\n",
       "    <tr>\n",
       "      <th>3</th>\n",
       "      <td>ABE THE SERVICE DOG</td>\n",
       "      <td>Age 2-9</td>\n",
       "      <td>Abe was a real Service Dog who dedicated his l...</td>\n",
       "    </tr>\n",
       "    <tr>\n",
       "      <th>4</th>\n",
       "      <td>SUNNY MEADOWS WOODLAND SCHOOL</td>\n",
       "      <td>Age 2-9</td>\n",
       "      <td>The class took a little train and went deep in...</td>\n",
       "    </tr>\n",
       "    <tr>\n",
       "      <th>...</th>\n",
       "      <td>...</td>\n",
       "      <td>...</td>\n",
       "      <td>...</td>\n",
       "    </tr>\n",
       "    <tr>\n",
       "      <th>425</th>\n",
       "      <td>Carrying the Elephant: A Memoir of Love and Loss</td>\n",
       "      <td>Age 11+</td>\n",
       "      <td>In the 72 prose poems that make up this unusua...</td>\n",
       "    </tr>\n",
       "    <tr>\n",
       "      <th>426</th>\n",
       "      <td>War and Peas</td>\n",
       "      <td>Age 8+</td>\n",
       "      <td>Nearly forty years after its original appearan...</td>\n",
       "    </tr>\n",
       "    <tr>\n",
       "      <th>427</th>\n",
       "      <td>Love that Dog</td>\n",
       "      <td>Age 9-12</td>\n",
       "      <td>Jack has a great sadness in his life, but he i...</td>\n",
       "    </tr>\n",
       "    <tr>\n",
       "      <th>428</th>\n",
       "      <td>A Pilgrim's Progress</td>\n",
       "      <td>Age 9+</td>\n",
       "      <td>'I had a dream last night ... large enough to ...</td>\n",
       "    </tr>\n",
       "    <tr>\n",
       "      <th>429</th>\n",
       "      <td>Secret Friends</td>\n",
       "      <td>Age 7-11</td>\n",
       "      <td>At her new school, Rafaella suffers daily name...</td>\n",
       "    </tr>\n",
       "  </tbody>\n",
       "</table>\n",
       "<p>430 rows × 3 columns</p>\n",
       "</div>"
      ],
      "text/plain": [
       "                                                names      cats  \\\n",
       "0                                       HIDE AND SEEK   Age 2-9   \n",
       "1                                 GINGER THE GIRAFFE    Age 2-9   \n",
       "2                                     DOING MY CHORES   Age 2-9   \n",
       "3                                 ABE THE SERVICE DOG   Age 2-9   \n",
       "4                       SUNNY MEADOWS WOODLAND SCHOOL   Age 2-9   \n",
       "..                                                ...       ...   \n",
       "425  Carrying the Elephant: A Memoir of Love and Loss   Age 11+   \n",
       "426                                      War and Peas    Age 8+   \n",
       "427                                     Love that Dog  Age 9-12   \n",
       "428                              A Pilgrim's Progress    Age 9+   \n",
       "429                                    Secret Friends  Age 7-11   \n",
       "\n",
       "                                                  desc  \n",
       "0    Was it just another game of hide and seek? No....  \n",
       "1    Read this warm tale of camaraderie and affecti...  \n",
       "2    Love shines through this great illustrated kid...  \n",
       "3    Abe was a real Service Dog who dedicated his l...  \n",
       "4    The class took a little train and went deep in...  \n",
       "..                                                 ...  \n",
       "425  In the 72 prose poems that make up this unusua...  \n",
       "426  Nearly forty years after its original appearan...  \n",
       "427  Jack has a great sadness in his life, but he i...  \n",
       "428  'I had a dream last night ... large enough to ...  \n",
       "429  At her new school, Rafaella suffers daily name...  \n",
       "\n",
       "[430 rows x 3 columns]"
      ]
     },
     "execution_count": 14,
     "metadata": {},
     "output_type": "execute_result"
    }
   ],
   "source": [
    "df = pd.read_csv('archive/children_stories.csv', on_bad_lines='skip', sep=';')\n",
    "df"
   ]
  },
  {
   "cell_type": "code",
   "execution_count": 20,
   "metadata": {
    "pycharm": {
     "name": "#%%\n"
    }
   },
   "outputs": [],
   "source": [
    "s = df.iloc[0].desc"
   ]
  },
  {
   "cell_type": "code",
   "execution_count": 18,
   "metadata": {
    "pycharm": {
     "name": "#%%\n"
    }
   },
   "outputs": [],
   "source": [
    "df['desc'] = df['desc'].apply(lambda x: x.replace(\"â€™\", \"'\"))"
   ]
  },
  {
   "cell_type": "code",
   "execution_count": 21,
   "metadata": {
    "pycharm": {
     "name": "#%%\n"
    }
   },
   "outputs": [
    {
     "data": {
      "text/plain": [
       "61"
      ]
     },
     "execution_count": 21,
     "metadata": {},
     "output_type": "execute_result"
    }
   ],
   "source": [
    "s.count(' ')"
   ]
  },
  {
   "cell_type": "code",
   "execution_count": 23,
   "metadata": {
    "pycharm": {
     "name": "#%%\n"
    }
   },
   "outputs": [
    {
     "data": {
      "text/html": [
       "<div>\n",
       "<style scoped>\n",
       "    .dataframe tbody tr th:only-of-type {\n",
       "        vertical-align: middle;\n",
       "    }\n",
       "\n",
       "    .dataframe tbody tr th {\n",
       "        vertical-align: top;\n",
       "    }\n",
       "\n",
       "    .dataframe thead th {\n",
       "        text-align: right;\n",
       "    }\n",
       "</style>\n",
       "<table border=\"1\" class=\"dataframe\">\n",
       "  <thead>\n",
       "    <tr style=\"text-align: right;\">\n",
       "      <th></th>\n",
       "      <th>wc</th>\n",
       "    </tr>\n",
       "  </thead>\n",
       "  <tbody>\n",
       "    <tr>\n",
       "      <th>count</th>\n",
       "      <td>430.000000</td>\n",
       "    </tr>\n",
       "    <tr>\n",
       "      <th>mean</th>\n",
       "      <td>100.160465</td>\n",
       "    </tr>\n",
       "    <tr>\n",
       "      <th>std</th>\n",
       "      <td>46.419691</td>\n",
       "    </tr>\n",
       "    <tr>\n",
       "      <th>min</th>\n",
       "      <td>14.000000</td>\n",
       "    </tr>\n",
       "    <tr>\n",
       "      <th>25%</th>\n",
       "      <td>63.250000</td>\n",
       "    </tr>\n",
       "    <tr>\n",
       "      <th>50%</th>\n",
       "      <td>102.000000</td>\n",
       "    </tr>\n",
       "    <tr>\n",
       "      <th>75%</th>\n",
       "      <td>127.000000</td>\n",
       "    </tr>\n",
       "    <tr>\n",
       "      <th>max</th>\n",
       "      <td>269.000000</td>\n",
       "    </tr>\n",
       "  </tbody>\n",
       "</table>\n",
       "</div>"
      ],
      "text/plain": [
       "               wc\n",
       "count  430.000000\n",
       "mean   100.160465\n",
       "std     46.419691\n",
       "min     14.000000\n",
       "25%     63.250000\n",
       "50%    102.000000\n",
       "75%    127.000000\n",
       "max    269.000000"
      ]
     },
     "execution_count": 23,
     "metadata": {},
     "output_type": "execute_result"
    }
   ],
   "source": [
    "df['wc'] = df['desc'].apply(lambda x: x.count(' ')+1)\n",
    "df.describe()"
   ]
  },
  {
   "cell_type": "code",
   "execution_count": 24,
   "metadata": {
    "pycharm": {
     "name": "#%%\n"
    }
   },
   "outputs": [],
   "source": [
    "df['desc'] = df['desc'].apply(lambda x: x + \"--\")"
   ]
  },
  {
   "cell_type": "code",
   "execution_count": 25,
   "metadata": {
    "pycharm": {
     "name": "#%%\n"
    }
   },
   "outputs": [],
   "source": [
    "with open('train_children_stories.txt', 'w') as f:\n",
    "    f.writelines(df['desc'])\n"
   ]
  },
  {
   "attachments": {},
   "cell_type": "markdown",
   "metadata": {
    "pycharm": {
     "name": "#%% md\n"
    }
   },
   "source": [
    "# Books"
   ]
  },
  {
   "cell_type": "code",
   "execution_count": 26,
   "metadata": {
    "pycharm": {
     "name": "#%%\n"
    }
   },
   "outputs": [],
   "source": [
    "titles = \"The Happy Prince, Andersens Fairy Tales, The Blue Fairy Book, The Adventures of Pinocchio, Myths Retold by Children,Household Tales, Indian Fairy Tales, Fairy Tales Second Series, MERRY STORIES AND FUNNY PICTURES, Childhoods Favorites and Fairy Stories,The Wonderful Wizard of Oz, Celtic Tales, Our Children, The Little Lame Prince, The Prince and Betty, The Adventures of Sherlock Holmes,Peter Pan, The Secret Garden, The Jungle Book, The Adventures of Tom Sawyer, A Little Princess, Little Women, Just So Stories, Moby Dick, Treasure Island, The Idiot, A Tale of Two Cities, My Man Jeeves, Sense and Sensibility, The Time Machine, Comic History of the United States, The Velveteen Rabbit, The Book of Dragons, The Snow Image, The Magical Mimics in Oz, Folk Tales from the Russian, Snow-White or The House in the Wood, Dramatic Reader for Lower Grades, A Christmas Hamper, Aesop Fables, My Fathers Dragon, The Peace Egg and Other tales, Indian Why Stories, Folk-Tales of the Khasis, The Paradise of Children, Wonder Stories, The Best American Humorous Short Stories, Hindu Tales from the Sanskrit, The Tale of Johnny Town-Mouse, The Little Red Hen, East of the Sun and West of the Moon, Among the Forest People, True Stories of Wonderful Deeds, English Fairy Tales, Simla Village Tales Or Folk Tales from the Himalayas, Japanese Fairy Tales, Plain Tales of the North, The Wind in the Willows, The Louisa Alcott Reader. A Supplementary Reader for the Fourth Year of School, A Wonder Book for Girls and Boys, Tanglewood Tales, The Pig Brother and Other Fables and Stories, The Worlds Greatest Books, Vol 3, Goody Two-Shoes, The Marvelous Exploits of Paul Bunyan, Christmas Every Day and Other Stories, The Childrens Book of Thanksgiving Stories\""
   ]
  },
  {
   "attachments": {},
   "cell_type": "markdown",
   "metadata": {
    "pycharm": {
     "name": "#%% md\n"
    }
   },
   "source": [
    "# Fables"
   ]
  },
  {
   "cell_type": "code",
   "execution_count": 1,
   "metadata": {
    "pycharm": {
     "name": "#%%\n"
    }
   },
   "outputs": [],
   "source": [
    "import pandas as pd"
   ]
  },
  {
   "cell_type": "code",
   "execution_count": 2,
   "metadata": {
    "pycharm": {
     "name": "#%%\n"
    }
   },
   "outputs": [
    {
     "name": "stderr",
     "output_type": "stream",
     "text": [
      "/Users/robert-andreidamian/.local/share/virtualenvs/stories-5rluFyzU/lib/python3.10/site-packages/tqdm/auto.py:22: TqdmWarning: IProgress not found. Please update jupyter and ipywidgets. See https://ipywidgets.readthedocs.io/en/stable/user_install.html\n",
      "  from .autonotebook import tqdm as notebook_tqdm\n",
      "Downloading builder script: 100%|██████████| 12.6k/12.6k [00:00<00:00, 2.40MB/s]\n",
      "Downloading metadata: 100%|██████████| 10.4k/10.4k [00:00<00:00, 4.17MB/s]\n",
      "Downloading readme: 100%|██████████| 18.3k/18.3k [00:00<00:00, 4.91MB/s]\n"
     ]
    },
    {
     "name": "stdout",
     "output_type": "stream",
     "text": [
      "Downloading and preparing dataset understanding_fables/default (download: 167.38 KiB, generated: 153.11 KiB, post-processed: Unknown size, total: 320.49 KiB) to /Users/robert-andreidamian/.cache/huggingface/datasets/demelin___understanding_fables/default/1.1.0/677de7da223e0c7aebe64e3b220e2dfd9dfac1e9db60c8681783033294b6d1a6...\n"
     ]
    },
    {
     "name": "stderr",
     "output_type": "stream",
     "text": [
      "Downloading data files:   0%|          | 0/1 [00:00<?, ?it/s]\n",
      "Downloading data:   0%|          | 0.00/171k [00:00<?, ?B/s]\u001B[A\n",
      "Downloading data: 100%|██████████| 171k/171k [00:00<00:00, 636kB/s] \u001B[A\n",
      "Downloading data files: 100%|██████████| 1/1 [00:01<00:00,  1.94s/it]\n",
      "Extracting data files: 100%|██████████| 1/1 [00:00<00:00, 468.43it/s]\n",
      "                                                                     \r"
     ]
    },
    {
     "name": "stdout",
     "output_type": "stream",
     "text": [
      "Dataset understanding_fables downloaded and prepared to /Users/robert-andreidamian/.cache/huggingface/datasets/demelin___understanding_fables/default/1.1.0/677de7da223e0c7aebe64e3b220e2dfd9dfac1e9db60c8681783033294b6d1a6. Subsequent calls will reuse this data.\n"
     ]
    },
    {
     "name": "stderr",
     "output_type": "stream",
     "text": [
      "100%|██████████| 1/1 [00:00<00:00, 166.31it/s]\n"
     ]
    }
   ],
   "source": [
    "from datasets import load_dataset\n",
    "\n",
    "dataset = load_dataset(\"demelin/understanding_fables\")"
   ]
  },
  {
   "cell_type": "code",
   "execution_count": 3,
   "outputs": [
    {
     "name": "stdout",
     "output_type": "stream",
     "text": [
      "DatasetDict({\n",
      "    test: Dataset({\n",
      "        features: ['story', 'answer0', 'answer1', 'answer2', 'answer3', 'answer4', 'label'],\n",
      "        num_rows: 189\n",
      "    })\n",
      "})\n"
     ]
    }
   ],
   "source": [
    "print(dataset)"
   ],
   "metadata": {
    "collapsed": false,
    "pycharm": {
     "name": "#%%\n"
    }
   }
  },
  {
   "cell_type": "code",
   "execution_count": 1,
   "outputs": [],
   "source": [
    "import cohere"
   ],
   "metadata": {
    "collapsed": false,
    "pycharm": {
     "name": "#%%\n"
    }
   }
  },
  {
   "cell_type": "code",
   "execution_count": 2,
   "outputs": [],
   "source": [
    "from pydantic import BaseSettings, Field\n",
    "\n",
    "class Settings(BaseSettings):\n",
    "    cohere_api_key: str = Field()"
   ],
   "metadata": {
    "collapsed": false,
    "pycharm": {
     "name": "#%%\n"
    }
   }
  },
  {
   "cell_type": "code",
   "execution_count": 3,
   "outputs": [
    {
     "ename": "ValidationError",
     "evalue": "1 validation error for Settings\ncohere_api_key\n  field required (type=value_error.missing)",
     "output_type": "error",
     "traceback": [
      "\u001B[0;31m---------------------------------------------------------------------------\u001B[0m",
      "\u001B[0;31mValidationError\u001B[0m                           Traceback (most recent call last)",
      "Cell \u001B[0;32mIn[3], line 1\u001B[0m\n\u001B[0;32m----> 1\u001B[0m settings \u001B[38;5;241m=\u001B[39m \u001B[43mSettings\u001B[49m\u001B[43m(\u001B[49m\u001B[43m)\u001B[49m\n\u001B[1;32m      2\u001B[0m \u001B[38;5;28mprint\u001B[39m(settings)\n",
      "File \u001B[0;32m~/.local/share/virtualenvs/stories-5rluFyzU/lib/python3.10/site-packages/pydantic/env_settings.py:39\u001B[0m, in \u001B[0;36mpydantic.env_settings.BaseSettings.__init__\u001B[0;34m()\u001B[0m\n",
      "File \u001B[0;32m~/.local/share/virtualenvs/stories-5rluFyzU/lib/python3.10/site-packages/pydantic/main.py:342\u001B[0m, in \u001B[0;36mpydantic.main.BaseModel.__init__\u001B[0;34m()\u001B[0m\n",
      "\u001B[0;31mValidationError\u001B[0m: 1 validation error for Settings\ncohere_api_key\n  field required (type=value_error.missing)"
     ]
    }
   ],
   "source": [
    "settings = Settings()\n",
    "print(settings)"
   ],
   "metadata": {
    "collapsed": false,
    "pycharm": {
     "name": "#%%\n"
    }
   }
  },
  {
   "cell_type": "code",
   "execution_count": null,
   "outputs": [],
   "source": [
    "cohere_client = cohere.Client(\"\")"
   ],
   "metadata": {
    "collapsed": false,
    "pycharm": {
     "name": "#%%\n"
    }
   }
  },
  {
   "cell_type": "code",
   "execution_count": 14,
   "metadata": {
    "pycharm": {
     "name": "#%%\n"
    }
   },
   "outputs": [
    {
     "data": {
      "text/plain": [
       "{'story': 'A badger, crossing a bridge over a river with a piece of meat in his teeth, saw his own reflection in the water and took it for that of another badger, with a piece of meat double his own in size. He immediately let go of his own, and attacked the other badger to get his larger piece. In the end, he lost both: that which he clawed at in the water, because it was a reflection; and his own, because the river swept it away. What is the moral of this story?',\n",
       " 'answer0': 'He who is once deceived is doubly cautious.',\n",
       " 'answer1': 'He winds up friendless who plays both sides against the middle.',\n",
       " 'answer2': 'Grasp at the shadow and you will lose the substance.',\n",
       " 'answer3': 'Little by little does the trick.',\n",
       " 'answer4': 'Those who pretend to be what they are not, sooner or later, find themselves in deep water.',\n",
       " 'label': 2}"
      ]
     },
     "execution_count": 14,
     "metadata": {},
     "output_type": "execute_result"
    }
   ],
   "source": [
    "dataset['test'][0]"
   ]
  },
  {
   "cell_type": "code",
   "execution_count": 8,
   "metadata": {
    "pycharm": {
     "name": "#%%\n"
    }
   },
   "outputs": [
    {
     "data": {
      "text/html": [
       "<div>\n",
       "<style scoped>\n",
       "    .dataframe tbody tr th:only-of-type {\n",
       "        vertical-align: middle;\n",
       "    }\n",
       "\n",
       "    .dataframe tbody tr th {\n",
       "        vertical-align: top;\n",
       "    }\n",
       "\n",
       "    .dataframe thead th {\n",
       "        text-align: right;\n",
       "    }\n",
       "</style>\n",
       "<table border=\"1\" class=\"dataframe\">\n",
       "  <thead>\n",
       "    <tr style=\"text-align: right;\">\n",
       "      <th></th>\n",
       "      <th>story</th>\n",
       "      <th>answer0</th>\n",
       "      <th>answer1</th>\n",
       "      <th>answer2</th>\n",
       "      <th>answer3</th>\n",
       "      <th>answer4</th>\n",
       "      <th>label</th>\n",
       "    </tr>\n",
       "  </thead>\n",
       "  <tbody>\n",
       "    <tr>\n",
       "      <th>0</th>\n",
       "      <td>A badger, crossing a bridge over a river with ...</td>\n",
       "      <td>He who is once deceived is doubly cautious.</td>\n",
       "      <td>He winds up friendless who plays both sides ag...</td>\n",
       "      <td>Grasp at the shadow and you will lose the subs...</td>\n",
       "      <td>Little by little does the trick.</td>\n",
       "      <td>Those who pretend to be what they are not, soo...</td>\n",
       "      <td>2</td>\n",
       "    </tr>\n",
       "    <tr>\n",
       "      <th>1</th>\n",
       "      <td>A magpie dying of thirst saw a jug, and hoping...</td>\n",
       "      <td>Grasp at the shadow and you will lose the subs...</td>\n",
       "      <td>Birds of a feather flock together.</td>\n",
       "      <td>The hero is brave in deeds as well as words.</td>\n",
       "      <td>Necessity is the mother of invention.</td>\n",
       "      <td>An ounce of prevention is worth a pound of cure.</td>\n",
       "      <td>3</td>\n",
       "    </tr>\n",
       "    <tr>\n",
       "      <th>2</th>\n",
       "      <td>A middle-aged man, whose hair had started gray...</td>\n",
       "      <td>Little by little does the trick.</td>\n",
       "      <td>Those who seek to please everybody please nobody.</td>\n",
       "      <td>Fine clothes may disguise, but silly words wil...</td>\n",
       "      <td>Little friends may prove great friends.</td>\n",
       "      <td>One story is good, till another is told.</td>\n",
       "      <td>1</td>\n",
       "    </tr>\n",
       "    <tr>\n",
       "      <th>3</th>\n",
       "      <td>Two neighbours came before Zeus and asked him ...</td>\n",
       "      <td>Vices are their own punishment.</td>\n",
       "      <td>There is as much malice in a wink as in a word.</td>\n",
       "      <td>He that finds discontentment in one place is n...</td>\n",
       "      <td>The gods help them that help themselves.</td>\n",
       "      <td>It shows an evil disposition to take advantage...</td>\n",
       "      <td>0</td>\n",
       "    </tr>\n",
       "    <tr>\n",
       "      <th>4</th>\n",
       "      <td>Some storks chose a field newly sown with whea...</td>\n",
       "      <td>Revenge will hurt the avenger.</td>\n",
       "      <td>Straws show how the wind blows.</td>\n",
       "      <td>If words suffice not, blows must follow.</td>\n",
       "      <td>Birds of a feather flock together.</td>\n",
       "      <td>It is too late to whet the sword when the trum...</td>\n",
       "      <td>2</td>\n",
       "    </tr>\n",
       "    <tr>\n",
       "      <th>...</th>\n",
       "      <td>...</td>\n",
       "      <td>...</td>\n",
       "      <td>...</td>\n",
       "      <td>...</td>\n",
       "      <td>...</td>\n",
       "      <td>...</td>\n",
       "      <td>...</td>\n",
       "    </tr>\n",
       "    <tr>\n",
       "      <th>184</th>\n",
       "      <td>A sick bull was lying in a quiet corner of the...</td>\n",
       "      <td>Evil companions bring more hurt than profit.</td>\n",
       "      <td>Better poverty without care, than riches with.</td>\n",
       "      <td>As in the body, so in the state, each member i...</td>\n",
       "      <td>Better starve free than be a fat slave.</td>\n",
       "      <td>You may share the labours of the great, but yo...</td>\n",
       "      <td>0</td>\n",
       "    </tr>\n",
       "    <tr>\n",
       "      <th>185</th>\n",
       "      <td>\"Little shrub, why don’t you do as I do and ra...</td>\n",
       "      <td>It is easy to be brave from a safe distance.</td>\n",
       "      <td>They who act without sufficient thought, will ...</td>\n",
       "      <td>Obscurity often brings safety.</td>\n",
       "      <td>Quality is better than quantity.</td>\n",
       "      <td>Example is more powerful than precept.</td>\n",
       "      <td>2</td>\n",
       "    </tr>\n",
       "    <tr>\n",
       "      <th>186</th>\n",
       "      <td>One evening, a goatherd was driving his flock ...</td>\n",
       "      <td>We should bear our troubles bravely rather tha...</td>\n",
       "      <td>Some men are of more consequence in their own ...</td>\n",
       "      <td>Old friends cannot with impunity be sacrificed...</td>\n",
       "      <td>Persuasion is better than force.</td>\n",
       "      <td>Trouble comes from the direction we least expe...</td>\n",
       "      <td>2</td>\n",
       "    </tr>\n",
       "    <tr>\n",
       "      <th>187</th>\n",
       "      <td>The lumberjack had felled an old redwood and, ...</td>\n",
       "      <td>Benefits bestowed upon the evil-disposed incre...</td>\n",
       "      <td>Misfortunes springing from ourselves are the h...</td>\n",
       "      <td>Injuries may be forgiven, but not forgotten.</td>\n",
       "      <td>Those who suffer most cry out the least.</td>\n",
       "      <td>Pleasure bought with pains, hurts.</td>\n",
       "      <td>1</td>\n",
       "    </tr>\n",
       "    <tr>\n",
       "      <th>188</th>\n",
       "      <td>Having visited places all over the world, the ...</td>\n",
       "      <td>There is no believing a liar, even when he spe...</td>\n",
       "      <td>Trust not in him that seems a saint.</td>\n",
       "      <td>Clumsy jesting is no joke.</td>\n",
       "      <td>He who does a thing well does not need to boast.</td>\n",
       "      <td>It is absurd to ape our betters.</td>\n",
       "      <td>3</td>\n",
       "    </tr>\n",
       "  </tbody>\n",
       "</table>\n",
       "<p>189 rows × 7 columns</p>\n",
       "</div>"
      ],
      "text/plain": [
       "                                                 story  \\\n",
       "0    A badger, crossing a bridge over a river with ...   \n",
       "1    A magpie dying of thirst saw a jug, and hoping...   \n",
       "2    A middle-aged man, whose hair had started gray...   \n",
       "3    Two neighbours came before Zeus and asked him ...   \n",
       "4    Some storks chose a field newly sown with whea...   \n",
       "..                                                 ...   \n",
       "184  A sick bull was lying in a quiet corner of the...   \n",
       "185  \"Little shrub, why don’t you do as I do and ra...   \n",
       "186  One evening, a goatherd was driving his flock ...   \n",
       "187  The lumberjack had felled an old redwood and, ...   \n",
       "188  Having visited places all over the world, the ...   \n",
       "\n",
       "                                               answer0  \\\n",
       "0          He who is once deceived is doubly cautious.   \n",
       "1    Grasp at the shadow and you will lose the subs...   \n",
       "2                     Little by little does the trick.   \n",
       "3                      Vices are their own punishment.   \n",
       "4                       Revenge will hurt the avenger.   \n",
       "..                                                 ...   \n",
       "184       Evil companions bring more hurt than profit.   \n",
       "185       It is easy to be brave from a safe distance.   \n",
       "186  We should bear our troubles bravely rather tha...   \n",
       "187  Benefits bestowed upon the evil-disposed incre...   \n",
       "188  There is no believing a liar, even when he spe...   \n",
       "\n",
       "                                               answer1  \\\n",
       "0    He winds up friendless who plays both sides ag...   \n",
       "1                   Birds of a feather flock together.   \n",
       "2    Those who seek to please everybody please nobody.   \n",
       "3      There is as much malice in a wink as in a word.   \n",
       "4                      Straws show how the wind blows.   \n",
       "..                                                 ...   \n",
       "184     Better poverty without care, than riches with.   \n",
       "185  They who act without sufficient thought, will ...   \n",
       "186  Some men are of more consequence in their own ...   \n",
       "187  Misfortunes springing from ourselves are the h...   \n",
       "188               Trust not in him that seems a saint.   \n",
       "\n",
       "                                               answer2  \\\n",
       "0    Grasp at the shadow and you will lose the subs...   \n",
       "1         The hero is brave in deeds as well as words.   \n",
       "2    Fine clothes may disguise, but silly words wil...   \n",
       "3    He that finds discontentment in one place is n...   \n",
       "4             If words suffice not, blows must follow.   \n",
       "..                                                 ...   \n",
       "184  As in the body, so in the state, each member i...   \n",
       "185                     Obscurity often brings safety.   \n",
       "186  Old friends cannot with impunity be sacrificed...   \n",
       "187       Injuries may be forgiven, but not forgotten.   \n",
       "188                         Clumsy jesting is no joke.   \n",
       "\n",
       "                                              answer3  \\\n",
       "0                    Little by little does the trick.   \n",
       "1               Necessity is the mother of invention.   \n",
       "2             Little friends may prove great friends.   \n",
       "3            The gods help them that help themselves.   \n",
       "4                  Birds of a feather flock together.   \n",
       "..                                                ...   \n",
       "184           Better starve free than be a fat slave.   \n",
       "185                  Quality is better than quantity.   \n",
       "186                  Persuasion is better than force.   \n",
       "187          Those who suffer most cry out the least.   \n",
       "188  He who does a thing well does not need to boast.   \n",
       "\n",
       "                                               answer4  label  \n",
       "0    Those who pretend to be what they are not, soo...      2  \n",
       "1     An ounce of prevention is worth a pound of cure.      3  \n",
       "2             One story is good, till another is told.      1  \n",
       "3    It shows an evil disposition to take advantage...      0  \n",
       "4    It is too late to whet the sword when the trum...      2  \n",
       "..                                                 ...    ...  \n",
       "184  You may share the labours of the great, but yo...      0  \n",
       "185             Example is more powerful than precept.      2  \n",
       "186  Trouble comes from the direction we least expe...      2  \n",
       "187                 Pleasure bought with pains, hurts.      1  \n",
       "188                   It is absurd to ape our betters.      3  \n",
       "\n",
       "[189 rows x 7 columns]"
      ]
     },
     "execution_count": 8,
     "metadata": {},
     "output_type": "execute_result"
    }
   ],
   "source": [
    "df = pd.DataFrame.from_dict(dataset['test'])\n",
    "df"
   ]
  },
  {
   "cell_type": "code",
   "execution_count": 10,
   "metadata": {
    "pycharm": {
     "name": "#%%\n"
    }
   },
   "outputs": [],
   "source": [
    "def select_answer(x):\n",
    "    i = x['label']\n",
    "    \n",
    "    if i == 0:\n",
    "        return x['answer0']\n",
    "    if i == 1:\n",
    "        return x['answer1']\n",
    "    if i == 2:\n",
    "        return x['answer2']\n",
    "    if i == 3:\n",
    "        return x['answer3']\n",
    "\n",
    "    return x['answer4']"
   ]
  },
  {
   "cell_type": "code",
   "execution_count": 11,
   "metadata": {
    "pycharm": {
     "name": "#%%\n"
    }
   },
   "outputs": [],
   "source": [
    "df['moral'] = df.apply(select_answer, axis=1)"
   ]
  },
  {
   "attachments": {},
   "cell_type": "markdown",
   "metadata": {
    "pycharm": {
     "name": "#%% md\n"
    }
   },
   "source": [
    "Give me a bed time stories for a child. Make the moral of the story be the following: \n",
    "\"Some men underrate their best blessings.\"\n",
    "\n",
    "Once upon a time"
   ]
  },
  {
   "cell_type": "code",
   "execution_count": 12,
   "metadata": {
    "pycharm": {
     "name": "#%%\n"
    }
   },
   "outputs": [],
   "source": [
    "start_propmt = \"Give me a bed time stories for a child. Make the moral of the story be the following: \"\n",
    "\n",
    "df['prompt'] = df['moral'].apply(lambda x: start_propmt + x + \"\\nOnce upon a time, \")"
   ]
  },
  {
   "cell_type": "code",
   "execution_count": 28,
   "metadata": {
    "pycharm": {
     "name": "#%%\n"
    }
   },
   "outputs": [],
   "source": [
    "df['train'] = df.apply(lambda x: x.prompt + x.story + \"\\n--\", axis=1)"
   ]
  },
  {
   "cell_type": "code",
   "execution_count": 29,
   "metadata": {
    "pycharm": {
     "name": "#%%\n"
    }
   },
   "outputs": [],
   "source": [
    "with open('train_morale_fabels.txt', 'w') as f:\n",
    "    f.writelines(df['train'])"
   ]
  },
  {
   "attachments": {},
   "cell_type": "markdown",
   "metadata": {
    "pycharm": {
     "name": "#%% md\n"
    }
   },
   "source": [
    "# Create long stories"
   ]
  },
  {
   "cell_type": "code",
   "execution_count": 15,
   "metadata": {
    "pycharm": {
     "name": "#%%\n"
    }
   },
   "outputs": [],
   "source": [
    "def generate(prompt):\n",
    "\n",
    "    response = co.generate(\n",
    "    model='command-xlarge-20221108',\n",
    "    prompt=prompt,\n",
    "    max_tokens=1000,\n",
    "    temperature=1.4,\n",
    "    k=300,\n",
    "    p=0.9,\n",
    "    frequency_penalty=0.25,\n",
    "    presence_penalty=0.2,\n",
    "    stop_sequences=[],\n",
    "    return_likelihoods='NONE')\n",
    "    print('Prediction: {}'.format(response.generations[0].text))\n",
    "    return response.generations[0].text"
   ]
  },
  {
   "cell_type": "code",
   "execution_count": 13,
   "metadata": {
    "pycharm": {
     "name": "#%%\n"
    }
   },
   "outputs": [
    {
     "data": {
      "text/plain": [
       "story      A badger, crossing a bridge over a river with ...\n",
       "answer0          He who is once deceived is doubly cautious.\n",
       "answer1    He winds up friendless who plays both sides ag...\n",
       "answer2    Grasp at the shadow and you will lose the subs...\n",
       "answer3                     Little by little does the trick.\n",
       "answer4    Those who pretend to be what they are not, soo...\n",
       "label                                                      2\n",
       "moral      Grasp at the shadow and you will lose the subs...\n",
       "prompt     Give me a bed time stories for a child. Make t...\n",
       "Name: 0, dtype: object"
      ]
     },
     "execution_count": 13,
     "metadata": {},
     "output_type": "execute_result"
    }
   ],
   "source": [
    "df.iloc[0]"
   ]
  },
  {
   "cell_type": "code",
   "execution_count": 16,
   "metadata": {
    "pycharm": {
     "name": "#%%\n"
    }
   },
   "outputs": [],
   "source": [
    "df['output'] = df['prompt'].apply(generate)"
   ]
  },
  {
   "cell_type": "code",
   "execution_count": 14,
   "metadata": {
    "pycharm": {
     "name": "#%%\n"
    }
   },
   "outputs": [
    {
     "name": "stderr",
     "output_type": "stream",
     "text": [
      "\u001B[93mWarning: Your text contains a trailing whitespace, which has been trimmed to ensure high quality generations.\n",
      "\u001B[0m\n"
     ]
    },
    {
     "name": "stdout",
     "output_type": "stream",
     "text": [
      "Prediction: a child's mother asked her to fetch some flour from the pantry. The child did as she was told, but when she opened the pantry door, she saw that the flour was gone! She turned to tell her mother, but saw that she was gone, too! The child then realized that she had been tricked by the flour's shadow, which had looked like her mother to her. She learned her lesson and never trust a shadow again!\n"
     ]
    },
    {
     "name": "stderr",
     "output_type": "stream",
     "text": [
      "\u001B[93mWarning: Your text contains a trailing whitespace, which has been trimmed to ensure high quality generations.\n",
      "\u001B[0m\n"
     ]
    },
    {
     "name": "stdout",
     "output_type": "stream",
     "text": [
      "Prediction: a mother had three children who were very tired and could not fall asleep. The mother decided to tell them a bed time story that would help them fall asleep. She began to tell them about a woman who was very tired and could not fall asleep. She talked about how the woman tried to fall asleep, but she just couldn't seem to do it. Finally, the mother talked about how the woman came up with a solution to her problem. She invented a way to fall asleep that involved counting sheep.\n"
     ]
    },
    {
     "name": "stderr",
     "output_type": "stream",
     "text": [
      "\u001B[93mWarning: Your text contains a trailing whitespace, which has been trimmed to ensure high quality generations.\n",
      "\u001B[0m\n"
     ]
    },
    {
     "name": "stdout",
     "output_type": "stream",
     "text": [
      "Prediction: there was a king who wanted to please his people. He did everything he could think of to make them happy. He built them houses, he gave them clothes, he fed them, he educated them. But still, they were not happy. They were always looking for more. So the king decided to try something different. He would give them a story every night before bed. And he would make the moral of the story be: Those who seek to please everybody please nobody.\n"
     ]
    },
    {
     "name": "stderr",
     "output_type": "stream",
     "text": [
      "\u001B[93mWarning: Your text contains a trailing whitespace, which has been trimmed to ensure high quality generations.\n",
      "\u001B[0m\n"
     ]
    },
    {
     "name": "stdout",
     "output_type": "stream",
     "text": [
      "Prediction: a young boy named Naughty was constantly getting into trouble. He would lie, cheat, and steal from others. His parents had finally had enough of his behavior and decided to punish him. They made him sleep in a bed of nails. Naughty thought this would be a fun game, but he quickly realized that it was not. He tried to get out of bed, but the nails were stuck in his skin. He screamed and screamed until his parents came to check on him. They saw what he had done and were so disappointed in him. They sent him to his room without dinner and told him he would have to sleep in the bed of nails for a week. Naughty was so angry that he had been punished for his vices. He thought that this was the worst thing that could ever happen to him. But he soon realized that his vices were his own punishment.\n"
     ]
    },
    {
     "name": "stderr",
     "output_type": "stream",
     "text": [
      "\u001B[93mWarning: Your text contains a trailing whitespace, which has been trimmed to ensure high quality generations.\n",
      "\u001B[0m\n"
     ]
    },
    {
     "name": "stdout",
     "output_type": "stream",
     "text": [
      "Prediction: a mother went to her baby's room to put him to sleep. She picked up his favorite stuffed animal and began to tell him a bed time story. \"Once upon a time,\" she began, \"a little boy named Jack was born. He was a very happy boy, and he loved his mother very much.\"\n",
      "\n",
      "Suddenly, Jack's mother began to cough and choke. She turned away from Jack and reached for a drink of water. Jack watched as his mother's body began to convulse. \"No, no, no!\" he cried. \"Mommy, you're okay!\"\n",
      "\n",
      "But Jack's mother was not okay. She was having a coughing fit.\n",
      "Jack tried to think of something that would make his mother feel better. \"Hey, Mommy! Let's play a game! Okay?\"\n",
      "\n",
      "But Jack's mother could not speak. She could only cough.\n",
      "Jack had to think of something else. He knew that if words did not suffice, blows must follow. He got out of bed and went to his mother's side. He placed his small hand on her back and began to rub it in circles. He could feel her body relax as the coughing fit subsided. \"Thanks, Jack,\" she said, reaching out to hug him. \"You're a good boy.\"\n",
      "As they hugged each other, Jack felt a sense of satisfaction. He had helped his mother, and he knew that if words did not suffice, blows must follow.\n"
     ]
    },
    {
     "name": "stderr",
     "output_type": "stream",
     "text": [
      "\u001B[93mWarning: Your text contains a trailing whitespace, which has been trimmed to ensure high quality generations.\n",
      "\u001B[0m\n"
     ]
    },
    {
     "name": "stdout",
     "output_type": "stream",
     "text": [
      "Prediction: there was a little birdie who was out flying around when he saw a bunch of other little birdies all flocked together. He was so excited to join them that he hurried over to them. When he got there, he realized that they were all turkeys! Ha! He had been tricked by the turkeys.\n",
      "\n",
      "The moral of the story is that birds of a feather flock together. This means that people who are similar to each other often stick together.\n"
     ]
    },
    {
     "name": "stderr",
     "output_type": "stream",
     "text": [
      "\u001B[93mWarning: Your text contains a trailing whitespace, which has been trimmed to ensure high quality generations.\n",
      "\u001B[0m\n"
     ]
    },
    {
     "name": "stdout",
     "output_type": "stream",
     "text": [
      "Prediction: there was a beautiful princess named Serenity. She was kind and gentle, and she loved animals. She also loved to read, and she had a large collection of books in her castle. One day, she was reading a book when she heard a knock at the door. She opened it to find a handsome prince named Romeo. He was very charming and very handsome, and he had a way with words. He told her that he had been looking for a wife, and he had finally found the perfect one. Serenity was shocked. She didn't know what to say. Romeo then took her hand and placed a kiss on it. She was even more shocked. He then said, \"I would like to marry you.\" Serenity was still speechless. Finally, she managed to say, \"I…I don't know. I need to think about it.\" Romeo was not deterred. He said, \"Sure, but hurry up. I've got a date with Juliet in the morning.\" With that, he turned and left. Serenity was left standing there, wondering what just happened. The moral of the story is: If you allow men to use you for your own purposes, they will use you for theirs.\n"
     ]
    },
    {
     "name": "stderr",
     "output_type": "stream",
     "text": [
      "\u001B[93mWarning: Your text contains a trailing whitespace, which has been trimmed to ensure high quality generations.\n",
      "\u001B[0m\n"
     ]
    },
    {
     "name": "stdout",
     "output_type": "stream",
     "text": [
      "Prediction: there was a rich man who had many friends. He was very happy and content with his life. However, one day he encountered some bad luck and he lost all of his money. He was very sad and depressed and he didn't know what he was going to do.\n",
      "He decided to go out and make some new friends. He went to a bar and he met a group of people who were very friendly and welcoming. They offered to help him out and they took him in. He was very grateful and he realized that he had made some good friends in prosperity.\n",
      "\n",
      "If we would like to have our friends' support in adversity, we must make friends in prosperity.\n"
     ]
    },
    {
     "name": "stderr",
     "output_type": "stream",
     "text": [
      "\u001B[93mWarning: Your text contains a trailing whitespace, which has been trimmed to ensure high quality generations.\n",
      "\u001B[0m\n"
     ]
    },
    {
     "name": "stdout",
     "output_type": "stream",
     "text": [
      "Prediction: a young boy named Peter loved to tell lies. He would lie about anything and everything, big things and small things. He lied about his age, he lied about his job, and he even lied about his name. He once told a woman he was a doctor, just so he could get her number. Another time, he claimed to be a model, just so he could get free clothes. But the thing is, Peter never meant to hurt anyone. He just liked to make people believe what he wanted them to believe.\n",
      "\n",
      "One day, Peter decided to try something different. He went to the local bookstore and picked up a book on how to tell lies. He read it cover to cover and learned all sorts of new techniques for lying. He was so excited to try them out that he went out and tried them on his friends. But when he did, he realized that all he was doing was hurting himself. The lies he was telling were just making him look bad and feel worse. He realized that the only person he was deceiving was himself.\n"
     ]
    },
    {
     "name": "stderr",
     "output_type": "stream",
     "text": [
      "\u001B[93mWarning: Your text contains a trailing whitespace, which has been trimmed to ensure high quality generations.\n",
      "\u001B[0m\n"
     ]
    },
    {
     "name": "stdout",
     "output_type": "stream",
     "text": [
      "Prediction: there was a king who loved to tell stories. He would tell stories to his subjects every night before bed. His favorite story was about a great sea monster that lived in the oceans. He would tell his subjects that the sea monster was so big that it could swallow up an entire ship. He would tell them that the sea monster was so angry that it could destroy an entire city. He would tell them that the sea monster was so powerful that it could kill an army. He would tell them that the sea monster was so smart that it could outsmart any creature.\n",
      "\n",
      "One night, the king decided to tell his subjects a story about the sea monster. He made up a story that he had heard from a traveler. He said that the traveler had seen the sea monster and that it was even bigger than he had imagined. He said that the traveler had also seen the sea monster's home, and that it was even more amazing than he had thought. He ended the story by saying that the traveler had also seen the sea monster's girlfriend, and that she was even prettier than he had imagined.\n",
      "\n",
      "The king's subjects were so amazed by the story that they believed it to be true. They began to tell their friends and family members about the sea monster, and everyone soon became obsessed with it. The king was so happy that his story had been so successful that he decided to tell his subjects a new story about the sea monster every night.\n"
     ]
    },
    {
     "name": "stderr",
     "output_type": "stream",
     "text": [
      "\u001B[93mWarning: Your text contains a trailing whitespace, which has been trimmed to ensure high quality generations.\n",
      "\u001B[0m\n"
     ]
    },
    {
     "name": "stdout",
     "output_type": "stream",
     "text": [
      "Prediction: there was a little boy named John who always wanted to be a good example to his friends and family. He would always try his best to follow the Golden Rule and to be a light to others. One day, John's mom asked him to clean up his room as a part of his chores. He did so happily, but when he was finished, he realized that he had forgotten to dust the blinds. He went to get the dusting cloth and began to wipe down the blinds, but he was having a hard time reaching some of the higher ones. So, he got out his stepstool and climbed up to the highest blinds. He could see that there were still some streaks of dust left, so he got down and got the cloth wet with his tongue. He then began to wipe down the blinds again, but this time he was able to reach all of the dusty spots. When he was finished, he realized that he had been a very good example to his mother and that he had done a very good job.\n"
     ]
    },
    {
     "name": "stderr",
     "output_type": "stream",
     "text": [
      "\u001B[93mWarning: Your text contains a trailing whitespace, which has been trimmed to ensure high quality generations.\n",
      "\u001B[0m\n"
     ]
    },
    {
     "name": "stdout",
     "output_type": "stream",
     "text": [
      "Prediction: there was a little girl named Alice. She lived in a small town in the middle of nowhere. One day, she came across a talking rabbit who told her that he was late for a very important date. Alice offered to help him find his way, and together they set off on a journey through the woods. Along the way, they came across many strange creatures and places, but they always did the right thing at the right time. In the end, they found the rabbit's date, and he was so grateful to Alice that he gave her a present.\n",
      "\n",
      "The moral of the story is that it is a great art to do the right thing at the right season.\n"
     ]
    },
    {
     "name": "stderr",
     "output_type": "stream",
     "text": [
      "\u001B[93mWarning: Your text contains a trailing whitespace, which has been trimmed to ensure high quality generations.\n",
      "\u001B[0m\n"
     ]
    },
    {
     "name": "stdout",
     "output_type": "stream",
     "text": [
      "Prediction: there was a king who had four sons. He loved all his sons equally, but he had to choose one of them to be his successor. He consulted his advisors, but they could not come to a decision. Finally, he decided to let his sons decide for themselves. He called them all together and told them that he would give the kingdom to the one who was most satisfied with his lot.\n",
      "The eldest son was the first to speak. He said that he was satisfied with his lot and did not want to be king. The second son spoke next. He said that he was also satisfied with his lot and did not want to be king. The third son spoke last. He said that he was the most satisfied with his lot and would like to be king.\n",
      "The king was surprised by his son's response. He had not expected him to want to be king. However, he realized that his son was right. Satisfaction is better than desire.\n"
     ]
    },
    {
     "name": "stderr",
     "output_type": "stream",
     "text": [
      "\u001B[93mWarning: Your text contains a trailing whitespace, which has been trimmed to ensure high quality generations.\n",
      "\u001B[0m\n"
     ]
    },
    {
     "name": "stdout",
     "output_type": "stream",
     "text": [
      "Prediction: there was a child who loved to play with her toys. She had so many toys that she sometimes forgot which ones she had already played with. One day, she decided to clean up her room and put away all of her toys. She worked hard all day long and finally got everything cleaned up. She was so proud of herself for working so hard and getting the job done.\n"
     ]
    },
    {
     "name": "stderr",
     "output_type": "stream",
     "text": [
      "\u001B[93mWarning: Your text contains a trailing whitespace, which has been trimmed to ensure high quality generations.\n",
      "\u001B[0m\n"
     ]
    },
    {
     "name": "stdout",
     "output_type": "stream",
     "text": [
      "Prediction: there was a kingdom ruled by a king and queen. The king was very happy because he had just been able to defeat his enemy. He had been planning for years to take over the kingdom next door, and finally he had done it. He was so proud of himself that he decided to make a promise to his queen.\n",
      "\n",
      "\"My queen,\" he said, \"I promise that I will never again go to war. I am done with fighting.\"\n",
      "The queen was so happy that her husband had finally made a decision to stop fighting. She had been begging him for years to stop, and finally she had succeeded. She leaned in to kiss him, but he turned his head away.\n",
      "\n",
      "\"What's wrong, my king?\" she asked.\n",
      "\n",
      "\"I'm just looking at our son,\" he replied. \"I promised him I would never go to war again, and I don't want to break my promise.\"\n"
     ]
    },
    {
     "name": "stderr",
     "output_type": "stream",
     "text": [
      "\u001B[93mWarning: Your text contains a trailing whitespace, which has been trimmed to ensure high quality generations.\n",
      "\u001B[0m\n"
     ]
    },
    {
     "name": "stdout",
     "output_type": "stream",
     "text": [
      "Prediction: there was a girl who lived in a small town. She was born and raised there, and she knew everyone. She was friendly with all of her neighbors, and she was always willing to help them out. She was a very happy girl, and she loved her life.\n",
      "One day, she met a boy from out of town. He was new to the area, and he was just as friendly as the girl. They became fast friends and did everything together.\n",
      "However, over time, the girl began to feel as if she were being replaced. The boy was always the center of attention, and the girl was left feeling like a third wheel. She began to hate him, and she wanted him gone.\n",
      "One day, the boy left town, never to be seen again. The girl was relieved and happy to be rid of him. She never wanted to see him again.\n"
     ]
    },
    {
     "name": "stderr",
     "output_type": "stream",
     "text": [
      "\u001B[93mWarning: Your text contains a trailing whitespace, which has been trimmed to ensure high quality generations.\n",
      "\u001B[0m\n"
     ]
    },
    {
     "name": "stdout",
     "output_type": "stream",
     "text": [
      "Prediction: a little boy named Jack lived in a small town. He was always so willing to help out his friends and neighbors, and everyone in town loved him.\n",
      "\n",
      "One day, a local politician came to town and gave a speech about how much he loved the people there. Jack's friends and family were so impressed by his speech that they decided to vote for him in the upcoming election.\n",
      "\n",
      "However, when the election came around, Jack's friends and family realized that the politician was actually quite evil. He was cheating on his wife, lying to his constituents, and generally making a mess of things.\n",
      "\n",
      "So, the next time you hear a politician giving a speech, just remember that you can never be sure what they're really thinking.\n"
     ]
    },
    {
     "name": "stderr",
     "output_type": "stream",
     "text": [
      "\u001B[93mWarning: Your text contains a trailing whitespace, which has been trimmed to ensure high quality generations.\n",
      "\u001B[0m\n"
     ]
    },
    {
     "name": "stdout",
     "output_type": "stream",
     "text": [
      "Prediction: there was a kingdom that was being invaded by an enemy. The king called upon his people to defend the kingdom. However, one of the king's trusted advisors gave the enemy the plans to the kingdom's defenses. The enemy used these plans to easily defeat the king and his people. The advisor was later found out and executed for his betrayal.\n",
      "\n",
      "They are foolish who give their enemy the means of destroying them.\n"
     ]
    },
    {
     "name": "stderr",
     "output_type": "stream",
     "text": [
      "\u001B[93mWarning: Your text contains a trailing whitespace, which has been trimmed to ensure high quality generations.\n",
      "\u001B[0m\n"
     ]
    },
    {
     "name": "stdout",
     "output_type": "stream",
     "text": [
      "Prediction: a man named Jack was very tired and wanted to go to bed. He told his wife, \"I'm going to bed early tonight because I'm so tired.\" His wife replied, \"Okay, I'll let you know when it's time to wake up.\"\n",
      "\n",
      "So Jack went to bed and fell asleep. He was awoken by his wife an hour later. \"It's time to wake up, Jack,\" she said.\n",
      "\"What? No way! I just fell asleep!\"\n",
      "\"Sure, Jack. Go back to sleep.\"\n"
     ]
    },
    {
     "name": "stderr",
     "output_type": "stream",
     "text": [
      "\u001B[93mWarning: Your text contains a trailing whitespace, which has been trimmed to ensure high quality generations.\n",
      "\u001B[0m\n"
     ]
    },
    {
     "name": "stdout",
     "output_type": "stream",
     "text": [
      "Prediction: a young boy named Bobby was walking home from getting ice cream with his friends when he ran into a strange man. The man was wearing a long black cloak and had a wide-brimmed hat pulled down over his eyes. Bobby could see that the man's eyes were beady and bright, like two flashlights shining in the dark.\n",
      "\n",
      "\"Hey, kid,\" the man said, \"I'm sorry to hear about your dad. He was a good man.\"\n",
      "\n",
      "Bobby's eyes got wide. \"What did you say?\"\n",
      "\n",
      "\"I said I'm sorry to hear about your dad. He was a good man.\"\n",
      "\n",
      "Bobby shook his head. \"You're lying. My dad was a great man.\"\n",
      "\n",
      "The man put his hand on Bobby's shoulder. \"I'm very sorry for your loss, son.\"\n",
      "\n",
      "Bobby's heart was pounding so hard he thought it might burst. He yanked his shoulder away from the man and took a step back. \"Don't you touch me!\" he shouted. \"I know you're lying!\"\n",
      "If you ever feel like you need to trust someone's advice, always remember that it's better to be safe than sorry.\n"
     ]
    },
    {
     "name": "stderr",
     "output_type": "stream",
     "text": [
      "\u001B[93mWarning: Your text contains a trailing whitespace, which has been trimmed to ensure high quality generations.\n",
      "\u001B[0m\n"
     ]
    },
    {
     "name": "stdout",
     "output_type": "stream",
     "text": [
      "Prediction: there was a little girl who was so excited to go out and play in the snow. She had been waiting all day for her parents to finally let her go, and when they did, she ran out the door and straight into a big pile of snow. She screamed and laughed and rolled around in the snow until she was completely covered. Then, she made a snow fort and had a blast playing in it. But when the time came to go inside and get ready for bed, she realized that she was missing her favorite stuffed animal, Oscar the Owl. She searched high and low, but he was nowhere to be found. Finally, she decided to try something different. She got down on her knees and started searching again. And that's when she saw him. Oscar was lying right there, right under her nose. She had been so focused on looking up that she never even saw him sitting there all along. She picked him up and hugged him tight, grateful that she had stooped to conquer.\n"
     ]
    },
    {
     "name": "stderr",
     "output_type": "stream",
     "text": [
      "\u001B[93mWarning: Your text contains a trailing whitespace, which has been trimmed to ensure high quality generations.\n",
      "\u001B[0m\n"
     ]
    },
    {
     "name": "stdout",
     "output_type": "stream",
     "text": [
      "Prediction: there was a girl named Elizabeth who had a very best friend named John. John was always there for Elizabeth and made her feel so special. He would do anything for her, and she felt like she could really trust him.\n",
      "One day, Elizabeth's mom asked her to run an errand for her. Elizabeth was happy to do it and excited to tell John about her adventure later. She ran into town and went to the store, but when she came back, John was nowhere to be found. She looked all over for him, but he was just gone.\n",
      "Elizabeth was so disappointed and hurt that John had just up and left her like that. She knew she couldn't trust him anymore.\n",
      "No one can be a friend if you know not whether to trust or distrust him.\n"
     ]
    },
    {
     "name": "stderr",
     "output_type": "stream",
     "text": [
      "\u001B[93mWarning: Your text contains a trailing whitespace, which has been trimmed to ensure high quality generations.\n",
      "\u001B[0m\n"
     ]
    },
    {
     "name": "stdout",
     "output_type": "stream",
     "text": [
      "Prediction: there was a little boy who loved sweets. He would have sweets for breakfast, lunch, and dinner if he could. His mother would try to get him to eat something else, but he would just sneer and say, \"I don't like that.\"\n",
      "\n",
      "One day, the little boy's uncle came to visit. He brought the boy a bag full of sweets. The boy was so happy! He ate all the sweets in the bag. Then he asked his uncle for more. His uncle shook his head and said, \"No more.\" The boy was so disappointed. He had wanted more sweets, but his uncle had said no.\n",
      "\n",
      "The next day, the boy's mother took him to the park to play. He had so much fun playing with his friends that he forgot about the sweets. He even ate a healthy sandwich for lunch. When he got home, his mother told him that he had been such a good boy today that he deserved a reward. She gave him a bag of sweets. The boy was so happy! He had gotten what he wanted after all.\n",
      "\n",
      "The moral of the story is that greed often overreaches itself.\n"
     ]
    },
    {
     "name": "stderr",
     "output_type": "stream",
     "text": [
      "\u001B[93mWarning: Your text contains a trailing whitespace, which has been trimmed to ensure high quality generations.\n",
      "\u001B[0m\n"
     ]
    },
    {
     "name": "stdout",
     "output_type": "stream",
     "text": [
      "Prediction: a hard-working young man named Bob decided he'd had enough of his current job and wanted a change. He decided to try his hand at making shoes, since he'd always been good with his hands. He set up a little shop in his house and went to work. At first, things were tough and he struggled to make ends meet. But then, one day, a well-known TV show came to town to film a segment on his little shop. Bob was so excited that he made sure his shop was spotless and that he had a great selection of shoes to choose from. When the TV crew arrived, they were so impressed by Bob's work that they featured him on the show. Bob was thrilled and his business began to boom. He was able to hire more employees and buy more supplies. He was able to expand his business and sell his shoes to stores all over the world. Bob's hard work had paid off in a big way.\n"
     ]
    },
    {
     "name": "stderr",
     "output_type": "stream",
     "text": [
      "\u001B[93mWarning: Your text contains a trailing whitespace, which has been trimmed to ensure high quality generations.\n",
      "\u001B[0m\n"
     ]
    },
    {
     "name": "stdout",
     "output_type": "stream",
     "text": [
      "Prediction: there was a village where all the residents were friends. They got together every day to chat and laugh and enjoy each other's company. But one day, a new family moved into the village and they were not as friendly as the rest of the villagers. They didn't laugh or chat or enjoy each other's company. In fact, they were quite rude and even started fights with the other villagers. The whole village was worried about these new residents and what they might do next.\n",
      "One day, the village decided to have a meeting to discuss the issue. They all gathered in the town hall and talked about how they felt and what they thought should be done. Some of the villagers were in favor of throwing the new family out of the village while others were in favor of giving them a chance to improve their behavior. In the end, they decided to give the new family a chance to change their ways. They made a pact to always try to get along with each other and to never start any more fights.\n",
      "\n",
      "The moral of the story is that he who incites to strife is worse than he who takes part in it.\n"
     ]
    },
    {
     "name": "stderr",
     "output_type": "stream",
     "text": [
      "\u001B[93mWarning: Your text contains a trailing whitespace, which has been trimmed to ensure high quality generations.\n",
      "\u001B[0m\n"
     ]
    },
    {
     "name": "stdout",
     "output_type": "stream",
     "text": [
      "Prediction: there was a man who was very lazy. He always blamed his more active friend for causing him to be late. One day, the active friend decided to teach the loiterer a lesson. He challenged the loiterer to a race. The loiterer accepted the challenge and they both began to race. The active friend ran as fast as he could, but the loiterer just loitered along. The active friend reached the finish line first and the loiterer was forced to admit that he had been defeated. He then realized that it was his own laziness that had caused him to lose the race and he vowed to change his ways.\n"
     ]
    },
    {
     "name": "stderr",
     "output_type": "stream",
     "text": [
      "\u001B[93mWarning: Your text contains a trailing whitespace, which has been trimmed to ensure high quality generations.\n",
      "\u001B[0m\n"
     ]
    },
    {
     "name": "stdout",
     "output_type": "stream",
     "text": [
      "Prediction: there was a little boy named Billy. He was playing in his room with his toys when he suddenly heard his mom yell \"Billy, come here!\". He knew he was in trouble, so he quickly got up and went to his mom. When he got there, he saw that his sister had thrown his favorite toy truck out the window. He began to cry and ran to his room. His mom followed him and asked him what happened. He told her that his sister had thrown his toy truck out the window and he didn't know why. His mom comforted him and told him that she would help him get his truck back. She then went to speak to his sister about what had happened. When she came back, she had his truck in her hand. She handed it to Billy and told him that his sister had realized how much he loved his truck and so she had gotten it back for him. Billy was so happy to have his truck back and he knew that his mom had really helped him.\n"
     ]
    },
    {
     "name": "stderr",
     "output_type": "stream",
     "text": [
      "\u001B[93mWarning: Your text contains a trailing whitespace, which has been trimmed to ensure high quality generations.\n",
      "\u001B[0m\n"
     ]
    },
    {
     "name": "stdout",
     "output_type": "stream",
     "text": [
      "Prediction: a little girl named Goldilocks sneaked into the house of a family of bears while they were out for a walk. She was excited to see what the inside of their home looked like, but when she got there, she found that the bears had just returned from a trip to the city and they were very tired. Goldilocks ran through the house, laughing and singing as she went. She climbed onto the bed of one of the bears and began to bounce up and down, excited to have found such a fun place to play.\n",
      "\n",
      "Suddenly, Goldilocks heard a deep growl come from the other room and she knew that one of the bears had woken up. She tried to quieten her laughter, but it only got louder as she bounced higher and higher. The growling got louder too, and Goldilocks realized that the bear was coming to get her. She screamed as the bear reached her, but it was too late. The bear clamped its jaws around her head and began to shake her violently. Goldilocks screamed and screamed, but it was no use. Then, just as the bear was about to kill her, Goldilocks bit down on its leg and it let her go. Goldilocks ran out the door and into the woods, where she knew the bears would never find her.\n"
     ]
    },
    {
     "name": "stderr",
     "output_type": "stream",
     "text": [
      "\u001B[93mWarning: Your text contains a trailing whitespace, which has been trimmed to ensure high quality generations.\n",
      "\u001B[0m\n"
     ]
    },
    {
     "name": "stdout",
     "output_type": "stream",
     "text": [
      "Prediction: there was a little girl who always wanted to be a princess. She would wear her tiara and dress up in her ball gown all day long. She even went so far as to dream about her prince charming coming to sweep her off her feet. One day, she was out playing in her yard when she saw a huge cloud of dust billowing towards her. She quickly ran inside to avoid the storm. When the dust finally settled, she realized that it had been a giant marshmallow!\n"
     ]
    },
    {
     "name": "stderr",
     "output_type": "stream",
     "text": [
      "\u001B[93mWarning: Your text contains a trailing whitespace, which has been trimmed to ensure high quality generations.\n",
      "\u001B[0m\n"
     ]
    },
    {
     "name": "stdout",
     "output_type": "stream",
     "text": [
      "Prediction: there was a little boy named Johnny who loved to play with his toys. He would spend hours every day playing with his toy cars, his legos, and his stuffed animals. He was always so happy and content.\n",
      "One day, Johnny's mom came into his room and sat down on the bed next to him. She started to talk to him about how he was growing up and how he needed to start acting more like a big boy. She told him that he needed to start putting away his toys and stop playing with them all the time.\n",
      "Johnny didn't like what he was hearing. He knew that he was still a little boy and he didn't want to have to stop playing with his toys. He started to cry and his mom tried to comfort him.\n",
      "\"Johnny, I know you don't want to hear this, but you need to start acting like a big boy. I'm not saying you can never play with your toys again, but you need to start putting them away when you're done playing with them. Okay?\"\n",
      "Johnny reluctantly agreed and began to put away his toys. He was still allowed to play with them, just not all the time. As he got older, he became more responsible and began to put away his toys before he started to play with them.\n"
     ]
    },
    {
     "name": "stderr",
     "output_type": "stream",
     "text": [
      "\u001B[93mWarning: Your text contains a trailing whitespace, which has been trimmed to ensure high quality generations.\n",
      "\u001B[0m\n"
     ]
    },
    {
     "name": "stdout",
     "output_type": "stream",
     "text": [
      "Prediction: a little girl named Elizabeth loved to play with her toys. She had a special toy chest where she kept all of her favorite things. One day, Elizabeth's mother asked her to clean up her room and put her toys away. Elizabeth was very happy to do this, as she knew that her mother loved her and wanted her to be tidy. When Elizabeth was done cleaning up her room, she went to her toy chest to put away her last few toys. But wait! She realized that she had forgotten to put away her favorite toy, a stuffed bear named Beany. She quickly put Beany into her toy chest and closed the lid, satisfied that she had done a good job.\n",
      "\n",
      "Elizabeth's mother came into her room later that night to say goodnight. She smiled at Elizabeth and then leaned over to give her a kiss. \"Goodnight, Elizabeth. I love you.\" Elizabeth smiled back and then closed her eyes, satisfied that she had done a good job.\n"
     ]
    },
    {
     "name": "stderr",
     "output_type": "stream",
     "text": [
      "\u001B[93mWarning: Your text contains a trailing whitespace, which has been trimmed to ensure high quality generations.\n",
      "\u001B[0m\n"
     ]
    },
    {
     "name": "stdout",
     "output_type": "stream",
     "text": [
      "Prediction: there was a little girl who was very sad. Her father had just died, and she was left alone in the world. She was very poor, and she had no idea how she would survive.\n",
      "One day, she met a woman who was also very sad. Her husband had just left her, and she was heartbroken. The woman told the little girl that she could come and live with her. She said that she would take care of the little girl and help her to grow up happy and strong.\n",
      "The little girl was very grateful to the woman. She knew that she had been given a great gift. From then on, she always tried to turn her circumstances to good account.\n"
     ]
    },
    {
     "name": "stderr",
     "output_type": "stream",
     "text": [
      "\u001B[93mWarning: Your text contains a trailing whitespace, which has been trimmed to ensure high quality generations.\n",
      "\u001B[0m\n"
     ]
    },
    {
     "name": "stdout",
     "output_type": "stream",
     "text": [
      "Prediction: a young boy named Tommy wanted to help his mother clean the house. He grabbed a broom and started to sweep the floor. He worked hard for hours, until the job was done. His mother was so proud of him that she gave him a hug. She also gave him a piece of advice: \"Tommy, whatever you do, do with all your might.\"\n",
      "\n",
      "Tommy took her advice to heart and became a very successful man. He always did his best at whatever he did, and he eventually became the president of a company. He never forgot his mother's advice, and he always did his best in everything he did.\n"
     ]
    },
    {
     "name": "stderr",
     "output_type": "stream",
     "text": [
      "\u001B[93mWarning: Your text contains a trailing whitespace, which has been trimmed to ensure high quality generations.\n",
      "\u001B[0m\n"
     ]
    },
    {
     "name": "stdout",
     "output_type": "stream",
     "text": [
      "Prediction: a little boy named Johnny was playing in his room when he heard his mother yelling at his father in the kitchen. Johnny crept to the door to listen, and he heard his mother say, \"I'm so tired of your lies! I know you're cheating on me, and I'm going to prove it!\"\n",
      "\n",
      "Johnny was shocked. He knew his father was cheating on his mother, but he had never heard his mother talk about it before. He quickly ran to his room and closed the door, afraid that he might be caught eavesdropping. He lay in bed, heart pounding, as he tried to make sense of what he had heard. He knew that his mother was probably just trying to protect herself and her family, but he couldn't help but feel like she was accusing his father of something he didn't do.\n",
      "If you were Johnny, how would you feel?\n",
      "\n",
      "Johnny would feel scared and confused. He didn't know what he should believe, or who he could trust. He lay in bed, trying to fall asleep, but he could feel his mother's words ricochet around in his head. Finally, he dozed off, but he awoke a few hours later to the sound of his parents arguing again. He groggily got out of bed and went to the kitchen to see if they were okay. When he opened the door, he saw his father putting on his coat, while his mother sat at the kitchen table, crying.\n",
      "\n",
      "Johnny didn't know what to say. He just stood there, watching them. Finally, his father kissed his mother's forehead and said, \"I'm going to go to the office for a few hours. I'll be back soon.\"\n",
      "\n",
      "Johnny was relieved to see that they were both okay. He went back to his room and fell asleep, but he awoke a few hours later to the sound of his parents arguing again. He groggily got out of bed and went to the kitchen to see if they were okay. When he opened the door, he saw his father putting on his coat, while his mother sat at the kitchen table, crying.\n",
      "\n",
      "Johnny didn't know what to say. He just stood there, watching them. Finally, his father kissed his mother's forehead and said, \"I'm going to go to the office for a few hours. I'll be back soon.\"\n"
     ]
    },
    {
     "name": "stderr",
     "output_type": "stream",
     "text": [
      "\u001B[93mWarning: Your text contains a trailing whitespace, which has been trimmed to ensure high quality generations.\n",
      "\u001B[0m\n"
     ]
    },
    {
     "name": "stdout",
     "output_type": "stream",
     "text": [
      "Prediction: there was a little boy named Jack who was just as naughty as he could be. He loved to play tricks on his classmates and even his own family. One day, he decided to play a trick on his mother. He put a piece of bread in her shoe and when she went to take it out, he screamed, \"There's a mouse in your shoe!\" His mother looked down and sure enough, there was a mouse in her shoe. She screamed and jumped up and down on the bed. Finally, Jack's father came in and asked what was going on. Jack told him about the bread in his mother's shoe and how he had scared her. His father shook his head and said, \"You're going to have to learn to behave yourself, Jack. These are just the sorts of things that naughty children do.\"\n",
      "\n",
      "Naughty children are like that because they choose to be like that. If you choose to be good, then you will be good. But if you choose to be naughty, then you will be naughty.\n"
     ]
    },
    {
     "name": "stderr",
     "output_type": "stream",
     "text": [
      "\u001B[93mWarning: Your text contains a trailing whitespace, which has been trimmed to ensure high quality generations.\n",
      "\u001B[0m\n"
     ]
    },
    {
     "name": "stdout",
     "output_type": "stream",
     "text": [
      "Prediction: there was a little girl named Goldilocks. She had long, golden hair and bright green eyes. She was a very happy little girl, always laughing and playing games. One day, she went for a walk in the forest and came across a small house. She could see that the front door was open, so she wandered inside. There, she met a family of three bears who were just sitting down to dinner. Goldilocks was so excited to see them that she sat down right next to them and started eating their food. The bears were not very happy about this, but they let her stay.\n",
      "\n",
      "The next day, Goldilocks went back to the forest and met up with the three bears again. This time, she was able to help them with their daily chores. She watered the plants, picked the fruit, and even milked the cows. The bears were so happy with her help that they decided to keep her as their own. Goldilocks was so happy to have found a new family that she never left their side.\n",
      "\n",
      "The moral of this story is that regardless of our wishes, or even our intent, it is to our nature alone that we will be faithful.\n"
     ]
    },
    {
     "name": "stderr",
     "output_type": "stream",
     "text": [
      "\u001B[93mWarning: Your text contains a trailing whitespace, which has been trimmed to ensure high quality generations.\n",
      "\u001B[0m\n"
     ]
    },
    {
     "name": "stdout",
     "output_type": "stream",
     "text": [
      "Prediction: there was a selfish child who didn't want to share his toys with anyone. He was always so tired when it was time for bed, but he just couldn't fall asleep because he was thinking about his toys and how he didn't want to let anyone play with them. One night, he finally fell asleep and had a dream that he was being chased by a giant spider. He screamed and screamed until he finally woke up. When he realized it was just a dream, he realized how selfish he had been and how it had made him feel. He decided to start sharing his toys with everyone from then on.\n"
     ]
    },
    {
     "name": "stderr",
     "output_type": "stream",
     "text": [
      "\u001B[93mWarning: Your text contains a trailing whitespace, which has been trimmed to ensure high quality generations.\n",
      "\u001B[0m\n"
     ]
    },
    {
     "name": "stdout",
     "output_type": "stream",
     "text": [
      "Prediction: there was a little boy named Tommy. He was a very sweet little boy, but he was also a bit of a rascal. One day, he decided to run away from home. He packed his bag and left without telling anyone. He ran and ran until he finally reached the city. He was so tired, but he knew he was finally free. He curled up in a doorway and fell asleep. When he woke up, he saw a group of men standing around him. They were laughing and pointing at him. Tommy was so confused. He didn't know what they were talking about. One of the men kicked him in the back and he fell to the ground. Tommy cried and cried. He was so tired and so hungry. He got back up and kept walking. He didn't know where he was going, but he had to keep walking. He walked and walked until he finally saw a sign for a nearby shelter. He knew he was safe there.\n"
     ]
    },
    {
     "name": "stderr",
     "output_type": "stream",
     "text": [
      "\u001B[93mWarning: Your text contains a trailing whitespace, which has been trimmed to ensure high quality generations.\n",
      "\u001B[0m\n"
     ]
    },
    {
     "name": "stdout",
     "output_type": "stream",
     "text": [
      "Prediction: a king and his wife were sleeping in their bedroom when they heard a noise outside. They both got up to investigate, and when they opened the door, they saw a flatter standing there. The flatter had been waiting outside the door for hours, and when he saw the king and his wife, he knew he was finally in. He told them that he had been sent by the queen to kill the king, and that he would do so if they didn't give him the keys to the kingdom. The king and his wife were shocked, but they quickly realized that the flatter was not to be trusted. They refused to give him the keys, and they called for help. When the guards came, they arrested the flatter and sent him to jail. The king and his wife were safe, and they never forgot the lesson they learned that night: flatters are not to be trusted.\n"
     ]
    },
    {
     "name": "stderr",
     "output_type": "stream",
     "text": [
      "\u001B[93mWarning: Your text contains a trailing whitespace, which has been trimmed to ensure high quality generations.\n",
      "\u001B[0m\n"
     ]
    },
    {
     "name": "stdout",
     "output_type": "stream",
     "text": [
      "Prediction: there was a little girl named Goldilocks who loved to play games. She would spend hours upon hours each day playing games with her friends. Her favorite game was called \"The Three Bears.\" In this game, she would pretend to be Goldilocks and her friends would pretend to be the three bears. They would take turns telling each other's fortunes and acting out the story of Goldilocks and the three bears.\n",
      "\n",
      "One day, Goldilocks' mother called her into the kitchen for dinner. Goldilocks was so caught up in her game that she didn't even notice her mother until she was right in front of her.\n",
      "\"Goldilocks, dinner's ready!,\" her mother exclaimed.\n",
      "Goldilocks quickly turned off her game and sat down at the table. She was so hungry that she wolfed down her dinner in no time.\n",
      "After dinner, Goldilocks asked her mother if she could play \"The Three Bears\" again. Her mother sighed and said, \"Goldilocks, you've been playing that game for hours each day. I think it's time you tried something new.\"\n",
      "Goldilocks looked at her mother with pleading eyes.\n",
      "\"Goldilocks, I'm sorry. I'll play with you for an hour, but then I need you to try something else.\"\n",
      "Goldilocks was so happy that she had won her argument that she completely forgot about the other thing her mother had said.\n",
      "An hour later, Goldilocks' mother came to get her again. This time, she was wearing her robe and slippers and had a tired look on her face.\n",
      "\"Goldilocks, it's time for bed,\" she said.\n",
      "\"But I don't want to go to bed!\" Goldilocks protested.\n",
      "\"Sweetie, I've been up since early this morning. I need to get some rest,\" her mother said.\n",
      "\"Fine, I'll go to bed. But I'm still going to play 'The Three Bears' tomorrow!\"\n",
      "\n",
      "Men often bear little grievances with less courage than they do large misfortunes.\n"
     ]
    },
    {
     "name": "stderr",
     "output_type": "stream",
     "text": [
      "\u001B[93mWarning: Your text contains a trailing whitespace, which has been trimmed to ensure high quality generations.\n",
      "\u001B[0m\n"
     ]
    },
    {
     "name": "stdout",
     "output_type": "stream",
     "text": [
      "Prediction: there was a little girl who loved to help people. She would always try to do good deeds for others, and she always seemed to succeed. One day, she decided to help a little boy who was crying because he had lost his favorite toy. She found the toy in the trash can and gave it back to him. The little boy was so happy that he thanked the little girl with all his heart.\n",
      "\n",
      "One good turn deserved another, the little boy learned, and he went on to do many more good things for people. The little girl's simple act of kindness had started a chain reaction of goodness that spread far and wide.\n"
     ]
    },
    {
     "name": "stderr",
     "output_type": "stream",
     "text": [
      "\u001B[93mWarning: Your text contains a trailing whitespace, which has been trimmed to ensure high quality generations.\n",
      "\u001B[0m\n"
     ]
    },
    {
     "name": "stdout",
     "output_type": "stream",
     "text": [
      "Prediction: there was a little boy who was very unhappy. He didn't like his room, he didn't like his bed, and he didn't like his stuffed animals. He wanted a new room, a new bed, and new stuffed animals. His mother tried to comfort him, but he didn't want her help. He just wanted to be happy.\n",
      "\n",
      "One day, he decided to clean his room and make his bed. He found that he actually liked his room and his bed when they were clean. He also realized that he still loved his stuffed animals. He had just been looking for happiness in the wrong places.\n"
     ]
    },
    {
     "name": "stderr",
     "output_type": "stream",
     "text": [
      "\u001B[93mWarning: Your text contains a trailing whitespace, which has been trimmed to ensure high quality generations.\n",
      "\u001B[0m\n"
     ]
    },
    {
     "name": "stdout",
     "output_type": "stream",
     "text": [
      "Prediction: a child named Jaden was caught in a thunderstorm while he was out playing. He ran inside to his mother, who was taking a nap. He told her that he was scared and she said, \"why don't you try to think of something that will make you feel better?\" Jaden thought for a minute and then he said, \"I know! I'll count to ten and then I'll feel better.\" His mother smiled and nodded. Jaden began to count and soon he felt better.\n"
     ]
    },
    {
     "name": "stderr",
     "output_type": "stream",
     "text": [
      "\u001B[93mWarning: Your text contains a trailing whitespace, which has been trimmed to ensure high quality generations.\n",
      "\u001B[0m\n"
     ]
    },
    {
     "name": "stdout",
     "output_type": "stream",
     "text": [
      "Prediction: a mother bear and her two cubs were taking a crap in the woods when they were suddenly attacked by a group of wolves. The mother bear fought back as best she could, but it was only a matter of time before she was overpowered and killed. Her two cubs were also killed by the wolves.\n",
      "\n",
      "The moral of this story is that you should never trust your enemy, even if they seem to be friendly.\n"
     ]
    },
    {
     "name": "stderr",
     "output_type": "stream",
     "text": [
      "\u001B[93mWarning: Your text contains a trailing whitespace, which has been trimmed to ensure high quality generations.\n",
      "\u001B[0m\n"
     ]
    },
    {
     "name": "stdout",
     "output_type": "stream",
     "text": [
      "Prediction: a young man went to a tailor to get his suit measured. The tailor was an old man with a long beard who spoke in a very strange voice. The young man was quite startled by the sound of his voice but he tried his best to understand what the tailor was saying. Finally, after a great deal of effort, he managed to make out that the tailor was telling him to come back the next day for his suit. The young man was very disappointed as he had hoped to get his suit measured and leave right away. But he realized that the old tailor was probably just having a bad day and so he decided to humor him. He told the old man that he would come back the next day, even if he didn't really plan to. And sure enough, when the young man came back the next day, the old tailor was in a much better mood and he measured the young man's suit without any trouble.\n"
     ]
    },
    {
     "name": "stderr",
     "output_type": "stream",
     "text": [
      "\u001B[93mWarning: Your text contains a trailing whitespace, which has been trimmed to ensure high quality generations.\n",
      "\u001B[0m\n"
     ]
    },
    {
     "name": "stdout",
     "output_type": "stream",
     "text": [
      "Prediction: there was a mother who wanted to teach her son about the importance of kindness. She told him a bed time story about a king who was very kind to his people. The king would give gifts to his subjects and never expect anything in return. He was always happy just to see his people happy.\n",
      "\n",
      "One day, the king decided to test his people's kindness. He went out into the streets and started giving away money to anyone who would take it. Some people were grateful and took the money, while others were ungrateful and turned away.\n",
      "\n",
      "The king was happy to see that his people were still kind, even when he was being kind to them. But he also realized that there was still room for improvement. He decided to continue being kind to his people, but he would also start expecting a little bit of kindness in return.\n"
     ]
    },
    {
     "name": "stderr",
     "output_type": "stream",
     "text": [
      "\u001B[93mWarning: Your text contains a trailing whitespace, which has been trimmed to ensure high quality generations.\n",
      "\u001B[0m\n"
     ]
    },
    {
     "name": "stdout",
     "output_type": "stream",
     "text": [
      "Prediction: there was a town where everyone was very sick with the flu. The doctor in town had a special medicine that he made from his own mixture of herbs. He told the townspeople that his medicine would make them feel better. They all took his medicine and within a day, they all felt better. The doctor was a hero in the town.\n",
      "\n",
      "However, the doctor's medicine did not cure the flu. It just made people feel better for a little while. The townspeople were better off avoiding his medicine because it was worse than the disease.\n"
     ]
    },
    {
     "name": "stderr",
     "output_type": "stream",
     "text": [
      "\u001B[93mWarning: Your text contains a trailing whitespace, which has been trimmed to ensure high quality generations.\n",
      "\u001B[0m\n"
     ]
    },
    {
     "name": "stdout",
     "output_type": "stream",
     "text": [
      "Prediction: there was a man who had a lot of money. He was very happy. But then he saw a poor man who was crying because he had no food. The man with the money went to him and gave him some food. The poor man was very happy. He learned from the misfortunes of others and was happy.\n"
     ]
    },
    {
     "name": "stderr",
     "output_type": "stream",
     "text": [
      "\u001B[93mWarning: Your text contains a trailing whitespace, which has been trimmed to ensure high quality generations.\n",
      "\u001B[0m\n"
     ]
    },
    {
     "name": "stdout",
     "output_type": "stream",
     "text": [
      "Prediction: a boy named Andy met a girl named Sarah. They became friends and did everything together. But one day, Sarah told Andy she had a secret. She said that she had been bitten by a snake and needed Andy to help her. Andy was scared at first, but he agreed to help her.\n",
      "\n",
      "When he got to Sarah's house, he saw that she had a huge snakebite on her leg. He quickly called 911 and then he and Sarah waited for the ambulance to come. When the ambulance arrived, they were both shocked to see that it was being driven by Sarah's mom!\n",
      "\n"
     ]
    },
    {
     "name": "stderr",
     "output_type": "stream",
     "text": [
      "\u001B[93mWarning: Your text contains a trailing whitespace, which has been trimmed to ensure high quality generations.\n",
      "\u001B[0m\n"
     ]
    },
    {
     "name": "stdout",
     "output_type": "stream",
     "text": [
      "Prediction: a good friend of mine was in trouble. He had been caught cheating on a test and was about to be expelled from school. I was able to help him out by telling the teacher that he had been sick and would not be able to take the test. The teacher believed me and let him take the test again.\n",
      "\n",
      "My friend was very grateful to me and we continued to be friends. However, I soon found out that he had lied to me about being sick. He had actually been out partying the night before and had just taken a nausea medicine to make himself seem sick. I felt betrayed and disappointed in my friend. I decided that I could no longer trust him.\n"
     ]
    },
    {
     "name": "stderr",
     "output_type": "stream",
     "text": [
      "\u001B[93mWarning: Your text contains a trailing whitespace, which has been trimmed to ensure high quality generations.\n",
      "\u001B[0m\n"
     ]
    },
    {
     "name": "stdout",
     "output_type": "stream",
     "text": [
      "Prediction: there was a little girl named Goldilocks. She had golden hair and golden eyes. She was also very, very sweet. One day, she went for a walk in the forest and came across a house. She knocked on the door and when it opened, she saw that it was empty. She decided to take a look around.\n",
      "She entered the kitchen and saw that it was filled with delicious-looking food. She helped herself to some cheese and a glass of milk. Then, she wandered into the living room and saw that it was filled with comfortable-looking furniture. She sat down on a couch and took a nap.\n",
      "When she woke up, she saw that it was dark outside. She got up and tried to leave the house, but the door was locked. She was trapped!\n",
      "She spent the rest of the night trying to escape, but she couldn't figure out how to open the door. In the morning, she heard the door open and she saw that it was her own father who had come to rescue her. He told her that he had seen her enter the house the night before and that he had been worried about her.\n",
      "He also said that he would never let anything happen to his little girl and that he would always be there for her. Goldilocks was happy to be reunited with her father and she realized that she was indeed more or less master of her own fate.\n"
     ]
    },
    {
     "name": "stderr",
     "output_type": "stream",
     "text": [
      "\u001B[93mWarning: Your text contains a trailing whitespace, which has been trimmed to ensure high quality generations.\n",
      "\u001B[0m\n"
     ]
    },
    {
     "name": "stdout",
     "output_type": "stream",
     "text": [
      "Prediction: a poor woodcutter was working hard to earn his daily bread. He had a family to support and was struggling to make ends meet. One day, he came across a tree that had been struck by lightning and was now lying on the ground, ready to be chopped up for firewood. The woodcutter was overjoyed at his good fortune and set to work immediately. He worked all day long, but when the sun went down, he realized that he had chopped up the wrong tree. He had cut down a tree that was worth much more than the one he had wanted. In his rush to get the job done, he had forgotten to take the time to check his work. As a result, he had committed a sin that was just as bad as the one he had been trying to avoid.\n",
      "\n",
      "Moral: In avoiding one evil, care must be taken not to fall into another.\n"
     ]
    },
    {
     "name": "stderr",
     "output_type": "stream",
     "text": [
      "\u001B[93mWarning: Your text contains a trailing whitespace, which has been trimmed to ensure high quality generations.\n",
      "\u001B[0m\n"
     ]
    },
    {
     "name": "stdout",
     "output_type": "stream",
     "text": [
      "Prediction: a little girl named Lulu wanted to get revenge on her big brother, Harry, for pulling her hair. She decided to wait until he was sleeping and then she would creep into his room and cut his hair off. However, when the time came, Lulu couldn't bring herself to do it. She ended up just sneaking into his room and tucking him in.\n",
      "\n",
      "The moral of the story is that revenge will hurt the avenger. Lulu couldn't bring herself to cut Harry's hair because she knew it would hurt him just as much as he had hurt her.\n"
     ]
    },
    {
     "name": "stderr",
     "output_type": "stream",
     "text": [
      "\u001B[93mWarning: Your text contains a trailing whitespace, which has been trimmed to ensure high quality generations.\n",
      "\u001B[0m\n"
     ]
    },
    {
     "name": "stdout",
     "output_type": "stream",
     "text": [
      "Prediction: there was a boy named Jack who was very lazy and did not want to do any work. He would spend all day sleeping and playing video games. His mother would always yell at him to get up and do his chores, but he never listened to her. One day, his mother decided to punish him by making him sleep outside in the cold rain. Jack was so angry that he decided to run away and live on his own. He soon realized that being alone was not as much fun as he thought it would be. He longed for his mother's love and company. In the end, he decided to give up his bad habits and become a responsible person.\n",
      "\n",
      "Change of habit cannot alter nature.\n"
     ]
    },
    {
     "name": "stderr",
     "output_type": "stream",
     "text": [
      "\u001B[93mWarning: Your text contains a trailing whitespace, which has been trimmed to ensure high quality generations.\n",
      "\u001B[0m\n"
     ]
    },
    {
     "name": "stdout",
     "output_type": "stream",
     "text": [
      "Prediction: there was a little girl named Goldilocks. She was very excited to go on her first camping trip with her friends. She had never been camping before, and she couldn't wait to try out all of the activities that her friends had been raving about.\n",
      "\n",
      "However, when the day finally arrived, Goldilocks found out that she was too sick to go on the trip. She had a fever and a cough, and she didn't want to spread her germs to her friends.\n",
      "\n",
      "Goldilocks was heartbroken. She had been looking forward to this trip for months, and now she was stuck at home, alone.\n",
      "\n",
      "But Goldilocks wasn't alone for long. Her friends came by to check on her, and they ended up staying for hours, telling her stories and playing games.\n",
      "\n",
      "While Goldilocks may have missed out on her first camping trip, she learned a valuable lesson: that pleasure bought with pains, hurts.\n"
     ]
    },
    {
     "name": "stderr",
     "output_type": "stream",
     "text": [
      "\u001B[93mWarning: Your text contains a trailing whitespace, which has been trimmed to ensure high quality generations.\n",
      "\u001B[0m\n"
     ]
    },
    {
     "name": "stdout",
     "output_type": "stream",
     "text": [
      "Prediction: there was a young prince named Lysander. He was loved by his parents and all who knew him, for he was always kind and gentle. One day, he was out playing in the palace garden with his friends when he heard his mother's voice. She was crying and sounded as if she were in pain. Lysander rushed to her side and found that she had been stung by a bee. He quickly applied a cold compress to her forehead and then he gave her a drink of water. He kissed her hand and said, \"Mother, I'm so sorry that you were hurt. I'll do anything I can to help you feel better.\"\n",
      "\n",
      "Lysander's mother was very grateful for his help and she kissed him back. Then she said, \"Youth's first duty is reverence to parents.\" Lysander knew that she was right and he promised to always be respectful to her.\n"
     ]
    },
    {
     "name": "stderr",
     "output_type": "stream",
     "text": [
      "\u001B[93mWarning: Your text contains a trailing whitespace, which has been trimmed to ensure high quality generations.\n",
      "\u001B[0m\n"
     ]
    },
    {
     "name": "stdout",
     "output_type": "stream",
     "text": [
      "Prediction: a king and his queen were walking through their kingdom when they saw a beggar on the side of the road. The king was so moved by the man's plight that he stopped to give him a few coins. The queen, however, was not so generous. She turned up her nose at the man and hurried away.\n",
      "\n",
      "The king was dismayed by his wife's coldness. \"Surely,\" he thought, \"There is as much malice in a wink as in a word.\"\n"
     ]
    },
    {
     "name": "stderr",
     "output_type": "stream",
     "text": [
      "\u001B[93mWarning: Your text contains a trailing whitespace, which has been trimmed to ensure high quality generations.\n",
      "\u001B[0m\n"
     ]
    },
    {
     "name": "stdout",
     "output_type": "stream",
     "text": [
      "Prediction: a mother sat down to read her child a bed time story. The story was about a rabbit who loved to play with his friends. One day, the rabbit's friends came over to his house to play, but the rabbit was too tired to join them. He told his friends that he would play with them another time, but they should just enjoy themselves without him. The moral of the story was that it is important to abate and enjoy.\n"
     ]
    },
    {
     "name": "stderr",
     "output_type": "stream",
     "text": [
      "\u001B[93mWarning: Your text contains a trailing whitespace, which has been trimmed to ensure high quality generations.\n",
      "\u001B[0m\n"
     ]
    },
    {
     "name": "stdout",
     "output_type": "stream",
     "text": [
      "Prediction: a child was born into a family of farmers. The child was named Smerdis and he was a very happy boy. He loved playing in the fields and watching the crops grow. He loved being out in the fresh air and getting his hands dirty. He loved his parents and his sister and he was always a very willing help to them.\n",
      "\n",
      "One day, Smerdis's parents sat him down and told him that he was going to have to go and work in the city. They explained that they needed him to help with the finances and that it would be a good experience for him. Smerdis was not thrilled with the idea of leaving his family and his beloved fields, but he did feel a sense of duty to help his parents.\n",
      "So, Smerdis went to the city and got a job in a factory. He worked hard and he was very good at his job. He saved his money and he sent some back to his parents. He was always a good son and he was always a pleasure to be around.\n",
      "\n",
      "One day, Smerdis was walking home from work when he heard a voice in his head. It was a voice that he had never heard before and it was telling him to kill his boss. Smerdis was shocked. He couldn't believe that he was being asked to kill someone. He tried to tell himself that he wouldn't do it, but the voice was persistent.\n",
      "\n",
      "Smerdis followed the voice's instructions and he killed his boss. He then turned himself in to the police and he was sent to jail. In jail, he heard the voice again and he realized that it was his fate. He could not escape his fate.\n"
     ]
    },
    {
     "name": "stderr",
     "output_type": "stream",
     "text": [
      "\u001B[93mWarning: Your text contains a trailing whitespace, which has been trimmed to ensure high quality generations.\n",
      "\u001B[0m\n"
     ]
    },
    {
     "name": "stdout",
     "output_type": "stream",
     "text": [
      "Prediction: a very cunning snake went to the forest to prey on the animals there. He was so cunning that he even outwitted himself. He started by biting the neck of a rabbit, but the rabbit was so cunning that he bit the snake's neck in return. The snake was so cunning that he bit the rabbit's neck a second time, but the rabbit was so cunning that he bit the snake's neck a third time. The snake was so cunning that he bit the rabbit's neck a fourth time, but the rabbit was so cunning that he bit the snake's neck a fifth time. The snake was so cunning that he bit the rabbit's neck a sixth time, but the rabbit was so cunning that he bit the snake's neck a seventh time. The snake was so cunning that he bit the rabbit's neck an eight time, but the rabbit was so cunning that he bit the snake's neck a nine time. The snake was so cunning that he bit the rabbit's neck a tenth time, but the rabbit was so cunning that he bit the snake's neck a hundred times. The snake was so cunning that he bit the rabbit's neck a thousand times, but the rabbit was so cunning that he bit the snake's neck a million times.\n"
     ]
    },
    {
     "name": "stderr",
     "output_type": "stream",
     "text": [
      "\u001B[93mWarning: Your text contains a trailing whitespace, which has been trimmed to ensure high quality generations.\n",
      "\u001B[0m\n"
     ]
    },
    {
     "name": "stdout",
     "output_type": "stream",
     "text": [
      "Prediction: a little boy named Johnny assumed the character of a girl named June. He put on a dress and some lipstick and went out to play with his friends. But when he got there, they all laughed at him and called him a baby. Johnny was so embarrassed that he ran home to his mother and told her what happened. She helped him understand that it was wrong to pretend to be someone he wasn't. Johnny learned a valuable lesson that day: It's best to just be yourself.\n",
      "\n",
      "Johnny assumed the character of a girl named June and went out to play with his friends. But when he got there, they all laughed at him and called him a baby. Johnny was so embarrassed that he ran home to his mother and told her what happened. She helped him understand that it was wrong to pretend to be someone he wasn't. Johnny learned a valuable lesson that day: It's best to just be yourself.\n"
     ]
    },
    {
     "name": "stderr",
     "output_type": "stream",
     "text": [
      "\u001B[93mWarning: Your text contains a trailing whitespace, which has been trimmed to ensure high quality generations.\n",
      "\u001B[0m\n"
     ]
    },
    {
     "name": "stdout",
     "output_type": "stream",
     "text": [
      "Prediction: a group of soldiers were out on a mission. They were very tired and hungry, and so they decided to take a break in a small town. They went to the town's only inn, and they all agreed to share a room for the night.\n",
      "\n",
      "In the morning, the soldiers were surprised to find that the inn had been completely looted. They were even more surprised when they realized that the townspeople had been in on the looting too.\n",
      "The soldiers decided to track down the townspeople and teach them a lesson. They found the townspeople in a field, where they were busy dividing up the stolen goods. The soldiers caught them red-handed and they were quickly apprehended.\n",
      "The soldiers then realized that the townspeople had been doing this for a while. They must have known that the soldiers were coming, and they had set up this trap just for them.\n",
      "The soldiers decided to teach the townspeople a different lesson. They let them go, but they told them that if they ever did anything like this again, they would come back and teach them a real lesson.\n",
      "\n",
      "He who shares the danger ought to share the prize.\n"
     ]
    },
    {
     "name": "stderr",
     "output_type": "stream",
     "text": [
      "\u001B[93mWarning: Your text contains a trailing whitespace, which has been trimmed to ensure high quality generations.\n",
      "\u001B[0m\n"
     ]
    },
    {
     "name": "stdout",
     "output_type": "stream",
     "text": [
      "Prediction: a little girl named Sarah was walking home from getting ice cream with her friends when she fell and broke her leg. Her friends were so scared that they would get in trouble with their parents that they just left her there. Poor Sarah had to spend the night by herself in the hospital.\n",
      "\n",
      "The next day, Sarah's friends finally came to visit her and they were so sorry for what they had done. They knew that they could have helped her sooner, but they were too scared. Sarah forgave her friends and they all learned a valuable lesson: When you're in trouble, your true friends will be there for you.\n"
     ]
    },
    {
     "name": "stderr",
     "output_type": "stream",
     "text": [
      "\u001B[93mWarning: Your text contains a trailing whitespace, which has been trimmed to ensure high quality generations.\n",
      "\u001B[0m\n"
     ]
    },
    {
     "name": "stdout",
     "output_type": "stream",
     "text": [
      "Prediction: there was a princess who lived in a castle. She was very unhappy because she had no friends and everyone else in the castle was mean to her. One day, she met a fairy who told her that what was most truly valuable was often underrated. The princess thought about this for a long time and finally decided to try to be nicer to the people around her. She started small, by just saying \"Hello\" to people she passed in the halls, but eventually she made some friends and began to feel better about herself. The princess learned that what is most truly valuable is often underrated, and that it's worth trying to be a bit nicer to the people around you.\n"
     ]
    },
    {
     "name": "stderr",
     "output_type": "stream",
     "text": [
      "\u001B[93mWarning: Your text contains a trailing whitespace, which has been trimmed to ensure high quality generations.\n",
      "\u001B[0m\n"
     ]
    },
    {
     "name": "stdout",
     "output_type": "stream",
     "text": [
      "Prediction: a father and his son were walking home from getting ice cream when they came across a large field of flowers. The father exclaimed, \"Oh, look at all these flowers! They're so beautiful!\"\n",
      "\n",
      "His son responded, \"Yeah, they are pretty cool.\"\n",
      "\n",
      "The father thought for a minute and then said, \"You know, I really appreciate these flowers. They make me feel happy and alive.\"\n",
      "\n",
      "His son looked at him and then said, \"Dad, you're right. These flowers are pretty great.\"\n"
     ]
    },
    {
     "name": "stderr",
     "output_type": "stream",
     "text": [
      "\u001B[93mWarning: Your text contains a trailing whitespace, which has been trimmed to ensure high quality generations.\n",
      "\u001B[0m\n"
     ]
    },
    {
     "name": "stdout",
     "output_type": "stream",
     "text": [
      "Prediction: there was a little girl named Gretel who loved to play her recorder. She would spend hours each day practicing, and she was so good that she often won first place in contests. One day, Gretel's parents decided to buy her a new recorder, one that was made of gold. Gretel was so excited! She spent hours playing her new recorder and enjoying its sweet sound.\n",
      "\n",
      "One day, Gretel's little brother came up to her and asked her what she was doing. Gretel replied that she was just playing her recorder. Her brother said, \"Can I try?\" Gretel nodded and her brother began to play. The sound was so much better than Gretel's that she was instantly envious.\n",
      "She tried to play her recorder again, but the sound was still inferior. Finally, she realized that her brother had been practicing on her old recorder, and that's why he sounded so much better. She also realized that she should be happy for her brother's success rather than feel envious.\n"
     ]
    },
    {
     "name": "stderr",
     "output_type": "stream",
     "text": [
      "\u001B[93mWarning: Your text contains a trailing whitespace, which has been trimmed to ensure high quality generations.\n",
      "\u001B[0m\n"
     ]
    },
    {
     "name": "stdout",
     "output_type": "stream",
     "text": [
      "Prediction: a giant heard a group of children taunting him from behind a tree. He asked them to come out and face him, but they only taunted him more. Finally, he burst through the tree with his ax and went after them. But when he got there, they were gone. He looked all around, but he could not find them anywhere. Finally, he realized that they had only been using a mirror to make it seem like they were right behind the tree.\n"
     ]
    },
    {
     "name": "stderr",
     "output_type": "stream",
     "text": [
      "\u001B[93mWarning: Your text contains a trailing whitespace, which has been trimmed to ensure high quality generations.\n",
      "\u001B[0m\n"
     ]
    },
    {
     "name": "stdout",
     "output_type": "stream",
     "text": [
      "Prediction: a mother and her young son were walking home from getting ice cream when they came across a large field. The mother had never seen the field before and didn't know what was in it. She asked her son to go ahead and check it out.\n",
      "The boy happily ran off towards the field. The mother smiled and waved as he ran away. She thought he would be back in a minute.\n",
      "She waited and waited, but he didn't return. She began to panic and ran to the field to look for him.\n",
      "She saw him lying motionless in a ditch. She quickly picked him up and screamed for help.\n",
      "A neighbor heard her screams and called 911. The boy was taken to the hospital and thankfully, he recovered.\n",
      "The moral of the story is that they who act without sufficient thought, will often fall into unsuspected danger.\n"
     ]
    },
    {
     "name": "stderr",
     "output_type": "stream",
     "text": [
      "\u001B[93mWarning: Your text contains a trailing whitespace, which has been trimmed to ensure high quality generations.\n",
      "\u001B[0m\n"
     ]
    },
    {
     "name": "stdout",
     "output_type": "stream",
     "text": [
      "Prediction: there was a little girl who loved to play outside. She would spend hours each day running through the meadow, playing in the creek, and climbing trees. She loved nature and all its creatures, and she especially loved the birds.\n",
      "\n",
      "One day, she found a wounded bird lying on the ground. She picked it up and took it home to care for it. She named it Peter and vowed to help it heal.\n",
      "\n",
      "For days, she fed Peter and helped him drink water. She also sang to him and told him stories. Gradually, Peter began to heal and eventually he was able to fly again.\n",
      "\n",
      "The little girl was so happy to have helped Peter that she decided to do something else to help nature. She started a club called the Green Team, and she and her friends began to clean up the meadow and the creek. They also started a recycling program and taught their classmates about the importance of taking care of the environment.\n"
     ]
    },
    {
     "name": "stderr",
     "output_type": "stream",
     "text": [
      "\u001B[93mWarning: Your text contains a trailing whitespace, which has been trimmed to ensure high quality generations.\n",
      "\u001B[0m\n"
     ]
    },
    {
     "name": "stdout",
     "output_type": "stream",
     "text": [
      "Prediction: there was a king who ruled over a faraway land. He was a good king, and he ruled justly. But one day, he awoke to find that his kingdom had been attacked by a neighboring king. The attackers had come during the night, while the king and his soldiers were sleeping.\n",
      "The king was outnumbered and outgunned. He knew he couldn't win the battle. But he also knew that he had to try.\n",
      "So the king and his soldiers fought with all their might. They were able to hold off the enemy for a while. But eventually, the enemy began to gain the upper hand. The king knew that his time was running out.\n",
      "But just when things were looking the bleakest, the king's horse came charging into the battle. The king's soldiers were able to rally and fight on. And in the end, they were able to defeat the enemy.\n",
      "The king knew that it was his horse who had turned the tide of the battle. And he was grateful for the horse's help.\n",
      "He could have just as easily been defeated, had it not been for his horse. And so, the king knew that it was his horse who was the sign of a noble soul.\n"
     ]
    },
    {
     "name": "stderr",
     "output_type": "stream",
     "text": [
      "\u001B[93mWarning: Your text contains a trailing whitespace, which has been trimmed to ensure high quality generations.\n",
      "\u001B[0m\n"
     ]
    },
    {
     "name": "stdout",
     "output_type": "stream",
     "text": [
      "Prediction: a young woman was walking home from getting her groceries when she was accosted by a group of thieves. They beat her up and took her money and shoes. She cried and pleaded with them to leave her alone, but they only became more violent. Finally, they decided to leave her, but not before they had further beaten her and robbed her of her remaining possessions. The young woman lay there, bloody and broken, until a kind passerby came along and helped her to her feet. She was taken to the hospital and eventually recovered. However, she never saw the thieves again, and she knew that justice would never be served.\n"
     ]
    },
    {
     "name": "stderr",
     "output_type": "stream",
     "text": [
      "\u001B[93mWarning: Your text contains a trailing whitespace, which has been trimmed to ensure high quality generations.\n",
      "\u001B[0m\n"
     ]
    },
    {
     "name": "stdout",
     "output_type": "stream",
     "text": [
      "Prediction: a little girl named Polly lived in a small town. She was a very sweet girl who was always willing to help others. She had many friends and was always the life of the party.\n",
      "One day, she heard some classmates talking about her. They were saying that Polly was a liar and a thief. She was so shocked that she ran to tell her best friend, Jack, what she had heard.\n",
      "Jack was very understanding and tried to help her feel better. He told her that he didn't think she was a liar or a thief, and that he would talk to the classmates and try to clear things up.\n",
      "The next day, Jack went to talk to the classmates. He told them that he didn't think Polly was a liar or a thief, and that he had heard from her mother that she was actually a very sweet girl.\n",
      "The classmates were very sorry for what they had said. They went to tell Polly that they were sorry and that they actually thought she was a very sweet girl.\n",
      "Polly was very happy to have such understanding friends. She knew that she could always count on them to stick up for her.\n"
     ]
    },
    {
     "name": "stderr",
     "output_type": "stream",
     "text": [
      "\u001B[93mWarning: Your text contains a trailing whitespace, which has been trimmed to ensure high quality generations.\n",
      "\u001B[0m\n"
     ]
    },
    {
     "name": "stdout",
     "output_type": "stream",
     "text": [
      "Prediction: there was a man who had a very bad reputation. He was known as a thief and a scoundrel. One day, he saw a little girl crying on the street. He stopped to help her and found out that she had lost her shoe. He searched high and low for the shoe, but it was nowhere to be found. Finally, he gave up and went on his way. The girl's mother saw what he did and was so grateful that she decided to change her opinion of him. From then on, she always saw him as a kind-hearted man.\n"
     ]
    },
    {
     "name": "stderr",
     "output_type": "stream",
     "text": [
      "\u001B[93mWarning: Your text contains a trailing whitespace, which has been trimmed to ensure high quality generations.\n",
      "\u001B[0m\n"
     ]
    },
    {
     "name": "stdout",
     "output_type": "stream",
     "text": [
      "Prediction: there was a king who had a beautiful daughter. She was so lovely that he declared she would be his heir. His wife, the queen, was very angry. She had wanted her own son to be the heir. So, she told her husband that their daughter was not really his. She was just a servant who had been bought at the market. The king was heartbroken. He went to his daughter's room to tell her the news. When he got there, he saw that she was already asleep. He decided to let her sleep and tell her the news in the morning.\n"
     ]
    },
    {
     "name": "stderr",
     "output_type": "stream",
     "text": [
      "\u001B[93mWarning: Your text contains a trailing whitespace, which has been trimmed to ensure high quality generations.\n",
      "\u001B[0m\n"
     ]
    },
    {
     "name": "stdout",
     "output_type": "stream",
     "text": [
      "Prediction: there was a man who loved to eat. He would have breakfast, lunch, and dinner and always had a snack in between. He was always looking for the next meal and couldn't stand to see food go to waste. One day, he saw a young boy sitting on the steps of a church with a sign that said \"Homeless and Hungry.\" The man was so moved by the boy's hunger that he went inside the church and gave him a big bowl of soup. The boy was so grateful that he cried. The man was happy to have helped someone in need and went on his way. The boy's hunger was finally satisfied and he went to sleep. The man's bed time story was: \"Better starve free than be a fat slave.\"\n"
     ]
    },
    {
     "name": "stderr",
     "output_type": "stream",
     "text": [
      "\u001B[93mWarning: Your text contains a trailing whitespace, which has been trimmed to ensure high quality generations.\n",
      "\u001B[0m\n"
     ]
    },
    {
     "name": "stdout",
     "output_type": "stream",
     "text": [
      "Prediction: two girls named Ella and Mia became the best of friends. They did everything together. They played games, they shared secrets, they even had their own secret language! But then one day, they had a huge fight. Ella accused Mia of cheating on a test, and Mia accused Ella of being a liar. They were so mad at each other that they stopped talking to each other. But then they realized that even though they were no longer talking to each other, they were still friends. And they realized that it was their friendship that made them so happy, and not the fight that had made them so sad.\n"
     ]
    },
    {
     "name": "stderr",
     "output_type": "stream",
     "text": [
      "\u001B[93mWarning: Your text contains a trailing whitespace, which has been trimmed to ensure high quality generations.\n",
      "\u001B[0m\n"
     ]
    },
    {
     "name": "stdout",
     "output_type": "stream",
     "text": [
      "Prediction: a woodcutter and his family lived in a small house in the middle of a forest. They were very poor and could barely afford to eat. One day, the woodcutter went to the city to sell his wares and he met a man who was very kind to him. The man gave him a pot of gold and told him to take it home to his family. The woodcatcher was so excited that he ran all the way home to his family and told them of his good fortune. They were all so happy that they began to live a much better life.\n",
      "\n",
      "One day, the woodcatcher's family were out walking in the forest when they came across the same man who had given him the pot of gold. They were so shocked to see him there that they began to follow him, thinking that he was a thief. But as they followed him, they saw that he was actually a kind-hearted man who was just visiting the forest. They realized that they had been wrong about him and they apologized to him for their suspicion.\n"
     ]
    },
    {
     "name": "stderr",
     "output_type": "stream",
     "text": [
      "\u001B[93mWarning: Your text contains a trailing whitespace, which has been trimmed to ensure high quality generations.\n",
      "\u001B[0m\n"
     ]
    },
    {
     "name": "stdout",
     "output_type": "stream",
     "text": [
      "Prediction: there was a little girl who loved to play in her garden. She would spend hours each day playing with her plants and flowers, and she loved every minute of it. However, one day she saw a strange man standing at the edge of her yard, watching her as she played. The girl knew that she was safe inside her home, but she couldn't help but feel scared as the man continued to stare at her. Finally, the girl's mother called her inside for dinner, and the strange man disappeared. The girl told her mother about the man she had seen, and they both agreed that it was best to be on guard against men who can strike from a distance.\n"
     ]
    },
    {
     "name": "stderr",
     "output_type": "stream",
     "text": [
      "\u001B[93mWarning: Your text contains a trailing whitespace, which has been trimmed to ensure high quality generations.\n",
      "\u001B[0m\n"
     ]
    },
    {
     "name": "stdout",
     "output_type": "stream",
     "text": [
      "Prediction: a man was very tired and he went to bed early. But he could not fall asleep because he was thinking about his clothes. He had bought some new clothes and he was very proud of them. But he worried that they might get dirty if he fell asleep with them on. So he got out of bed and put them in the closet. But then he realized that he had left his pajamas behind. He would have to sleep in his clothes again. But he was so tired that he quickly fell asleep. In the morning, he realized that his clothes were still clean and he had never once thought about his silly words during the night.\n"
     ]
    },
    {
     "name": "stderr",
     "output_type": "stream",
     "text": [
      "\u001B[93mWarning: Your text contains a trailing whitespace, which has been trimmed to ensure high quality generations.\n",
      "\u001B[0m\n"
     ]
    },
    {
     "name": "stdout",
     "output_type": "stream",
     "text": [
      "Prediction: there was a king who was very proud of his kingdom. He wanted to make sure that his people were happy and content. He also wanted to make sure that his kingdom was protected from enemies. So, he came up with a plan. He would build a huge wall around his kingdom to keep out the enemies.\n",
      "\n",
      "The king's plan worked for a while. The wall kept the enemies out and the king's people were happy. But, one day, a group of enemies got around the wall and attacked the king's people. The king's plan had failed and he was very disappointed.\n",
      "\n",
      "The king realized that his plan had not been perfect and that there was room for improvement. He also realized that his people were still happy, even though they had been attacked. In the end, the king's best intentions did not always ensure success.\n"
     ]
    },
    {
     "name": "stderr",
     "output_type": "stream",
     "text": [
      "\u001B[93mWarning: Your text contains a trailing whitespace, which has been trimmed to ensure high quality generations.\n",
      "\u001B[0m\n"
     ]
    },
    {
     "name": "stdout",
     "output_type": "stream",
     "text": [
      "Prediction: a mother tiger and her two cubs were out for a walk in the forest when they came across a small town. The mother tiger was very curious and went to investigate. She soon realized that the town was being overrun by a group of bandits. The mother tiger and her cubs were able to help the townspeople fight off the bandits and restore peace to the town.\n"
     ]
    },
    {
     "ename": "KeyboardInterrupt",
     "evalue": "",
     "output_type": "error",
     "traceback": [
      "\u001B[0;31m---------------------------------------------------------------------------\u001B[0m",
      "\u001B[0;31mKeyboardInterrupt\u001B[0m                         Traceback (most recent call last)",
      "\u001B[0;32m/var/folders/vf/tzjdf2nn1t311v9l1ygfxpd00000gn/T/ipykernel_58659/3321015205.py\u001B[0m in \u001B[0;36m<module>\u001B[0;34m\u001B[0m\n\u001B[0;32m----> 1\u001B[0;31m \u001B[0mdf\u001B[0m\u001B[0;34m[\u001B[0m\u001B[0;34m'output'\u001B[0m\u001B[0;34m]\u001B[0m \u001B[0;34m=\u001B[0m \u001B[0mdf\u001B[0m\u001B[0;34m[\u001B[0m\u001B[0;34m'prompt'\u001B[0m\u001B[0;34m]\u001B[0m\u001B[0;34m.\u001B[0m\u001B[0mapply\u001B[0m\u001B[0;34m(\u001B[0m\u001B[0mgenerate\u001B[0m\u001B[0;34m)\u001B[0m\u001B[0;34m\u001B[0m\u001B[0;34m\u001B[0m\u001B[0m\n\u001B[0m",
      "\u001B[0;32m~/opt/anaconda3/lib/python3.9/site-packages/pandas/core/series.py\u001B[0m in \u001B[0;36mapply\u001B[0;34m(self, func, convert_dtype, args, **kwargs)\u001B[0m\n\u001B[1;32m   4431\u001B[0m         \u001B[0mdtype\u001B[0m\u001B[0;34m:\u001B[0m \u001B[0mfloat64\u001B[0m\u001B[0;34m\u001B[0m\u001B[0;34m\u001B[0m\u001B[0m\n\u001B[1;32m   4432\u001B[0m         \"\"\"\n\u001B[0;32m-> 4433\u001B[0;31m         \u001B[0;32mreturn\u001B[0m \u001B[0mSeriesApply\u001B[0m\u001B[0;34m(\u001B[0m\u001B[0mself\u001B[0m\u001B[0;34m,\u001B[0m \u001B[0mfunc\u001B[0m\u001B[0;34m,\u001B[0m \u001B[0mconvert_dtype\u001B[0m\u001B[0;34m,\u001B[0m \u001B[0margs\u001B[0m\u001B[0;34m,\u001B[0m \u001B[0mkwargs\u001B[0m\u001B[0;34m)\u001B[0m\u001B[0;34m.\u001B[0m\u001B[0mapply\u001B[0m\u001B[0;34m(\u001B[0m\u001B[0;34m)\u001B[0m\u001B[0;34m\u001B[0m\u001B[0;34m\u001B[0m\u001B[0m\n\u001B[0m\u001B[1;32m   4434\u001B[0m \u001B[0;34m\u001B[0m\u001B[0m\n\u001B[1;32m   4435\u001B[0m     def _reduce(\n",
      "\u001B[0;32m~/opt/anaconda3/lib/python3.9/site-packages/pandas/core/apply.py\u001B[0m in \u001B[0;36mapply\u001B[0;34m(self)\u001B[0m\n\u001B[1;32m   1086\u001B[0m             \u001B[0;32mreturn\u001B[0m \u001B[0mself\u001B[0m\u001B[0;34m.\u001B[0m\u001B[0mapply_str\u001B[0m\u001B[0;34m(\u001B[0m\u001B[0;34m)\u001B[0m\u001B[0;34m\u001B[0m\u001B[0;34m\u001B[0m\u001B[0m\n\u001B[1;32m   1087\u001B[0m \u001B[0;34m\u001B[0m\u001B[0m\n\u001B[0;32m-> 1088\u001B[0;31m         \u001B[0;32mreturn\u001B[0m \u001B[0mself\u001B[0m\u001B[0;34m.\u001B[0m\u001B[0mapply_standard\u001B[0m\u001B[0;34m(\u001B[0m\u001B[0;34m)\u001B[0m\u001B[0;34m\u001B[0m\u001B[0;34m\u001B[0m\u001B[0m\n\u001B[0m\u001B[1;32m   1089\u001B[0m \u001B[0;34m\u001B[0m\u001B[0m\n\u001B[1;32m   1090\u001B[0m     \u001B[0;32mdef\u001B[0m \u001B[0magg\u001B[0m\u001B[0;34m(\u001B[0m\u001B[0mself\u001B[0m\u001B[0;34m)\u001B[0m\u001B[0;34m:\u001B[0m\u001B[0;34m\u001B[0m\u001B[0;34m\u001B[0m\u001B[0m\n",
      "\u001B[0;32m~/opt/anaconda3/lib/python3.9/site-packages/pandas/core/apply.py\u001B[0m in \u001B[0;36mapply_standard\u001B[0;34m(self)\u001B[0m\n\u001B[1;32m   1141\u001B[0m                 \u001B[0;31m# List[Union[Callable[..., Any], str]]]]]\"; expected\u001B[0m\u001B[0;34m\u001B[0m\u001B[0;34m\u001B[0m\u001B[0m\n\u001B[1;32m   1142\u001B[0m                 \u001B[0;31m# \"Callable[[Any], Any]\"\u001B[0m\u001B[0;34m\u001B[0m\u001B[0;34m\u001B[0m\u001B[0m\n\u001B[0;32m-> 1143\u001B[0;31m                 mapped = lib.map_infer(\n\u001B[0m\u001B[1;32m   1144\u001B[0m                     \u001B[0mvalues\u001B[0m\u001B[0;34m,\u001B[0m\u001B[0;34m\u001B[0m\u001B[0;34m\u001B[0m\u001B[0m\n\u001B[1;32m   1145\u001B[0m                     \u001B[0mf\u001B[0m\u001B[0;34m,\u001B[0m  \u001B[0;31m# type: ignore[arg-type]\u001B[0m\u001B[0;34m\u001B[0m\u001B[0;34m\u001B[0m\u001B[0m\n",
      "\u001B[0;32m~/opt/anaconda3/lib/python3.9/site-packages/pandas/_libs/lib.pyx\u001B[0m in \u001B[0;36mpandas._libs.lib.map_infer\u001B[0;34m()\u001B[0m\n",
      "\u001B[0;32m/var/folders/vf/tzjdf2nn1t311v9l1ygfxpd00000gn/T/ipykernel_58659/3315190055.py\u001B[0m in \u001B[0;36mgenerate\u001B[0;34m(prompt)\u001B[0m\n\u001B[1;32m     12\u001B[0m     \u001B[0mstop_sequences\u001B[0m\u001B[0;34m=\u001B[0m\u001B[0;34m[\u001B[0m\u001B[0;34m]\u001B[0m\u001B[0;34m,\u001B[0m\u001B[0;34m\u001B[0m\u001B[0;34m\u001B[0m\u001B[0m\n\u001B[1;32m     13\u001B[0m     return_likelihoods='NONE')\n\u001B[0;32m---> 14\u001B[0;31m     \u001B[0mprint\u001B[0m\u001B[0;34m(\u001B[0m\u001B[0;34m'Prediction: {}'\u001B[0m\u001B[0;34m.\u001B[0m\u001B[0mformat\u001B[0m\u001B[0;34m(\u001B[0m\u001B[0mresponse\u001B[0m\u001B[0;34m.\u001B[0m\u001B[0mgenerations\u001B[0m\u001B[0;34m[\u001B[0m\u001B[0;36m0\u001B[0m\u001B[0;34m]\u001B[0m\u001B[0;34m.\u001B[0m\u001B[0mtext\u001B[0m\u001B[0;34m)\u001B[0m\u001B[0;34m)\u001B[0m\u001B[0;34m\u001B[0m\u001B[0;34m\u001B[0m\u001B[0m\n\u001B[0m",
      "\u001B[0;32m~/opt/anaconda3/lib/python3.9/site-packages/cohere/response.py\u001B[0m in \u001B[0;36m__getattribute__\u001B[0;34m(self, name)\u001B[0m\n\u001B[1;32m     52\u001B[0m         \u001B[0mattr\u001B[0m \u001B[0;34m=\u001B[0m \u001B[0msuper\u001B[0m\u001B[0;34m(\u001B[0m\u001B[0;34m)\u001B[0m\u001B[0;34m.\u001B[0m\u001B[0m__getattribute__\u001B[0m\u001B[0;34m(\u001B[0m\u001B[0mname\u001B[0m\u001B[0;34m)\u001B[0m\u001B[0;34m\u001B[0m\u001B[0;34m\u001B[0m\u001B[0m\n\u001B[1;32m     53\u001B[0m         \u001B[0;32mif\u001B[0m \u001B[0misinstance\u001B[0m\u001B[0;34m(\u001B[0m\u001B[0mattr\u001B[0m\u001B[0;34m,\u001B[0m \u001B[0mAsyncAttribute\u001B[0m\u001B[0;34m)\u001B[0m\u001B[0;34m:\u001B[0m\u001B[0;34m\u001B[0m\u001B[0;34m\u001B[0m\u001B[0m\n\u001B[0;32m---> 54\u001B[0;31m             \u001B[0;32mreturn\u001B[0m \u001B[0mattr\u001B[0m\u001B[0;34m.\u001B[0m\u001B[0mresolve\u001B[0m\u001B[0;34m(\u001B[0m\u001B[0;34m)\u001B[0m\u001B[0;34m\u001B[0m\u001B[0;34m\u001B[0m\u001B[0m\n\u001B[0m\u001B[1;32m     55\u001B[0m         \u001B[0;32melse\u001B[0m\u001B[0;34m:\u001B[0m\u001B[0;34m\u001B[0m\u001B[0;34m\u001B[0m\u001B[0m\n\u001B[1;32m     56\u001B[0m             \u001B[0;32mreturn\u001B[0m \u001B[0mattr\u001B[0m\u001B[0;34m\u001B[0m\u001B[0;34m\u001B[0m\u001B[0m\n",
      "\u001B[0;32m~/opt/anaconda3/lib/python3.9/site-packages/cohere/response.py\u001B[0m in \u001B[0;36mresolve\u001B[0;34m(self)\u001B[0m\n\u001B[1;32m     39\u001B[0m             \u001B[0;32mreturn\u001B[0m \u001B[0mself\u001B[0m\u001B[0;34m.\u001B[0m\u001B[0m_result\u001B[0m\u001B[0;34m\u001B[0m\u001B[0;34m\u001B[0m\u001B[0m\n\u001B[1;32m     40\u001B[0m \u001B[0;34m\u001B[0m\u001B[0m\n\u001B[0;32m---> 41\u001B[0;31m         \u001B[0mself\u001B[0m\u001B[0;34m.\u001B[0m\u001B[0m_result\u001B[0m \u001B[0;34m=\u001B[0m \u001B[0mself\u001B[0m\u001B[0;34m.\u001B[0m\u001B[0m_getter\u001B[0m\u001B[0;34m(\u001B[0m\u001B[0mself\u001B[0m\u001B[0;34m.\u001B[0m\u001B[0m_request\u001B[0m\u001B[0;34m.\u001B[0m\u001B[0mresult\u001B[0m\u001B[0;34m(\u001B[0m\u001B[0;34m)\u001B[0m\u001B[0;34m)\u001B[0m\u001B[0;34m\u001B[0m\u001B[0;34m\u001B[0m\u001B[0m\n\u001B[0m\u001B[1;32m     42\u001B[0m         \u001B[0;32mreturn\u001B[0m \u001B[0mself\u001B[0m\u001B[0;34m.\u001B[0m\u001B[0m_result\u001B[0m\u001B[0;34m\u001B[0m\u001B[0;34m\u001B[0m\u001B[0m\n\u001B[1;32m     43\u001B[0m \u001B[0;34m\u001B[0m\u001B[0m\n",
      "\u001B[0;32m~/opt/anaconda3/lib/python3.9/concurrent/futures/_base.py\u001B[0m in \u001B[0;36mresult\u001B[0;34m(self, timeout)\u001B[0m\n\u001B[1;32m    438\u001B[0m                     \u001B[0;32mreturn\u001B[0m \u001B[0mself\u001B[0m\u001B[0;34m.\u001B[0m\u001B[0m__get_result\u001B[0m\u001B[0;34m(\u001B[0m\u001B[0;34m)\u001B[0m\u001B[0;34m\u001B[0m\u001B[0;34m\u001B[0m\u001B[0m\n\u001B[1;32m    439\u001B[0m \u001B[0;34m\u001B[0m\u001B[0m\n\u001B[0;32m--> 440\u001B[0;31m                 \u001B[0mself\u001B[0m\u001B[0;34m.\u001B[0m\u001B[0m_condition\u001B[0m\u001B[0;34m.\u001B[0m\u001B[0mwait\u001B[0m\u001B[0;34m(\u001B[0m\u001B[0mtimeout\u001B[0m\u001B[0;34m)\u001B[0m\u001B[0;34m\u001B[0m\u001B[0;34m\u001B[0m\u001B[0m\n\u001B[0m\u001B[1;32m    441\u001B[0m \u001B[0;34m\u001B[0m\u001B[0m\n\u001B[1;32m    442\u001B[0m                 \u001B[0;32mif\u001B[0m \u001B[0mself\u001B[0m\u001B[0;34m.\u001B[0m\u001B[0m_state\u001B[0m \u001B[0;32min\u001B[0m \u001B[0;34m[\u001B[0m\u001B[0mCANCELLED\u001B[0m\u001B[0;34m,\u001B[0m \u001B[0mCANCELLED_AND_NOTIFIED\u001B[0m\u001B[0;34m]\u001B[0m\u001B[0;34m:\u001B[0m\u001B[0;34m\u001B[0m\u001B[0;34m\u001B[0m\u001B[0m\n",
      "\u001B[0;32m~/opt/anaconda3/lib/python3.9/threading.py\u001B[0m in \u001B[0;36mwait\u001B[0;34m(self, timeout)\u001B[0m\n\u001B[1;32m    310\u001B[0m         \u001B[0;32mtry\u001B[0m\u001B[0;34m:\u001B[0m    \u001B[0;31m# restore state no matter what (e.g., KeyboardInterrupt)\u001B[0m\u001B[0;34m\u001B[0m\u001B[0;34m\u001B[0m\u001B[0m\n\u001B[1;32m    311\u001B[0m             \u001B[0;32mif\u001B[0m \u001B[0mtimeout\u001B[0m \u001B[0;32mis\u001B[0m \u001B[0;32mNone\u001B[0m\u001B[0;34m:\u001B[0m\u001B[0;34m\u001B[0m\u001B[0;34m\u001B[0m\u001B[0m\n\u001B[0;32m--> 312\u001B[0;31m                 \u001B[0mwaiter\u001B[0m\u001B[0;34m.\u001B[0m\u001B[0macquire\u001B[0m\u001B[0;34m(\u001B[0m\u001B[0;34m)\u001B[0m\u001B[0;34m\u001B[0m\u001B[0;34m\u001B[0m\u001B[0m\n\u001B[0m\u001B[1;32m    313\u001B[0m                 \u001B[0mgotit\u001B[0m \u001B[0;34m=\u001B[0m \u001B[0;32mTrue\u001B[0m\u001B[0;34m\u001B[0m\u001B[0;34m\u001B[0m\u001B[0m\n\u001B[1;32m    314\u001B[0m             \u001B[0;32melse\u001B[0m\u001B[0;34m:\u001B[0m\u001B[0;34m\u001B[0m\u001B[0;34m\u001B[0m\u001B[0m\n",
      "\u001B[0;31mKeyboardInterrupt\u001B[0m: "
     ]
    },
    {
     "name": "stderr",
     "output_type": "stream",
     "text": [
      "\u001B[93mWarning: Your text contains a trailing whitespace, which has been trimmed to ensure high quality generations.\n",
      "\u001B[0m\n"
     ]
    }
   ],
   "source": [
    "df['output'] = df['prompt'].apply(generate)"
   ]
  },
  {
   "cell_type": "code",
   "execution_count": null,
   "metadata": {
    "pycharm": {
     "name": "#%%\n"
    }
   },
   "outputs": [],
   "source": [
    "df.iloc[0]"
   ]
  },
  {
   "cell_type": "code",
   "execution_count": null,
   "metadata": {
    "pycharm": {
     "name": "#%%\n"
    }
   },
   "outputs": [],
   "source": [
    "df = df[[\"story\", \"moral\", \"prompt\", \"output\"]]\n",
    "df.to_csv(\"generated_stories.csv\")"
   ]
  },
  {
   "cell_type": "code",
   "execution_count": null,
   "metadata": {
    "pycharm": {
     "name": "#%%\n"
    }
   },
   "outputs": [],
   "source": []
  }
 ],
 "metadata": {
  "kernelspec": {
   "display_name": "base",
   "language": "python",
   "name": "python3"
  },
  "language_info": {
   "codemirror_mode": {
    "name": "ipython",
    "version": 3
   },
   "file_extension": ".py",
   "mimetype": "text/x-python",
   "name": "python",
   "nbconvert_exporter": "python",
   "pygments_lexer": "ipython3",
   "version": "3.9.7"
  },
  "orig_nbformat": 4,
  "vscode": {
   "interpreter": {
    "hash": "c9597ba649527e7fe599bc8db9b56cafdea5c4ba5b46e0bb236a2e7dbc3fa151"
   }
  }
 },
 "nbformat": 4,
 "nbformat_minor": 2
}
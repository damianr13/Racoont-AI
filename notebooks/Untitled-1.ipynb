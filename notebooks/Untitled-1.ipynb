{
 "cells": [
  {
   "cell_type": "code",
   "execution_count": 1,
   "metadata": {
    "pycharm": {
     "name": "#%%\n"
    }
   },
   "outputs": [],
   "source": [
    "import pandas as pd"
   ]
  },
  {
   "cell_type": "code",
   "execution_count": 2,
   "metadata": {
    "pycharm": {
     "name": "#%%\n"
    }
   },
   "outputs": [
    {
     "ename": "FileNotFoundError",
     "evalue": "[Errno 2] No such file or directory: 'archive/children_books.csv'",
     "output_type": "error",
     "traceback": [
      "\u001B[0;31m---------------------------------------------------------------------------\u001B[0m",
      "\u001B[0;31mFileNotFoundError\u001B[0m                         Traceback (most recent call last)",
      "Cell \u001B[0;32mIn[2], line 1\u001B[0m\n\u001B[0;32m----> 1\u001B[0m df \u001B[38;5;241m=\u001B[39m \u001B[43mpd\u001B[49m\u001B[38;5;241;43m.\u001B[39;49m\u001B[43mread_csv\u001B[49m\u001B[43m(\u001B[49m\u001B[38;5;124;43m'\u001B[39;49m\u001B[38;5;124;43marchive/children_books.csv\u001B[39;49m\u001B[38;5;124;43m'\u001B[39;49m\u001B[43m)\u001B[49m\u001B[38;5;66;03m#, encoding='cp1252')\u001B[39;00m\n\u001B[1;32m      2\u001B[0m df\n",
      "File \u001B[0;32m~/.local/share/virtualenvs/stories-5rluFyzU/lib/python3.10/site-packages/pandas/util/_decorators.py:211\u001B[0m, in \u001B[0;36mdeprecate_kwarg.<locals>._deprecate_kwarg.<locals>.wrapper\u001B[0;34m(*args, **kwargs)\u001B[0m\n\u001B[1;32m    209\u001B[0m     \u001B[38;5;28;01melse\u001B[39;00m:\n\u001B[1;32m    210\u001B[0m         kwargs[new_arg_name] \u001B[38;5;241m=\u001B[39m new_arg_value\n\u001B[0;32m--> 211\u001B[0m \u001B[38;5;28;01mreturn\u001B[39;00m \u001B[43mfunc\u001B[49m\u001B[43m(\u001B[49m\u001B[38;5;241;43m*\u001B[39;49m\u001B[43margs\u001B[49m\u001B[43m,\u001B[49m\u001B[43m \u001B[49m\u001B[38;5;241;43m*\u001B[39;49m\u001B[38;5;241;43m*\u001B[39;49m\u001B[43mkwargs\u001B[49m\u001B[43m)\u001B[49m\n",
      "File \u001B[0;32m~/.local/share/virtualenvs/stories-5rluFyzU/lib/python3.10/site-packages/pandas/util/_decorators.py:331\u001B[0m, in \u001B[0;36mdeprecate_nonkeyword_arguments.<locals>.decorate.<locals>.wrapper\u001B[0;34m(*args, **kwargs)\u001B[0m\n\u001B[1;32m    325\u001B[0m \u001B[38;5;28;01mif\u001B[39;00m \u001B[38;5;28mlen\u001B[39m(args) \u001B[38;5;241m>\u001B[39m num_allow_args:\n\u001B[1;32m    326\u001B[0m     warnings\u001B[38;5;241m.\u001B[39mwarn(\n\u001B[1;32m    327\u001B[0m         msg\u001B[38;5;241m.\u001B[39mformat(arguments\u001B[38;5;241m=\u001B[39m_format_argument_list(allow_args)),\n\u001B[1;32m    328\u001B[0m         \u001B[38;5;167;01mFutureWarning\u001B[39;00m,\n\u001B[1;32m    329\u001B[0m         stacklevel\u001B[38;5;241m=\u001B[39mfind_stack_level(),\n\u001B[1;32m    330\u001B[0m     )\n\u001B[0;32m--> 331\u001B[0m \u001B[38;5;28;01mreturn\u001B[39;00m \u001B[43mfunc\u001B[49m\u001B[43m(\u001B[49m\u001B[38;5;241;43m*\u001B[39;49m\u001B[43margs\u001B[49m\u001B[43m,\u001B[49m\u001B[43m \u001B[49m\u001B[38;5;241;43m*\u001B[39;49m\u001B[38;5;241;43m*\u001B[39;49m\u001B[43mkwargs\u001B[49m\u001B[43m)\u001B[49m\n",
      "File \u001B[0;32m~/.local/share/virtualenvs/stories-5rluFyzU/lib/python3.10/site-packages/pandas/io/parsers/readers.py:950\u001B[0m, in \u001B[0;36mread_csv\u001B[0;34m(filepath_or_buffer, sep, delimiter, header, names, index_col, usecols, squeeze, prefix, mangle_dupe_cols, dtype, engine, converters, true_values, false_values, skipinitialspace, skiprows, skipfooter, nrows, na_values, keep_default_na, na_filter, verbose, skip_blank_lines, parse_dates, infer_datetime_format, keep_date_col, date_parser, dayfirst, cache_dates, iterator, chunksize, compression, thousands, decimal, lineterminator, quotechar, quoting, doublequote, escapechar, comment, encoding, encoding_errors, dialect, error_bad_lines, warn_bad_lines, on_bad_lines, delim_whitespace, low_memory, memory_map, float_precision, storage_options)\u001B[0m\n\u001B[1;32m    935\u001B[0m kwds_defaults \u001B[38;5;241m=\u001B[39m _refine_defaults_read(\n\u001B[1;32m    936\u001B[0m     dialect,\n\u001B[1;32m    937\u001B[0m     delimiter,\n\u001B[0;32m   (...)\u001B[0m\n\u001B[1;32m    946\u001B[0m     defaults\u001B[38;5;241m=\u001B[39m{\u001B[38;5;124m\"\u001B[39m\u001B[38;5;124mdelimiter\u001B[39m\u001B[38;5;124m\"\u001B[39m: \u001B[38;5;124m\"\u001B[39m\u001B[38;5;124m,\u001B[39m\u001B[38;5;124m\"\u001B[39m},\n\u001B[1;32m    947\u001B[0m )\n\u001B[1;32m    948\u001B[0m kwds\u001B[38;5;241m.\u001B[39mupdate(kwds_defaults)\n\u001B[0;32m--> 950\u001B[0m \u001B[38;5;28;01mreturn\u001B[39;00m \u001B[43m_read\u001B[49m\u001B[43m(\u001B[49m\u001B[43mfilepath_or_buffer\u001B[49m\u001B[43m,\u001B[49m\u001B[43m \u001B[49m\u001B[43mkwds\u001B[49m\u001B[43m)\u001B[49m\n",
      "File \u001B[0;32m~/.local/share/virtualenvs/stories-5rluFyzU/lib/python3.10/site-packages/pandas/io/parsers/readers.py:605\u001B[0m, in \u001B[0;36m_read\u001B[0;34m(filepath_or_buffer, kwds)\u001B[0m\n\u001B[1;32m    602\u001B[0m _validate_names(kwds\u001B[38;5;241m.\u001B[39mget(\u001B[38;5;124m\"\u001B[39m\u001B[38;5;124mnames\u001B[39m\u001B[38;5;124m\"\u001B[39m, \u001B[38;5;28;01mNone\u001B[39;00m))\n\u001B[1;32m    604\u001B[0m \u001B[38;5;66;03m# Create the parser.\u001B[39;00m\n\u001B[0;32m--> 605\u001B[0m parser \u001B[38;5;241m=\u001B[39m \u001B[43mTextFileReader\u001B[49m\u001B[43m(\u001B[49m\u001B[43mfilepath_or_buffer\u001B[49m\u001B[43m,\u001B[49m\u001B[43m \u001B[49m\u001B[38;5;241;43m*\u001B[39;49m\u001B[38;5;241;43m*\u001B[39;49m\u001B[43mkwds\u001B[49m\u001B[43m)\u001B[49m\n\u001B[1;32m    607\u001B[0m \u001B[38;5;28;01mif\u001B[39;00m chunksize \u001B[38;5;129;01mor\u001B[39;00m iterator:\n\u001B[1;32m    608\u001B[0m     \u001B[38;5;28;01mreturn\u001B[39;00m parser\n",
      "File \u001B[0;32m~/.local/share/virtualenvs/stories-5rluFyzU/lib/python3.10/site-packages/pandas/io/parsers/readers.py:1442\u001B[0m, in \u001B[0;36mTextFileReader.__init__\u001B[0;34m(self, f, engine, **kwds)\u001B[0m\n\u001B[1;32m   1439\u001B[0m     \u001B[38;5;28mself\u001B[39m\u001B[38;5;241m.\u001B[39moptions[\u001B[38;5;124m\"\u001B[39m\u001B[38;5;124mhas_index_names\u001B[39m\u001B[38;5;124m\"\u001B[39m] \u001B[38;5;241m=\u001B[39m kwds[\u001B[38;5;124m\"\u001B[39m\u001B[38;5;124mhas_index_names\u001B[39m\u001B[38;5;124m\"\u001B[39m]\n\u001B[1;32m   1441\u001B[0m \u001B[38;5;28mself\u001B[39m\u001B[38;5;241m.\u001B[39mhandles: IOHandles \u001B[38;5;241m|\u001B[39m \u001B[38;5;28;01mNone\u001B[39;00m \u001B[38;5;241m=\u001B[39m \u001B[38;5;28;01mNone\u001B[39;00m\n\u001B[0;32m-> 1442\u001B[0m \u001B[38;5;28mself\u001B[39m\u001B[38;5;241m.\u001B[39m_engine \u001B[38;5;241m=\u001B[39m \u001B[38;5;28;43mself\u001B[39;49m\u001B[38;5;241;43m.\u001B[39;49m\u001B[43m_make_engine\u001B[49m\u001B[43m(\u001B[49m\u001B[43mf\u001B[49m\u001B[43m,\u001B[49m\u001B[43m \u001B[49m\u001B[38;5;28;43mself\u001B[39;49m\u001B[38;5;241;43m.\u001B[39;49m\u001B[43mengine\u001B[49m\u001B[43m)\u001B[49m\n",
      "File \u001B[0;32m~/.local/share/virtualenvs/stories-5rluFyzU/lib/python3.10/site-packages/pandas/io/parsers/readers.py:1735\u001B[0m, in \u001B[0;36mTextFileReader._make_engine\u001B[0;34m(self, f, engine)\u001B[0m\n\u001B[1;32m   1733\u001B[0m     \u001B[38;5;28;01mif\u001B[39;00m \u001B[38;5;124m\"\u001B[39m\u001B[38;5;124mb\u001B[39m\u001B[38;5;124m\"\u001B[39m \u001B[38;5;129;01mnot\u001B[39;00m \u001B[38;5;129;01min\u001B[39;00m mode:\n\u001B[1;32m   1734\u001B[0m         mode \u001B[38;5;241m+\u001B[39m\u001B[38;5;241m=\u001B[39m \u001B[38;5;124m\"\u001B[39m\u001B[38;5;124mb\u001B[39m\u001B[38;5;124m\"\u001B[39m\n\u001B[0;32m-> 1735\u001B[0m \u001B[38;5;28mself\u001B[39m\u001B[38;5;241m.\u001B[39mhandles \u001B[38;5;241m=\u001B[39m \u001B[43mget_handle\u001B[49m\u001B[43m(\u001B[49m\n\u001B[1;32m   1736\u001B[0m \u001B[43m    \u001B[49m\u001B[43mf\u001B[49m\u001B[43m,\u001B[49m\n\u001B[1;32m   1737\u001B[0m \u001B[43m    \u001B[49m\u001B[43mmode\u001B[49m\u001B[43m,\u001B[49m\n\u001B[1;32m   1738\u001B[0m \u001B[43m    \u001B[49m\u001B[43mencoding\u001B[49m\u001B[38;5;241;43m=\u001B[39;49m\u001B[38;5;28;43mself\u001B[39;49m\u001B[38;5;241;43m.\u001B[39;49m\u001B[43moptions\u001B[49m\u001B[38;5;241;43m.\u001B[39;49m\u001B[43mget\u001B[49m\u001B[43m(\u001B[49m\u001B[38;5;124;43m\"\u001B[39;49m\u001B[38;5;124;43mencoding\u001B[39;49m\u001B[38;5;124;43m\"\u001B[39;49m\u001B[43m,\u001B[49m\u001B[43m \u001B[49m\u001B[38;5;28;43;01mNone\u001B[39;49;00m\u001B[43m)\u001B[49m\u001B[43m,\u001B[49m\n\u001B[1;32m   1739\u001B[0m \u001B[43m    \u001B[49m\u001B[43mcompression\u001B[49m\u001B[38;5;241;43m=\u001B[39;49m\u001B[38;5;28;43mself\u001B[39;49m\u001B[38;5;241;43m.\u001B[39;49m\u001B[43moptions\u001B[49m\u001B[38;5;241;43m.\u001B[39;49m\u001B[43mget\u001B[49m\u001B[43m(\u001B[49m\u001B[38;5;124;43m\"\u001B[39;49m\u001B[38;5;124;43mcompression\u001B[39;49m\u001B[38;5;124;43m\"\u001B[39;49m\u001B[43m,\u001B[49m\u001B[43m \u001B[49m\u001B[38;5;28;43;01mNone\u001B[39;49;00m\u001B[43m)\u001B[49m\u001B[43m,\u001B[49m\n\u001B[1;32m   1740\u001B[0m \u001B[43m    \u001B[49m\u001B[43mmemory_map\u001B[49m\u001B[38;5;241;43m=\u001B[39;49m\u001B[38;5;28;43mself\u001B[39;49m\u001B[38;5;241;43m.\u001B[39;49m\u001B[43moptions\u001B[49m\u001B[38;5;241;43m.\u001B[39;49m\u001B[43mget\u001B[49m\u001B[43m(\u001B[49m\u001B[38;5;124;43m\"\u001B[39;49m\u001B[38;5;124;43mmemory_map\u001B[39;49m\u001B[38;5;124;43m\"\u001B[39;49m\u001B[43m,\u001B[49m\u001B[43m \u001B[49m\u001B[38;5;28;43;01mFalse\u001B[39;49;00m\u001B[43m)\u001B[49m\u001B[43m,\u001B[49m\n\u001B[1;32m   1741\u001B[0m \u001B[43m    \u001B[49m\u001B[43mis_text\u001B[49m\u001B[38;5;241;43m=\u001B[39;49m\u001B[43mis_text\u001B[49m\u001B[43m,\u001B[49m\n\u001B[1;32m   1742\u001B[0m \u001B[43m    \u001B[49m\u001B[43merrors\u001B[49m\u001B[38;5;241;43m=\u001B[39;49m\u001B[38;5;28;43mself\u001B[39;49m\u001B[38;5;241;43m.\u001B[39;49m\u001B[43moptions\u001B[49m\u001B[38;5;241;43m.\u001B[39;49m\u001B[43mget\u001B[49m\u001B[43m(\u001B[49m\u001B[38;5;124;43m\"\u001B[39;49m\u001B[38;5;124;43mencoding_errors\u001B[39;49m\u001B[38;5;124;43m\"\u001B[39;49m\u001B[43m,\u001B[49m\u001B[43m \u001B[49m\u001B[38;5;124;43m\"\u001B[39;49m\u001B[38;5;124;43mstrict\u001B[39;49m\u001B[38;5;124;43m\"\u001B[39;49m\u001B[43m)\u001B[49m\u001B[43m,\u001B[49m\n\u001B[1;32m   1743\u001B[0m \u001B[43m    \u001B[49m\u001B[43mstorage_options\u001B[49m\u001B[38;5;241;43m=\u001B[39;49m\u001B[38;5;28;43mself\u001B[39;49m\u001B[38;5;241;43m.\u001B[39;49m\u001B[43moptions\u001B[49m\u001B[38;5;241;43m.\u001B[39;49m\u001B[43mget\u001B[49m\u001B[43m(\u001B[49m\u001B[38;5;124;43m\"\u001B[39;49m\u001B[38;5;124;43mstorage_options\u001B[39;49m\u001B[38;5;124;43m\"\u001B[39;49m\u001B[43m,\u001B[49m\u001B[43m \u001B[49m\u001B[38;5;28;43;01mNone\u001B[39;49;00m\u001B[43m)\u001B[49m\u001B[43m,\u001B[49m\n\u001B[1;32m   1744\u001B[0m \u001B[43m\u001B[49m\u001B[43m)\u001B[49m\n\u001B[1;32m   1745\u001B[0m \u001B[38;5;28;01massert\u001B[39;00m \u001B[38;5;28mself\u001B[39m\u001B[38;5;241m.\u001B[39mhandles \u001B[38;5;129;01mis\u001B[39;00m \u001B[38;5;129;01mnot\u001B[39;00m \u001B[38;5;28;01mNone\u001B[39;00m\n\u001B[1;32m   1746\u001B[0m f \u001B[38;5;241m=\u001B[39m \u001B[38;5;28mself\u001B[39m\u001B[38;5;241m.\u001B[39mhandles\u001B[38;5;241m.\u001B[39mhandle\n",
      "File \u001B[0;32m~/.local/share/virtualenvs/stories-5rluFyzU/lib/python3.10/site-packages/pandas/io/common.py:856\u001B[0m, in \u001B[0;36mget_handle\u001B[0;34m(path_or_buf, mode, encoding, compression, memory_map, is_text, errors, storage_options)\u001B[0m\n\u001B[1;32m    851\u001B[0m \u001B[38;5;28;01melif\u001B[39;00m \u001B[38;5;28misinstance\u001B[39m(handle, \u001B[38;5;28mstr\u001B[39m):\n\u001B[1;32m    852\u001B[0m     \u001B[38;5;66;03m# Check whether the filename is to be opened in binary mode.\u001B[39;00m\n\u001B[1;32m    853\u001B[0m     \u001B[38;5;66;03m# Binary mode does not support 'encoding' and 'newline'.\u001B[39;00m\n\u001B[1;32m    854\u001B[0m     \u001B[38;5;28;01mif\u001B[39;00m ioargs\u001B[38;5;241m.\u001B[39mencoding \u001B[38;5;129;01mand\u001B[39;00m \u001B[38;5;124m\"\u001B[39m\u001B[38;5;124mb\u001B[39m\u001B[38;5;124m\"\u001B[39m \u001B[38;5;129;01mnot\u001B[39;00m \u001B[38;5;129;01min\u001B[39;00m ioargs\u001B[38;5;241m.\u001B[39mmode:\n\u001B[1;32m    855\u001B[0m         \u001B[38;5;66;03m# Encoding\u001B[39;00m\n\u001B[0;32m--> 856\u001B[0m         handle \u001B[38;5;241m=\u001B[39m \u001B[38;5;28;43mopen\u001B[39;49m\u001B[43m(\u001B[49m\n\u001B[1;32m    857\u001B[0m \u001B[43m            \u001B[49m\u001B[43mhandle\u001B[49m\u001B[43m,\u001B[49m\n\u001B[1;32m    858\u001B[0m \u001B[43m            \u001B[49m\u001B[43mioargs\u001B[49m\u001B[38;5;241;43m.\u001B[39;49m\u001B[43mmode\u001B[49m\u001B[43m,\u001B[49m\n\u001B[1;32m    859\u001B[0m \u001B[43m            \u001B[49m\u001B[43mencoding\u001B[49m\u001B[38;5;241;43m=\u001B[39;49m\u001B[43mioargs\u001B[49m\u001B[38;5;241;43m.\u001B[39;49m\u001B[43mencoding\u001B[49m\u001B[43m,\u001B[49m\n\u001B[1;32m    860\u001B[0m \u001B[43m            \u001B[49m\u001B[43merrors\u001B[49m\u001B[38;5;241;43m=\u001B[39;49m\u001B[43merrors\u001B[49m\u001B[43m,\u001B[49m\n\u001B[1;32m    861\u001B[0m \u001B[43m            \u001B[49m\u001B[43mnewline\u001B[49m\u001B[38;5;241;43m=\u001B[39;49m\u001B[38;5;124;43m\"\u001B[39;49m\u001B[38;5;124;43m\"\u001B[39;49m\u001B[43m,\u001B[49m\n\u001B[1;32m    862\u001B[0m \u001B[43m        \u001B[49m\u001B[43m)\u001B[49m\n\u001B[1;32m    863\u001B[0m     \u001B[38;5;28;01melse\u001B[39;00m:\n\u001B[1;32m    864\u001B[0m         \u001B[38;5;66;03m# Binary mode\u001B[39;00m\n\u001B[1;32m    865\u001B[0m         handle \u001B[38;5;241m=\u001B[39m \u001B[38;5;28mopen\u001B[39m(handle, ioargs\u001B[38;5;241m.\u001B[39mmode)\n",
      "\u001B[0;31mFileNotFoundError\u001B[0m: [Errno 2] No such file or directory: 'archive/children_books.csv'"
     ]
    }
   ],
   "source": [
    "df = pd.read_csv('archive/children_books.csv')#, encoding='cp1252')\n",
    "df"
   ]
  },
  {
   "cell_type": "code",
   "execution_count": null,
   "metadata": {
    "pycharm": {
     "name": "#%%\n"
    }
   },
   "outputs": [],
   "source": [
    "df = pd.read_csv('archive/children_stories.csv', on_bad_lines='skip', sep=';')\n",
    "df"
   ]
  },
  {
   "cell_type": "code",
   "execution_count": null,
   "metadata": {
    "pycharm": {
     "name": "#%%\n"
    }
   },
   "outputs": [],
   "source": [
    "s = df.iloc[0].desc"
   ]
  },
  {
   "cell_type": "code",
   "execution_count": 18,
   "metadata": {
    "pycharm": {
     "name": "#%%\n"
    }
   },
   "outputs": [],
   "source": [
    "df['desc'] = df['desc'].apply(lambda x: x.replace(\"â€™\", \"'\"))"
   ]
  },
  {
   "cell_type": "code",
   "execution_count": 21,
   "metadata": {
    "pycharm": {
     "name": "#%%\n"
    }
   },
   "outputs": [
    {
     "data": {
      "text/plain": [
       "61"
      ]
     },
     "execution_count": 21,
     "metadata": {},
     "output_type": "execute_result"
    }
   ],
   "source": [
    "s.count(' ')"
   ]
  },
  {
   "cell_type": "code",
   "execution_count": 23,
   "metadata": {
    "pycharm": {
     "name": "#%%\n"
    }
   },
   "outputs": [
    {
     "data": {
      "text/html": [
       "<div>\n",
       "<style scoped>\n",
       "    .dataframe tbody tr th:only-of-type {\n",
       "        vertical-align: middle;\n",
       "    }\n",
       "\n",
       "    .dataframe tbody tr th {\n",
       "        vertical-align: top;\n",
       "    }\n",
       "\n",
       "    .dataframe thead th {\n",
       "        text-align: right;\n",
       "    }\n",
       "</style>\n",
       "<table border=\"1\" class=\"dataframe\">\n",
       "  <thead>\n",
       "    <tr style=\"text-align: right;\">\n",
       "      <th></th>\n",
       "      <th>wc</th>\n",
       "    </tr>\n",
       "  </thead>\n",
       "  <tbody>\n",
       "    <tr>\n",
       "      <th>count</th>\n",
       "      <td>430.000000</td>\n",
       "    </tr>\n",
       "    <tr>\n",
       "      <th>mean</th>\n",
       "      <td>100.160465</td>\n",
       "    </tr>\n",
       "    <tr>\n",
       "      <th>std</th>\n",
       "      <td>46.419691</td>\n",
       "    </tr>\n",
       "    <tr>\n",
       "      <th>min</th>\n",
       "      <td>14.000000</td>\n",
       "    </tr>\n",
       "    <tr>\n",
       "      <th>25%</th>\n",
       "      <td>63.250000</td>\n",
       "    </tr>\n",
       "    <tr>\n",
       "      <th>50%</th>\n",
       "      <td>102.000000</td>\n",
       "    </tr>\n",
       "    <tr>\n",
       "      <th>75%</th>\n",
       "      <td>127.000000</td>\n",
       "    </tr>\n",
       "    <tr>\n",
       "      <th>max</th>\n",
       "      <td>269.000000</td>\n",
       "    </tr>\n",
       "  </tbody>\n",
       "</table>\n",
       "</div>"
      ],
      "text/plain": [
       "               wc\n",
       "count  430.000000\n",
       "mean   100.160465\n",
       "std     46.419691\n",
       "min     14.000000\n",
       "25%     63.250000\n",
       "50%    102.000000\n",
       "75%    127.000000\n",
       "max    269.000000"
      ]
     },
     "execution_count": 23,
     "metadata": {},
     "output_type": "execute_result"
    }
   ],
   "source": [
    "df['wc'] = df['desc'].apply(lambda x: x.count(' ')+1)\n",
    "df.describe()"
   ]
  },
  {
   "cell_type": "code",
   "execution_count": 24,
   "metadata": {
    "pycharm": {
     "name": "#%%\n"
    }
   },
   "outputs": [],
   "source": [
    "df['desc'] = df['desc'].apply(lambda x: x + \"--\")"
   ]
  },
  {
   "cell_type": "code",
   "execution_count": 25,
   "metadata": {
    "pycharm": {
     "name": "#%%\n"
    }
   },
   "outputs": [],
   "source": [
    "with open('train_children_stories.txt', 'w') as f:\n",
    "    f.writelines(df['desc'])\n"
   ]
  },
  {
   "attachments": {},
   "cell_type": "markdown",
   "metadata": {
    "pycharm": {
     "name": "#%% md\n"
    }
   },
   "source": [
    "# Books"
   ]
  },
  {
   "cell_type": "code",
   "execution_count": 26,
   "metadata": {
    "pycharm": {
     "name": "#%%\n"
    }
   },
   "outputs": [],
   "source": [
    "titles = \"The Happy Prince, Andersens Fairy Tales, The Blue Fairy Book, The Adventures of Pinocchio, Myths Retold by Children,Household Tales, Indian Fairy Tales, Fairy Tales Second Series, MERRY STORIES AND FUNNY PICTURES, Childhoods Favorites and Fairy Stories,The Wonderful Wizard of Oz, Celtic Tales, Our Children, The Little Lame Prince, The Prince and Betty, The Adventures of Sherlock Holmes,Peter Pan, The Secret Garden, The Jungle Book, The Adventures of Tom Sawyer, A Little Princess, Little Women, Just So Stories, Moby Dick, Treasure Island, The Idiot, A Tale of Two Cities, My Man Jeeves, Sense and Sensibility, The Time Machine, Comic History of the United States, The Velveteen Rabbit, The Book of Dragons, The Snow Image, The Magical Mimics in Oz, Folk Tales from the Russian, Snow-White or The House in the Wood, Dramatic Reader for Lower Grades, A Christmas Hamper, Aesop Fables, My Fathers Dragon, The Peace Egg and Other tales, Indian Why Stories, Folk-Tales of the Khasis, The Paradise of Children, Wonder Stories, The Best American Humorous Short Stories, Hindu Tales from the Sanskrit, The Tale of Johnny Town-Mouse, The Little Red Hen, East of the Sun and West of the Moon, Among the Forest People, True Stories of Wonderful Deeds, English Fairy Tales, Simla Village Tales Or Folk Tales from the Himalayas, Japanese Fairy Tales, Plain Tales of the North, The Wind in the Willows, The Louisa Alcott Reader. A Supplementary Reader for the Fourth Year of School, A Wonder Book for Girls and Boys, Tanglewood Tales, The Pig Brother and Other Fables and Stories, The Worlds Greatest Books, Vol 3, Goody Two-Shoes, The Marvelous Exploits of Paul Bunyan, Christmas Every Day and Other Stories, The Childrens Book of Thanksgiving Stories\""
   ]
  },
  {
   "attachments": {},
   "cell_type": "markdown",
   "metadata": {
    "pycharm": {
     "name": "#%% md\n"
    }
   },
   "source": [
    "# Fables"
   ]
  },
  {
   "cell_type": "code",
   "execution_count": 1,
   "metadata": {
    "pycharm": {
     "name": "#%%\n"
    }
   },
   "outputs": [],
   "source": [
    "import pandas as pd"
   ]
  },
  {
   "cell_type": "code",
   "execution_count": 3,
   "outputs": [
    {
     "name": "stdout",
     "output_type": "stream",
     "text": [
      "DatasetDict({\n",
      "    test: Dataset({\n",
      "        features: ['story', 'answer0', 'answer1', 'answer2', 'answer3', 'answer4', 'label'],\n",
      "        num_rows: 189\n",
      "    })\n",
      "})\n"
     ]
    }
   ],
   "source": [
    "print(dataset)"
   ],
   "metadata": {
    "collapsed": false,
    "pycharm": {
     "name": "#%%\n"
    }
   }
  },
  {
   "cell_type": "code",
   "execution_count": 5,
   "outputs": [],
   "source": [
    "import cohere"
   ],
   "metadata": {
    "collapsed": false,
    "pycharm": {
     "name": "#%%\n"
    }
   }
  },
  {
   "cell_type": "code",
   "execution_count": 6,
   "outputs": [],
   "source": [
    "import pandas as pd"
   ],
   "metadata": {
    "collapsed": false,
    "pycharm": {
     "name": "#%%\n"
    }
   }
  },
  {
   "cell_type": "code",
   "execution_count": 4,
   "outputs": [],
   "source": [
    "from pydantic import BaseSettings, Field\n",
    "import os\n",
    "\n",
    "if os.getcwd().endswith(\"notebooks\"):\n",
    "    os.chdir(\"..\")"
   ],
   "metadata": {
    "collapsed": false,
    "pycharm": {
     "name": "#%%\n"
    }
   }
  },
  {
   "cell_type": "code",
   "execution_count": 7,
   "outputs": [],
   "source": [
    "%load_ext dotenv\n",
    "%dotenv"
   ],
   "metadata": {
    "collapsed": false,
    "pycharm": {
     "name": "#%%\n"
    }
   }
  },
  {
   "cell_type": "code",
   "execution_count": 8,
   "outputs": [],
   "source": [
    "class Settings(BaseSettings):\n",
    "    cohere_api_key: str = Field()"
   ],
   "metadata": {
    "collapsed": false,
    "pycharm": {
     "name": "#%%\n"
    }
   }
  },
  {
   "cell_type": "code",
   "execution_count": 9,
   "outputs": [
    {
     "name": "stdout",
     "output_type": "stream",
     "text": [
      "cohere_api_key='Nj8mXYRQhCn3ClUF9MDQHqEr6r3QTNgVq1C1KlXY'\n"
     ]
    }
   ],
   "source": [
    "settings = Settings()\n",
    "print(settings)\n"
   ],
   "metadata": {
    "collapsed": false,
    "pycharm": {
     "name": "#%%\n"
    }
   }
  },
  {
   "cell_type": "code",
   "execution_count": 10,
   "outputs": [],
   "source": [
    "co = cohere.Client(settings.cohere_api_key)"
   ],
   "metadata": {
    "collapsed": false,
    "pycharm": {
     "name": "#%%\n"
    }
   }
  },
  {
   "cell_type": "code",
   "execution_count": 11,
   "outputs": [
    {
     "name": "stderr",
     "output_type": "stream",
     "text": [
      "/Users/robert-andreidamian/.local/share/virtualenvs/stories-5rluFyzU/lib/python3.10/site-packages/tqdm/auto.py:22: TqdmWarning: IProgress not found. Please update jupyter and ipywidgets. See https://ipywidgets.readthedocs.io/en/stable/user_install.html\n",
      "  from .autonotebook import tqdm as notebook_tqdm\n",
      "Found cached dataset understanding_fables (/Users/robert-andreidamian/.cache/huggingface/datasets/demelin___understanding_fables/default/1.1.0/677de7da223e0c7aebe64e3b220e2dfd9dfac1e9db60c8681783033294b6d1a6)\n",
      "100%|██████████| 1/1 [00:00<00:00, 27.25it/s]\n"
     ]
    }
   ],
   "source": [
    "from datasets import load_dataset\n",
    "\n",
    "dataset = load_dataset(\"demelin/understanding_fables\")"
   ],
   "metadata": {
    "collapsed": false,
    "pycharm": {
     "name": "#%%\n"
    }
   }
  },
  {
   "cell_type": "code",
   "execution_count": 12,
   "metadata": {
    "pycharm": {
     "name": "#%%\n"
    }
   },
   "outputs": [
    {
     "data": {
      "text/plain": "                                                 story  \\\n0    A badger, crossing a bridge over a river with ...   \n1    A magpie dying of thirst saw a jug, and hoping...   \n2    A middle-aged man, whose hair had started gray...   \n3    Two neighbours came before Zeus and asked him ...   \n4    Some storks chose a field newly sown with whea...   \n..                                                 ...   \n184  A sick bull was lying in a quiet corner of the...   \n185  \"Little shrub, why don’t you do as I do and ra...   \n186  One evening, a goatherd was driving his flock ...   \n187  The lumberjack had felled an old redwood and, ...   \n188  Having visited places all over the world, the ...   \n\n                                               answer0  \\\n0          He who is once deceived is doubly cautious.   \n1    Grasp at the shadow and you will lose the subs...   \n2                     Little by little does the trick.   \n3                      Vices are their own punishment.   \n4                       Revenge will hurt the avenger.   \n..                                                 ...   \n184       Evil companions bring more hurt than profit.   \n185       It is easy to be brave from a safe distance.   \n186  We should bear our troubles bravely rather tha...   \n187  Benefits bestowed upon the evil-disposed incre...   \n188  There is no believing a liar, even when he spe...   \n\n                                               answer1  \\\n0    He winds up friendless who plays both sides ag...   \n1                   Birds of a feather flock together.   \n2    Those who seek to please everybody please nobody.   \n3      There is as much malice in a wink as in a word.   \n4                      Straws show how the wind blows.   \n..                                                 ...   \n184     Better poverty without care, than riches with.   \n185  They who act without sufficient thought, will ...   \n186  Some men are of more consequence in their own ...   \n187  Misfortunes springing from ourselves are the h...   \n188               Trust not in him that seems a saint.   \n\n                                               answer2  \\\n0    Grasp at the shadow and you will lose the subs...   \n1         The hero is brave in deeds as well as words.   \n2    Fine clothes may disguise, but silly words wil...   \n3    He that finds discontentment in one place is n...   \n4             If words suffice not, blows must follow.   \n..                                                 ...   \n184  As in the body, so in the state, each member i...   \n185                     Obscurity often brings safety.   \n186  Old friends cannot with impunity be sacrificed...   \n187       Injuries may be forgiven, but not forgotten.   \n188                         Clumsy jesting is no joke.   \n\n                                              answer3  \\\n0                    Little by little does the trick.   \n1               Necessity is the mother of invention.   \n2             Little friends may prove great friends.   \n3            The gods help them that help themselves.   \n4                  Birds of a feather flock together.   \n..                                                ...   \n184           Better starve free than be a fat slave.   \n185                  Quality is better than quantity.   \n186                  Persuasion is better than force.   \n187          Those who suffer most cry out the least.   \n188  He who does a thing well does not need to boast.   \n\n                                               answer4  label  \n0    Those who pretend to be what they are not, soo...      2  \n1     An ounce of prevention is worth a pound of cure.      3  \n2             One story is good, till another is told.      1  \n3    It shows an evil disposition to take advantage...      0  \n4    It is too late to whet the sword when the trum...      2  \n..                                                 ...    ...  \n184  You may share the labours of the great, but yo...      0  \n185             Example is more powerful than precept.      2  \n186  Trouble comes from the direction we least expe...      2  \n187                 Pleasure bought with pains, hurts.      1  \n188                   It is absurd to ape our betters.      3  \n\n[189 rows x 7 columns]",
      "text/html": "<div>\n<style scoped>\n    .dataframe tbody tr th:only-of-type {\n        vertical-align: middle;\n    }\n\n    .dataframe tbody tr th {\n        vertical-align: top;\n    }\n\n    .dataframe thead th {\n        text-align: right;\n    }\n</style>\n<table border=\"1\" class=\"dataframe\">\n  <thead>\n    <tr style=\"text-align: right;\">\n      <th></th>\n      <th>story</th>\n      <th>answer0</th>\n      <th>answer1</th>\n      <th>answer2</th>\n      <th>answer3</th>\n      <th>answer4</th>\n      <th>label</th>\n    </tr>\n  </thead>\n  <tbody>\n    <tr>\n      <th>0</th>\n      <td>A badger, crossing a bridge over a river with ...</td>\n      <td>He who is once deceived is doubly cautious.</td>\n      <td>He winds up friendless who plays both sides ag...</td>\n      <td>Grasp at the shadow and you will lose the subs...</td>\n      <td>Little by little does the trick.</td>\n      <td>Those who pretend to be what they are not, soo...</td>\n      <td>2</td>\n    </tr>\n    <tr>\n      <th>1</th>\n      <td>A magpie dying of thirst saw a jug, and hoping...</td>\n      <td>Grasp at the shadow and you will lose the subs...</td>\n      <td>Birds of a feather flock together.</td>\n      <td>The hero is brave in deeds as well as words.</td>\n      <td>Necessity is the mother of invention.</td>\n      <td>An ounce of prevention is worth a pound of cure.</td>\n      <td>3</td>\n    </tr>\n    <tr>\n      <th>2</th>\n      <td>A middle-aged man, whose hair had started gray...</td>\n      <td>Little by little does the trick.</td>\n      <td>Those who seek to please everybody please nobody.</td>\n      <td>Fine clothes may disguise, but silly words wil...</td>\n      <td>Little friends may prove great friends.</td>\n      <td>One story is good, till another is told.</td>\n      <td>1</td>\n    </tr>\n    <tr>\n      <th>3</th>\n      <td>Two neighbours came before Zeus and asked him ...</td>\n      <td>Vices are their own punishment.</td>\n      <td>There is as much malice in a wink as in a word.</td>\n      <td>He that finds discontentment in one place is n...</td>\n      <td>The gods help them that help themselves.</td>\n      <td>It shows an evil disposition to take advantage...</td>\n      <td>0</td>\n    </tr>\n    <tr>\n      <th>4</th>\n      <td>Some storks chose a field newly sown with whea...</td>\n      <td>Revenge will hurt the avenger.</td>\n      <td>Straws show how the wind blows.</td>\n      <td>If words suffice not, blows must follow.</td>\n      <td>Birds of a feather flock together.</td>\n      <td>It is too late to whet the sword when the trum...</td>\n      <td>2</td>\n    </tr>\n    <tr>\n      <th>...</th>\n      <td>...</td>\n      <td>...</td>\n      <td>...</td>\n      <td>...</td>\n      <td>...</td>\n      <td>...</td>\n      <td>...</td>\n    </tr>\n    <tr>\n      <th>184</th>\n      <td>A sick bull was lying in a quiet corner of the...</td>\n      <td>Evil companions bring more hurt than profit.</td>\n      <td>Better poverty without care, than riches with.</td>\n      <td>As in the body, so in the state, each member i...</td>\n      <td>Better starve free than be a fat slave.</td>\n      <td>You may share the labours of the great, but yo...</td>\n      <td>0</td>\n    </tr>\n    <tr>\n      <th>185</th>\n      <td>\"Little shrub, why don’t you do as I do and ra...</td>\n      <td>It is easy to be brave from a safe distance.</td>\n      <td>They who act without sufficient thought, will ...</td>\n      <td>Obscurity often brings safety.</td>\n      <td>Quality is better than quantity.</td>\n      <td>Example is more powerful than precept.</td>\n      <td>2</td>\n    </tr>\n    <tr>\n      <th>186</th>\n      <td>One evening, a goatherd was driving his flock ...</td>\n      <td>We should bear our troubles bravely rather tha...</td>\n      <td>Some men are of more consequence in their own ...</td>\n      <td>Old friends cannot with impunity be sacrificed...</td>\n      <td>Persuasion is better than force.</td>\n      <td>Trouble comes from the direction we least expe...</td>\n      <td>2</td>\n    </tr>\n    <tr>\n      <th>187</th>\n      <td>The lumberjack had felled an old redwood and, ...</td>\n      <td>Benefits bestowed upon the evil-disposed incre...</td>\n      <td>Misfortunes springing from ourselves are the h...</td>\n      <td>Injuries may be forgiven, but not forgotten.</td>\n      <td>Those who suffer most cry out the least.</td>\n      <td>Pleasure bought with pains, hurts.</td>\n      <td>1</td>\n    </tr>\n    <tr>\n      <th>188</th>\n      <td>Having visited places all over the world, the ...</td>\n      <td>There is no believing a liar, even when he spe...</td>\n      <td>Trust not in him that seems a saint.</td>\n      <td>Clumsy jesting is no joke.</td>\n      <td>He who does a thing well does not need to boast.</td>\n      <td>It is absurd to ape our betters.</td>\n      <td>3</td>\n    </tr>\n  </tbody>\n</table>\n<p>189 rows × 7 columns</p>\n</div>"
     },
     "execution_count": 12,
     "metadata": {},
     "output_type": "execute_result"
    }
   ],
   "source": [
    "df = pd.DataFrame.from_dict(dataset['test'])\n",
    "df"
   ]
  },
  {
   "cell_type": "code",
   "execution_count": 13,
   "metadata": {
    "pycharm": {
     "name": "#%%\n"
    }
   },
   "outputs": [],
   "source": [
    "def select_answer(x):\n",
    "    i = x['label']\n",
    "    \n",
    "    if i == 0:\n",
    "        return x['answer0']\n",
    "    if i == 1:\n",
    "        return x['answer1']\n",
    "    if i == 2:\n",
    "        return x['answer2']\n",
    "    if i == 3:\n",
    "        return x['answer3']\n",
    "\n",
    "    return x['answer4']"
   ]
  },
  {
   "cell_type": "code",
   "execution_count": 14,
   "metadata": {
    "pycharm": {
     "name": "#%%\n"
    }
   },
   "outputs": [],
   "source": [
    "df['moral'] = df.apply(select_answer, axis=1)"
   ]
  },
  {
   "cell_type": "code",
   "execution_count": 15,
   "outputs": [],
   "source": [
    "fable_list = [s for s in df['story']]\n",
    "moral_list = [m for m in df['moral']]"
   ],
   "metadata": {
    "collapsed": false,
    "pycharm": {
     "name": "#%%\n"
    }
   }
  },
  {
   "cell_type": "code",
   "execution_count": 16,
   "outputs": [
    {
     "data": {
      "text/plain": "['Grasp at the shadow and you will lose the substance.',\n 'Necessity is the mother of invention.',\n 'Those who seek to please everybody please nobody.',\n 'Vices are their own punishment.',\n 'If words suffice not, blows must follow.',\n 'Birds of a feather flock together.',\n 'If you allow men to use you for your own purposes, they will use you for theirs.',\n 'We must make friends in prosperity if we would have their help in adversity.',\n 'A liar deceives no one but himself.',\n 'A false tale often betrays itself.',\n 'Example is more powerful than precept.',\n 'To do the right thing at the right season is a great art.',\n \"To be satisfied with one's lot is better than to desire something which one is not fitted to receive.\",\n 'Self-help is the best help.',\n 'Enemies promises were made to be broken.',\n 'Familiarity breeds contempt.',\n 'Hypocritical speeches are easily seen through.',\n 'They are foolish who give their enemy the means of destroying them.',\n 'He who plays a trick must be prepared to take a joke.',\n 'Distrust interested advice.',\n 'Stoop to conquer.',\n 'No one can be a friend if you know not whether to trust or distrust him.',\n 'Greed often overreaches itself.',\n 'Industry sometimes pays unexpected dividends.',\n 'He who incites to strife is worse than he who takes part in it.',\n 'The loiterer often blames delay on his more active friend.',\n 'No one truly forgets injuries in the presence of him who caused the injury.',\n \"One man's pleasure may be another's pain.\",\n 'Not everything you see is what it appears to be.',\n 'Train up a child in the way he should go; and when he is old he will not depart therefrom.',\n 'Do unto others what you would have them do unto you.',\n 'It is wise to turn circumstances to good account.',\n 'Whatever you do, do with all your might.',\n \"It is easier to get into the enemy's toils than out again.\",\n 'Evil tendencies are shown in early life.',\n 'Regardless of our wishes, or even our intent, it is to our nature alone that we will be faithful.',\n 'To the selfish all are selfish.',\n 'It is easy to kick a man that is down.',\n 'Flatters are not to be trusted.',\n 'Men often bear little grievances with less courage than they do large misfortunes.',\n 'One good turn deserves another.',\n 'He that finds discontentment in one place is not likely to find happiness in another.',\n 'In time of dire need, clever thinking is key.',\n 'Never trust your enemy.',\n 'Wit has always an answer ready.',\n 'The greatest kindness will not bind the ungrateful.',\n 'Avoid a remedy that is worse than the disease.',\n 'Happy is the man who learns from the misfortunes of others.',\n 'Beware of a friend with an ulterior motive.',\n 'It shows an evil disposition to take advantage of a friend in distress.',\n 'Every one is more or less master of his own fate.',\n 'In avoiding one evil, care must be taken not to fall into another.',\n 'Revenge will hurt the avenger.',\n 'Change of habit cannot alter nature.',\n 'Pleasure bought with pains, hurts.',\n \"Youth's first duty is reverence to parents.\",\n 'There is as much malice in a wink as in a word.',\n 'Abstain and enjoy.',\n 'You cannot escape your fate.',\n 'Cunning often outwits itself.',\n 'Those who assume a character which does not belong to them, only make themselves ridiculous.',\n 'He who shares the danger ought to share the prize.',\n 'Misfortune tests the sincerity of friends.',\n 'What is most truly valuable is often underrated.',\n 'Some men underrate their best blessings.',\n 'What memories cling around the instruments of our pleasure.',\n 'It is useless attacking the insensible.',\n 'They who act without sufficient thought, will often fall into unsuspected danger.',\n 'Nature will come out.',\n 'Gratitude is the sign of noble souls.',\n 'In serving the wicked, expect no reward, and be thankful if you escape injury for your pains.',\n 'Do not blindly trust gossipers.',\n 'Men of evil reputation, when they perform a good deed, fail to get credit for it.',\n 'Little liberties are great offenses.',\n 'Better starve free than be a fat slave.',\n 'Equals make the best friends.',\n 'Appearances are deceptive.',\n 'Be on guard against men who can strike from a distance.',\n 'Fine clothes may disguise, but silly words will disclose a fool.',\n 'The best intentions will not always ensure success.',\n 'Let well enough alone.',\n 'Better poverty without care, than riches with.',\n 'Physician, heal yourself!',\n \"Nothing escapes the master's eye.\",\n 'Union gives strength.',\n 'A bribe in hand betrays mischief at heart.',\n 'A man is known by the company he keeps.',\n 'Greatness carries its own penalties.',\n 'A needy thief steals more than one who enjoys plenty.',\n 'How often do we supply our enemies with the means of our own destruction.',\n 'Appearances are deceptive.',\n 'Do unto others as you would have them do unto you.',\n 'Count the cost before you commit yourselves.',\n 'Look before you leap.',\n 'Do not attempt too much at once.',\n 'He that is neither one thing nor the other has no friends.',\n 'Men often applaud an imitation and hiss the real thing.',\n 'Only cowards insult dying majesty.',\n 'Your pride is just the prologue of your shame.',\n 'Some begrudge others what they cannot enjoy themselves.',\n 'Like will draw like.',\n 'There is allways someone worse off than yourself.',\n 'Self-conceit may lead to self-destruction.',\n 'Destroy the seed of evil, or it will grow up to your ruin.',\n 'The more honor the more danger.',\n 'Zeal should not outrun discretion.',\n 'Any fool can despise what he cannot get.',\n 'Benefits bestowed upon the evil-disposed increase their means of injuring you.',\n 'He that has many friends, has no friends.',\n 'Children are not to be blamed for the faults of their parents.',\n 'Love can tame the wildest.',\n 'Precautions are useless after the crisis.',\n 'Even a fool is wise - when it is too late!',\n 'Our mere anticipations of life outrun its realities.',\n 'Try before you trust.',\n 'False confidence is the forerunner of misfortune.',\n 'Honesty is the best policy.',\n 'Slow but steady wins the race.',\n 'A little thing in hand is worth more than a great thing in prospect.',\n 'Wealth unused might as well not exist.',\n 'Quality is better than quantity.',\n 'Necessity knows no law.',\n 'No act of kindness, no matter how small, is ever wasted.',\n 'As in the body, so in the state, each member in his proper sphere must work for the common good.',\n 'Counsel without help is useless.',\n 'A man may smile yet be a villain.',\n 'Union is strength.',\n 'Some are too apt to condemn in others the very things they do themselves.',\n 'It sometimes happens that one man has all the toil, and another all the profit.',\n 'Strife feeds on conflict.',\n 'Necessity is our strongest weapon.',\n 'In quarreling about the shadow we often lose the substance.',\n 'Kindness effects more than severity.',\n 'The gods help them that help themselves.',\n \"You can't please everybody.\",\n 'The safeguards of virtue are hateful to those with evil intentions.',\n 'Any excuse will serve a tyrant.',\n 'The hero is brave in deeds as well as words.',\n 'Self-interest alone moves some men.',\n 'Every truth has two sides.',\n 'Trust not in him that seems a saint.',\n 'Do not be in a hurry to change one evil for another.',\n \"Fine feathers don't make fine birds.\",\n 'It is not only fine feathers that make fine birds.',\n 'Harm hatch, harm catch.',\n 'A willful beast must go his own way.',\n 'Use helps to overcome dread.',\n 'Every man for himself.',\n 'It is thrifty to prepare today for the wants of tomorrow.',\n 'An ounce of prevention is worth a pound of cure.',\n 'The ignorant despise what is precious only because they cannot understand it.',\n 'No arguments will give courage to the coward.',\n 'Those who seek harm will find it.',\n 'True art is thoughtful, delights and endures.',\n 'Do not attempt to hide things which cannot be hid.',\n 'It is easy to be brave from a safe distance.',\n 'In a change of government the poor change nothing beyond the name of their master.',\n 'Outside show is a poor substitute for inner worth.',\n 'You may share the labours of the great, but you will not share the spoil.',\n 'We should bear our troubles bravely rather than try to escape them.',\n 'Every tale is not to be believed.',\n 'Look before you leap.',\n 'He laughs best that laughs last.',\n 'Do not count your chickens before they are hatched.',\n 'We would often be sorry if our wishes were gratified.',\n 'Those who enter by the back stairs may expect to be shown out at the window.',\n 'It is absurd to ape our betters.',\n 'One good turn deserves another.',\n 'The desire for imaginary benefits often involves the loss of present blessings.',\n 'It is too late to whet the sword when the trumpet sounds.',\n 'Every man should be content to mind his own business.',\n 'There is no believing a liar, even when he speaks the truth.',\n 'Contentment with our lot is an element of happiness.',\n 'One story is good, till another is told.',\n 'Attempt not impossibilities.',\n 'A willful man will have his way to his own hurt.',\n 'Vanity carries its own punishment.',\n 'Evil wishes, like chickens, come home to roost.',\n 'They are not wise who give to themselves the credit due to others.',\n 'Notoriety is often mistaken for fame.',\n 'Some men are of more consequence in their own eyes than in the eyes of their neighbors.',\n 'Pride goes before destruction.',\n 'Those who suffer most cry out the least.',\n 'The least outlay is not always the greatest gain.',\n 'Evil companions bring more hurt than profit.',\n 'Obscurity often brings safety.',\n 'Old friends cannot with impunity be sacrificed for new ones.',\n 'Misfortunes springing from ourselves are the hardest to bear.',\n 'He who does a thing well does not need to boast.']"
     },
     "execution_count": 16,
     "metadata": {},
     "output_type": "execute_result"
    }
   ],
   "source": [
    "moral_list"
   ],
   "metadata": {
    "collapsed": false,
    "pycharm": {
     "name": "#%%\n"
    }
   }
  },
  {
   "cell_type": "code",
   "execution_count": 19,
   "outputs": [],
   "source": [
    "response = co.embed(moral_list)"
   ],
   "metadata": {
    "collapsed": false,
    "pycharm": {
     "name": "#%%\n"
    }
   }
  },
  {
   "cell_type": "code",
   "execution_count": 24,
   "outputs": [],
   "source": [
    "import pickle5 as pickle\n",
    "\n",
    "with open(\"resources/fables-with-emb.pkl\", \"wb\") as f:\n",
    "    pickle.dump({'morales': moral_list, 'fables': fable_list, 'embs': response.embeddings}, f)"
   ],
   "metadata": {
    "collapsed": false,
    "pycharm": {
     "name": "#%%\n"
    }
   }
  },
  {
   "cell_type": "code",
   "execution_count": 29,
   "outputs": [],
   "source": [
    "import numpy as np\n",
    "\n",
    "def cosine_similarity(a, b):\n",
    "    return np.dot(a, b)/(np.linalg.norm(a)*np.linalg.norm(b))"
   ],
   "metadata": {
    "collapsed": false,
    "pycharm": {
     "name": "#%%\n"
    }
   }
  },
  {
   "cell_type": "code",
   "execution_count": 27,
   "outputs": [],
   "source": [
    "input_morale = \"Do not be greedy\"\n",
    "\n",
    "input_response = co.embed([input_morale])"
   ],
   "metadata": {
    "collapsed": false,
    "pycharm": {
     "name": "#%%\n"
    }
   }
  },
  {
   "cell_type": "code",
   "execution_count": 30,
   "outputs": [
    {
     "data": {
      "text/plain": "[0.4190340852886365,\n 0.25537173160267296,\n 0.31405660379586625,\n 0.3353071221688184,\n 0.3271245750820159,\n 0.2783938189751237,\n 0.35763485947255935,\n 0.3075271455337711,\n 0.2829263665550515,\n 0.2676509308612076,\n 0.2572918953813868,\n 0.3185671539226144,\n 0.3712409869946802,\n 0.283434432280682,\n 0.40623675543956406,\n 0.29618039362452214,\n 0.20439772388842978,\n 0.3569012108316007,\n 0.3328019076921526,\n 0.43053121137529754,\n 0.4133069685591631,\n 0.29704297522744216,\n 0.5354722681670517,\n 0.2673605735729581,\n 0.24327313438247256,\n 0.24167614673103938,\n 0.26880164627887876,\n 0.3913904967442658,\n 0.2901341317680963,\n 0.2395988040274106,\n 0.46328932226773,\n 0.30884949212431717,\n 0.43365375351027063,\n 0.24554490209295107,\n 0.3080053157373688,\n 0.34938402605760926,\n 0.4526902951696675,\n 0.24931043884157483,\n 0.377800334237184,\n 0.21522623518388795,\n 0.44603318599084146,\n 0.27804220130430785,\n 0.3452397953418729,\n 0.44491690269051415,\n 0.29280942738361804,\n 0.45756202629796,\n 0.3074192972200423,\n 0.3875584852462269,\n 0.47887619583876695,\n 0.3550525203812149,\n 0.257583318505257,\n 0.36635677417623913,\n 0.35458226110258667,\n 0.23056875514808353,\n 0.38732809389404765,\n 0.2701451672214998,\n 0.2598511933958383,\n 0.43165895489356104,\n 0.3897053048224255,\n 0.2997882811386382,\n 0.21209009504242893,\n 0.43241833691555437,\n 0.29421699184922917,\n 0.35164997991237806,\n 0.3937997982057518,\n 0.2985417291904223,\n 0.23417681463445483,\n 0.24897984675760879,\n 0.3224416180994218,\n 0.4232778314791828,\n 0.32082047318339846,\n 0.39124843518225033,\n 0.29917937691203794,\n 0.3797807176899121,\n 0.36884270167190264,\n 0.358159100904878,\n 0.3448854626035752,\n 0.3525268962800606,\n 0.20728987542780447,\n 0.34164515215375735,\n 0.5148539139106412,\n 0.35082242381615636,\n 0.3898496857760814,\n 0.37261577801267115,\n 0.29027343611983436,\n 0.3894283453162479,\n 0.28462681457383093,\n 0.3990855608487248,\n 0.4822086722041863,\n 0.2970383597985552,\n 0.3448854626035752,\n 0.4452043705376469,\n 0.4118038368711255,\n 0.43013930310849013,\n 0.5027943598175691,\n 0.2915874647653505,\n 0.21913118366858134,\n 0.3056880533630237,\n 0.3608989466564897,\n 0.48468568516299854,\n 0.30449403768208183,\n 0.35410076353024467,\n 0.33245955531640153,\n 0.4399358579202371,\n 0.3559280193836282,\n 0.4494088166738218,\n 0.3998405165481727,\n 0.2934726499439974,\n 0.34885306303889346,\n 0.25574280458320486,\n 0.34996232765784696,\n 0.2338031319124852,\n 0.31817665291992586,\n 0.32271542323596386,\n 0.4503553745559005,\n 0.3290322134312282,\n 0.3963355560760161,\n 0.3657146317782523,\n 0.38454364390158735,\n 0.41101554076395064,\n 0.401164809243338,\n 0.33001416188606286,\n 0.3246502965997624,\n 0.19638745137655492,\n 0.2612593541500268,\n 0.3221119144529459,\n 0.3017713443092693,\n 0.21120737016575947,\n 0.3404896663581367,\n 0.3479400538335154,\n 0.3188681712666227,\n 0.2655477092684248,\n 0.29178595183847905,\n 0.2893782248891259,\n 0.40376185698707223,\n 0.30226185702262603,\n 0.21730311741753155,\n 0.28155874117657653,\n 0.31265522583475985,\n 0.2671209680238537,\n 0.3789898919413545,\n 0.3875028885829286,\n 0.3131519577961853,\n 0.2861961067593818,\n 0.35514320797629184,\n 0.4007824480849046,\n 0.2829156208334184,\n 0.47214772845009195,\n 0.3973069003696161,\n 0.29735087305678126,\n 0.305533064898126,\n 0.24336208799376152,\n 0.37855110696142596,\n 0.28110242751798464,\n 0.3782425975743574,\n 0.2765592759362276,\n 0.24562105185661198,\n 0.2914578394997425,\n 0.5291335955722818,\n 0.22101532174116525,\n 0.34904954684558887,\n 0.43013930310849013,\n 0.2889703600199149,\n 0.4266704879532562,\n 0.4627693782962694,\n 0.2885470665524782,\n 0.327703331628511,\n 0.44603318599084146,\n 0.3286324728809212,\n 0.3323729576564711,\n 0.42114336514437595,\n 0.2675016696871598,\n 0.2924575398908768,\n 0.34158055772981655,\n 0.3809060797969013,\n 0.3529142846097065,\n 0.3798599941953294,\n 0.3717865914842071,\n 0.3753391691551162,\n 0.19480764213969304,\n 0.23983585627087567,\n 0.34133041392131575,\n 0.2581047907691836,\n 0.299605864445903,\n 0.39187728957267015,\n 0.23557796316998023,\n 0.3515930294514406,\n 0.25667552731243976,\n 0.30791550130801565]"
     },
     "execution_count": 30,
     "metadata": {},
     "output_type": "execute_result"
    }
   ],
   "source": [
    "distances = [cosine_similarity(np.array(e), np.array(input_response.embeddings[0])) for e in response.embeddings]\n",
    "distances"
   ],
   "metadata": {
    "collapsed": false,
    "pycharm": {
     "name": "#%%\n"
    }
   }
  },
  {
   "cell_type": "code",
   "execution_count": 32,
   "outputs": [
    {
     "data": {
      "text/plain": "'Greed often overreaches itself.'"
     },
     "execution_count": 32,
     "metadata": {},
     "output_type": "execute_result"
    }
   ],
   "source": [
    "best_match = np.argmax(distances)\n",
    "moral_list[best_match]"
   ],
   "metadata": {
    "collapsed": false,
    "pycharm": {
     "name": "#%%\n"
    }
   }
  },
  {
   "cell_type": "code",
   "execution_count": 22,
   "outputs": [
    {
     "name": "stdout",
     "output_type": "stream",
     "text": [
      "[2.5332031, 0.12878418, 0.2553711, -0.7885742, -1.1542969, 0.13623047, -0.87402344, 0.11651611, -1.7714844, -0.54785156, 0.5136719, -0.328125, -2.4453125, -2.3554688, 0.43237305, 0.8222656, -1.4726562, 1.7167969, 1.6113281, 0.2722168, 0.11468506, 1.4082031, 0.7836914, -0.67626953, 1.8164062, -0.4970703, 0.9628906, -0.65966797, -0.55810547, 0.15515137, -1.0292969, 1.1347656, 0.07421875, 2.2539062, 0.5566406, 0.2746582, 0.75878906, -1.0478516, 1.1015625, 0.234375, 1.3994141, 1.4443359, -0.027191162, 0.30151367, 1.859375, -1.0996094, -0.8623047, -0.13293457, 0.26367188, 1.3554688, -0.7006836, -1.0712891, -0.91503906, -0.23693848, 0.47509766, 0.31201172, -3.3164062, -0.8208008, 0.5283203, 1.2851562, 0.16540527, 1.6943359, -0.39672852, 0.6513672, 0.80908203, 0.045562744, -1.3496094, -0.14208984, 0.09460449, 0.9770508, 2.1171875, 1.0908203, -1.1289062, -0.19006348, -0.72998047, 0.8461914, -3.4921875, -0.90722656, 1.5214844, 0.35498047, 1.0849609, -1.5244141, -1.0371094, -1.6142578, -2.4316406, 0.85595703, -1.0625, -0.47875977, -0.6923828, 4.8046875, 0.8515625, 0.7207031, -1.0439453, 0.10089111, 0.5449219, 1.2548828, 0.8911133, 0.875, -0.6323242, 0.23486328, -0.027313232, 2.3886719, 0.39111328, -1.5507812, 0.31860352, -1.2128906, 0.58251953, -0.094055176, 2.1679688, 1.1767578, -0.54003906, -0.4326172, -0.9243164, 1.2744141, 0.8144531, -1.609375, 4.2109375, 0.9223633, 1.4980469, -0.27124023, 1.1582031, 1.2548828, 0.57910156, -1.4160156, 1.34375, 1.5556641, -0.36279297, -0.027420044, -2.6484375, 0.79003906, 0.12561035, -0.38720703, 1.4267578, 1.0126953, -1.2275391, -1.8144531, 1.7177734, -0.043762207, 0.039611816, -0.71777344, 1.5214844, -2.0136719, 1.3730469, 3, 0.8276367, 0.052246094, -0.8901367, -0.46655273, 2.1015625, -1.2099609, -0.3647461, 0.2705078, 1.5644531, 0.51220703, 0.9301758, -1.1210938, 2.0195312, -2.2304688, -3.2734375, -0.6201172, -1.6816406, 3.3789062, 1.8642578, 0.6401367, -0.9946289, 0.8413086, -0.8466797, 0.2479248, 1.078125, 0.29614258, 0.7895508, 1.1826172, 1.5742188, -1.4882812, -1.9726562, -0.6767578, 0.087768555, -1.5791016, -1.6582031, 1.8173828, 1.2177734, 0.40673828, -0.6381836, 0.7807617, 0.51904297, 0.73095703, -1.0361328, 0.6333008, 2.2539062, 0.52490234, -2.2792969, -0.10784912, -0.8911133, -1.4326172, 1.4101562, 1.1289062, -2.1953125, 0.29370117, 1.0537109, -2.1679688, 1.0996094, -0.69970703, 0.43920898, 1.9326172, 0.45214844, -1.6103516, 1.4013672, 1.3974609, 1.4160156, -0.36547852, 0.3864746, -0.52490234, -1.5947266, 1.5292969, 0.24682617, 1.8486328, 1.2011719, 0.52001953, -0.3774414, -0.98535156, 1.7900391, -0.4975586, -1.4667969, -0.3762207, -0.017166138, 1.1308594, 1.2636719, 0.12805176, -1.1269531, 0.5605469, -0.39892578, -0.5097656, 1.2041016, -0.54003906, -0.13305664, 0.60546875, -0.037078857, -0.42578125, 1.1396484, 0.44482422, 1.6240234, 0.009880066, 0.625, 1.5410156, -0.82373047, 1.6923828, -0.90527344, -1.0214844, -0.21826172, -2.4414062, 1.0869141, 1.1767578, 0.8955078, -0.009841919, 1.0068359, 0.037139893, 3.96875, -0.06762695, -1.1640625, 2.4863281, -1.5244141, -2.6035156, 0.90625, 0.54248047, -0.5595703, -1.0791016, -0.79785156, -2.7910156, -0.6904297, -3.0390625, -0.8041992, 0.18835449, -3.9785156, -0.14782715, 1.4462891, -2.3828125, -2.4882812, 2.4960938, -1.8818359, 0.17407227, 1.9492188, -0.39160156, -2.0429688, 1.2275391, -1.1230469, 0.8461914, -2.1640625, 0.27856445, 1.3837891, 0.44921875, 0.075927734, -0.25927734, -0.07141113, -2.2675781, -1.0820312, -1.9951172, 0.34716797, 1.7207031, -0.5991211, -1.3681641, 0.9633789, -0.3635254, 0.6972656, 0.61035156, 0.9946289, -1.0410156, 0.23352051, -1.6884766, 2.4648438, 1.9638672, 0.9550781, 0.86621094, 1.9462891, -1.2412109, -0.39794922, -0.13305664, -2.1074219, -0.53125, -0.4946289, 0.11846924, -0.1809082, -0.3984375, 0.22607422, 0.8300781, -1.4267578, 1.578125, -0.036987305, 0.15930176, -1.7246094, -1.3320312, -1.4394531, -2.09375, -1.1923828, 0.4284668, -3.2363281, 0.25634766, -0.96533203, 2.6152344, -1.7070312, 1.3164062, -1.3007812, -0.8383789, 1.3896484, 0.14587402, 0.44018555, -0.9296875, -0.6196289, 0.087768555, -3.3359375, -1.0136719, 0.7167969, 2.5546875, -1.5263672, -2.03125, 0.3161621, 1.0263672, 2.4355469, -0.5419922, 3.3847656, 1.5683594, 1.5664062, -0.0067214966, 1.3857422, -1.3535156, 1.2402344, 0.4790039, 0.21459961, 1.2792969, 0.8334961, 1.09375, -0.80908203, -0.115356445, -1.6503906, -0.2775879, -0.39819336, 1.6474609, 0.7792969, -1.0234375, -0.1381836, -3.0429688, -3.0234375, 0.9560547, 1.3505859, 1.4599609, 0.44921875, 0.6308594, -0.9995117, -3.09375, 0.1550293, 0.74658203, -0.090148926, 2.5019531, 0.16137695, -2.9511719, -0.27368164, 2.1542969, -0.36035156, -1.6777344, 2.0117188, -1.3330078, -0.40405273, 2.0644531, -3.4160156, -0.011749268, 0.13452148, -1.7255859, 2.0664062, -0.20336914, -0.7006836, -0.5175781, 0.23168945, 0.13696289, -1.1552734, -0.8535156, 1.2675781, -1.0927734, -0.6796875, 1.6230469, -0.48706055, 0.36279297, 0.39941406, 1.9755859, 1.7285156, 0.6542969, -0.6801758, -0.5029297, 2.125, -2.5351562, 2.65625, -0.46044922, -0.024597168, 1.0048828, -1.0410156, -1.9599609, 1.2089844, -2.4277344, 0.75341797, -2.1503906, -3.5585938, 3.7050781, 1.9326172, -0.43579102, -1.7871094, -0.62939453, -0.4375, 4.8085938, 0.087890625, 1.0009766, -0.77685547, 1.1777344, -5.1835938, -1.796875, 0.7192383, -0.16320801, -0.69970703, 1.1240234, -0.4802246, -0.47607422, -1.6308594, 0.6611328, -0.9946289, -1.0703125, -0.28076172, 0.12207031, -0.57373047, 1.1523438, -0.32592773, 0.5522461, 0.8198242, -0.15124512, -2.2773438, 0.39086914, 0.6542969, -0.21350098, -3.6445312, -0.5527344, -0.5390625, 1.6347656, -0.3010254, 0.66503906, 0.8144531, -0.17370605, -0.40649414, -0.24731445, 0.63964844, 0.11621094, 0.7890625, 0.9243164, -0.33374023, 0.31079102, -0.67285156, -0.32836914, 1.6474609, 0.027801514, 1.7402344, -0.7841797, 1.359375, -0.4345703, 2.3105469, 1.2460938, 0.234375, 1.8837891, 0.9975586, 0.4099121, -1.1152344, 0.1821289, 1.8945312, 0.015510559, 1.5019531, 2.6699219, -0.4777832, -0.5957031, -0.9189453, 1.75, -4.3085938, 0.6694336, -0.77246094, -2.6484375, 0.2265625, 0.29736328, 0.22290039, -1.4667969, -1.3164062, 1.1933594, -0.984375, -0.6298828, 0.29101562, -4.0039062, -0.3203125, 1.7910156, 0.421875, 0.31420898, -2.0605469, -1.0986328, 0.59277344, -0.5654297, 0.7993164, 0.051574707, -0.7763672, -0.09112549, 0.64941406, -2.2617188, -1.5, -0.73339844, -0.07122803, -0.59277344, 0.69091797, -2.2480469, 0.42285156, -1.375, -0.2310791, 0.6323242, 0.8691406, -2.4902344, 0.4699707, -0.6176758, -4.0234375, -0.6035156, -1.4384766, 0.38183594, -0.8027344, 0.9765625, 0.63720703, -2.1894531, 0.1887207, 0.56396484, 0.3635254, -1.0058594, -1.5322266, -1.1992188, 0.4658203, -1.0820312, -1.8857422, 0.36987305, 1.0537109, -1.2519531, 0.87060547, 0.06921387, 0.5708008, 0.9506836, 0.32080078, 1.5292969, 1.5888672, -1.9316406, 0.0047340393, -0.14428711, -0.3293457, -1.2900391, 0.36108398, 0.76464844, 1.1416016, -0.8491211, -1.0839844, 0.008430481, -1.2949219, -1.2978516, -0.06341553, -2.5859375, 1.6416016, -0.8647461, 1.5214844, -1.1962891, -0.47314453, 4.921875, 0.48608398, 0.66308594, 0.21801758, -0.80029297, -0.6582031, 0.2265625, 3.5097656, 1.5615234, -2.625, 1.2275391, 2.3046875, -0.6269531, 0.80908203, -0.3388672, -0.3491211, -0.5175781, 0.116760254, -0.98095703, -0.62597656, 0.7167969, 1.2509766, -0.8642578, -1.8388672, -1.9013672, 0.50878906, 0.32666016, -0.4013672, 1.2041016, 3.4199219, 2.1289062, -1.6035156, -2.3515625, -1.0888672, 0.9609375, 0.5605469, -0.2939453, 1.8066406, -0.6430664, 0.6508789, -2.1230469, 2.03125, 0.84375, -1.21875, -1.8232422, -0.12866211, 0.2286377, 1.7861328, -2.6074219, 3.8710938, 1.5527344, -0.8647461, -1.3056641, -0.5957031, 0.1685791, -1.8964844, 0.0052223206, 0.22009277, -0.4753418, -0.16821289, 1.0878906, -1.0722656, -1.3837891, 2.3203125, 0.59228516, 0.074523926, -3.0585938, 0.4880371, -1.8574219, 0.4284668, -2.6679688, 0.0234375, -0.48217773, 1.4492188, -0.8383789, -1.9648438, -1.1210938, -1.4003906, 3.0605469, -0.8461914, -0.2052002, -1.1542969, -0.99560547, -1.4941406, 1.1738281, 0.68408203, -2.3652344, 1.7304688, -1.0488281, -0.3071289, 0.32470703, -1.734375, -0.32861328, 0.7050781, -0.99658203, -0.5644531, -1.6503906, -0.6894531, -0.703125, 2.1367188, 0.81591797, 0.7807617, -1.2392578, 0.0259552, 1.0146484, 0.29467773, -0.3671875, 0.47607422, -0.63720703, -2.6445312, 2, 0.16345215, -0.03161621, 1.328125, 0.66503906, -0.9838867, -0.36450195, 0.3737793, 1.3496094, 0.8066406, 0.062286377, 1.1757812, -5.171875, -0.15759277, -0.8017578, -0.6152344, -2.3222656, -2.0644531, 0.9326172, -1.2871094, -1.8505859, -1.5019531, 1.0273438, 0.73876953, -2.2773438, 3.0546875, 0.05404663, 0.8173828, 1.7431641, 0.15515137, 0.7207031, 0.107299805, -0.29345703, -0.013710022, 0.006855011, -0.36694336, 0.8569336, -2.4394531, 1.3759766, -0.16235352, -1.5048828, -0.11743164, -0.57470703, -1.0927734, -2.0488281, 1.1884766, -0.29003906, -1.1181641, -0.23364258, -0.3930664, -0.16223145, 0.31152344, -1.3662109, 1.5488281, 0.39868164, 0.28930664, 0.6899414, 0.1295166, 1.6992188, -1.3427734, 0.11553955, 0.71777344, 1.0019531, 2.3046875, -1.8896484, 2.1425781, 0.07537842, -0.44262695, -1.1396484, -1.0214844, 0.028839111, -2.3515625, -1.8583984, -0.21179199, -0.21264648, -0.082092285, 4.125, -2.3320312, -0.875, -0.16625977, 0.044311523, -0.43847656, -1.3300781, -0.7626953, -1.1162109, 1.2871094, -1.4335938, -0.65625, 0.0131073, 1.2460938, 1.5976562, -2.6582031, -2.1835938, -1.8027344, 0.38916016, 0.5649414, -1.4550781, -1.40625, -2.2324219, 0.7163086, 0.5175781, -0.27172852, 0.8730469, 2.1015625, 0.89404297, -0.8486328, -0.16625977, 1.1074219, -0.2084961, -1.6962891, 0.20007324, -2.2949219, -0.21557617, 2.4003906, -1.4179688, -1.28125, 1.7148438, 0.7260742, 0.8930664, 1.8867188, -0.34545898, -1.5761719, -0.5419922, -0.17993164, -1.2382812, 1.1738281, 0.38500977, -2.0078125, 0.35668945, 0.70751953, -0.6328125, -0.01398468, -3.125, 0.36157227, 1.6572266, -1.4160156, 0.13964844, 1.3574219, -0.74316406, 0.1138916, 0.036254883, -1.1289062, -0.3461914, 1.1269531, -1.4482422, -2.0507812, 1.9804688, 2.8125, -0.3161621, -0.40673828, -0.2692871, -2.4121094, -0.5576172, -2.0820312, 1.3691406, 1.1787109, 0.15991211, 0.58154297, 0.029067993, -0.5185547, 0.24328613, 0.6586914, 1.2304688, -0.10748291, -2.2929688, 0.4267578, -1.7900391, -0.6020508, -0.018630981, -0.15490723, 1.4824219, 0.99658203, -0.53222656, -0.17944336, -2.9863281, -3.375, -1.3320312, 0.6020508, 0.8496094, -1.5585938, 1.6787109, 0.3005371, 2.0507812, 1.2792969, -1.1523438, 1.9238281, -1.8066406, -0.45581055, -0.25610352, -3.34375, -2.84375, 0.5595703, 0.47753906, 0.023284912, -0.54003906, -3.5019531, -0.45043945, -1.8837891, -1.8261719, -2.2636719, -0.3474121, 1.1513672, 0.34814453, 1.4443359, -1.6367188, -0.72314453, -0.90185547, 1.8398438, -1.2763672, -0.8574219, -0.43725586, -0.5854492, 2.0195312, 3.6582031, 0.8251953, -0.22399902, -1.1513672, 0.7006836, -0.6791992, -1.5527344, -0.53222656, -1.2714844, 0.47265625, 1.0507812, 0.8017578, 0.1508789, -1.0351562, -0.21166992, 1.0537109, -1.6347656, -0.024032593, -2.1015625, 0.46850586, 1.0947266, -0.32373047, 1.2431641, -0.20654297, 1.3769531, -0.6972656, -1.0810547, -0.62597656, -2.015625, -0.64746094, 1.0566406, -1.5576172, -0.024414062, 0.6430664, -0.80566406, 2.4492188, 0.7441406, 0.88964844, -3.0078125, 1.7607422, -0.09301758, -0.6816406, -0.08795166, -0.25830078, 1.0527344, -1.0507812, 0.7338867, 0.6723633, -1.5732422, 1.5273438, 0.7084961, 0.19506836, 1.0566406, 1.5693359, -1.5576172, 3.3613281, 2.0839844, -1.0576172, 0.30688477, -1.1660156, -0.36035156, -0.8227539, 0.28076172, 2.3925781, -0.85839844, 2.0585938, 0.23693848, -1.0292969, -1.4394531, -1.5195312, 0.87597656, -0.0042800903, -0.27563477, -0.3852539, -1.8447266, -0.1282959, -1.4316406, -0.72216797, -2.2597656, 0.8725586, 1.3076172, -2.9394531, -0.5986328, 0.72998047, -0.11450195, -2.0292969, 0.16540527, 0.25561523, -2.3515625, -0.9526367, -2.15625, 2.5527344, 1.6025391, -3.6015625, 1.9570312, 0.3671875, -1.3291016, -1.9785156, -4.7734375, 0.24267578, 0.39160156, -2.0449219, 0.052703857, -2.9707031, 0.43579102, 0.24682617, -1.859375, 1.9042969, 0.49194336, -2.9277344, 0.3310547, 0.7402344, 1.6708984, -0.5708008, -0.40527344, 0.2927246, -0.60595703, 2.875, -1.3486328, -0.21557617, -0.81689453, 0.8847656, 0.6376953, 0.50878906, -1.8164062, 2.2949219, -0.21289062, -0.039398193, -1.6464844, -1.2382812, 0.87939453, -0.03479004, 1.4746094, 2.0546875, -0.38842773, 0.578125, -2.0742188, -1.2929688, 2.1445312, 0.8828125, -0.2836914, 0.22314453, 0.7504883, 1.0087891, 1.9912109, -1.7021484, 0.6743164, 1.5576172, -0.8310547, -0.2866211, 0.8486328, -0.1809082, 2.7265625, 1.8183594, -0.55810547, -0.87158203, 0.74560547, 1.4570312, 0.0105896, 0.23291016, 1.7080078, -2.7304688, -1.5820312, 0.7763672, 2.0761719, 0.7939453, 0.7753906, -2.4667969, 2.4296875, 2.7988281, 2.2109375, 0.8701172, 2.4980469, 0.2927246, 0.9892578, -2.0644531, 1.5625, 0.3540039, 2.0410156, -0.29125977, -1.4648438, -0.1652832, -0.3371582, -0.54785156, 1.5986328, 0.55126953, -0.3791504, 2.1269531, 1.0537109, 1.3681641, -1.703125, -1.6962891, 1.2167969, 0.08343506, 0.40405273, 2.7480469, -3.0097656, 2.8242188, 0.9848633, -1.9550781, 0.8457031, -1.359375, -0.5004883, 2.4335938, 1.6259766, 1.0957031, -1.1347656, -1.8994141, -0.1550293, 1.2304688, -0.5551758, -0.50683594, 1.3115234, -0.41137695, -0.3310547, 2.5234375, 0.33154297, -1.109375, -0.328125, -2.1269531, 0.03555298, 1.8759766, -0.4387207, 2.0546875, -1.171875, -0.3334961, 0.47827148, -1.9072266, 1.2353516, 2.8925781, -1.9013672, -0.027755737, 1.0058594, -1.0605469, 0.66845703, -0.14086914, 0.7158203, -0.8852539, -0.3864746, 0.54345703, -0.25683594, 2.0039062, 1.5117188, -1.1025391, 0.13647461, -2.4648438, -0.7973633, -0.2709961, -0.42041016, -3.2539062, 0.7602539, 1.2636719, 2.1113281, -1.25, 1.1894531, -2.4160156, -3.5605469, -0.5136719, -0.85253906, -0.42919922, -0.9458008, 0.7451172, 1.0302734, 0.07446289, -0.4987793, -1.8945312, 1.6621094, -0.67089844, -2.6523438, 0.8569336, 0.78466797, -0.33813477, -0.044067383, -0.47827148, -0.8178711, 0.35766602, 0.8779297, 1.5712891, 0.57910156, 1.8017578, 0.9765625, -1.6650391, -2.2910156, 0.8881836, -0.30981445, 0.41015625, -2.7304688, 0.33691406, -0.5961914, 2.8867188, 0.28515625, 0.1418457, 1.0146484, 0.091552734, 0.025131226, 0.11035156, -0.7270508, 0.10571289, 1.0761719, 2.0429688, 0.59228516, 0.7441406, -2.0234375, 3.1054688, 0.3515625, -2.75, -2.1855469, -1.8789062, -0.30688477, -0.67089844, -0.24890137, -0.39233398, 0.8339844, 0.38305664, 1.1542969, -0.8779297, -2.3300781, -2.2734375, 0.12463379, -0.72998047, -1.8242188, -0.5527344, 2.1132812, -0.7441406, 0.11029053, 0.122802734, -0.49365234, 1.1542969, 0.5683594, -0.041046143, 0.7260742, 0.7661133, 0.9355469, 0.40844727, -3.8144531, 1.2148438, 2.1425781, -1.7597656, 0.17370605, -0.71191406, 0.5708008, 0.24438477, 0.51464844, -0.44091797, -1.1132812, 0.7495117, 1.6542969, -1.4277344, -0.3190918, 0.2388916, 1.6054688, -0.099609375, 0.74121094, 0.7294922, -2.7363281, 9.5625, -1.2431641, -0.61279297, -0.15539551, 0.33081055, -0.6772461, -0.02960205, 1.4208984, -0.14575195, 2.8242188, -1.8222656, 2.5488281, 0.61376953, 2.3203125, -1.1357422, 1.1708984, 1.4082031, 0.86376953, -1.7880859, 0.7866211, 0.91503906, 0.41235352, 1.0087891, 0.5620117, 1.7099609, -1.3164062, 0.76464844, 1.140625, 1.90625, -0.5883789, 0.83496094, -0.31347656, 0.5932617, 0.8979492, 2.7714844, -2.6601562, -0.4152832, -0.58496094, 2.0078125, 0.50390625, -1.6523438, 1.2001953, -3.9648438, 1.3085938, -0.5019531, -2.9472656, -1.0322266, -0.6879883, 6.3164062, -0.28881836, 0.8574219, 0.14953613, 0.88183594, -1.0839844, 3.0625, 0.9555664, 0.37231445, 2.0449219, 0.31762695, -0.76123047, -1.4375, -1.0546875, 0.26000977, -1.8808594, -3.8027344, -0.3486328, -1.8652344, 1.8945312, -1.1904297, 1.1835938, -0.4814453, 2.0039062, 0.5073242, 0.5541992, -0.27026367, 1.5888672, -0.9536133, 1.1240234, 0.26733398, -1.2216797, 0.6777344, -0.03677368, -0.19018555, 1.8798828, 2.6992188, -0.4260254, -0.021621704, -0.56640625, 1.1210938, 1.5087891, 0.82470703, -0.7841797, 0.5029297, -0.16235352, -1.0898438, 1.7636719, -0.32666016, 1.4208984, -1.0351562, 1.0292969, 1.0175781, -0.8989258, 0.43139648, 1.4052734, -2.4765625, 1.1933594, 0.25512695, -0.4724121, -3.5097656, 2.0214844, 0.75341797, -0.0093307495, 1.0380859, 1.4199219, -2.3574219, -0.89746094, 0.032836914, -0.34521484, -0.9316406, 1.7861328, -1.2607422, -0.6464844, -0.1262207, -1.7304688, 1.0742188, -0.9555664, 0.21008301, 2.6269531, -0.83691406, -0.86376953, 0.28295898, -1.1865234, -1.1347656, 0.13964844, 0.036712646, -0.7055664, 0.36157227, -1.6660156, -0.5644531, -0.3647461, 2.0898438, -0.578125, 0.53466797, -0.8022461, 1.2050781, -1.7724609, -0.15112305, -0.4951172, -0.010391235, -0.6015625, -0.31860352, 1.9892578, 2.6796875, -0.7685547, -2.0664062, -1.0136719, -0.47485352, 1.9833984, -0.9663086, -0.47827148, -1.9238281, 0.23254395, -0.6118164, -0.5449219, 0.0859375, 0.5527344, 1.0136719, 0.51660156, -0.19580078, 0.46875, 0.3959961, -0.9291992, -1.1689453, 0.60253906, -1.3994141, 2.8222656, -1.140625, -0.06518555, -0.8876953, 0.29077148, -1.984375, 0.31030273, 1.9804688, 1.6875, -0.6899414, -1.1376953, -1.5322266, 0.6948242, 0.81347656, -1.3173828, 0.875, 1.6894531, 0.15942383, 0.35375977, -0.86376953, 1.4667969, 0.44873047, 0.8613281, -1.4003906, 0.026535034, 2.078125, -0.4013672, 1.4648438, 1.2246094, -0.27246094, 1.3505859, 1.6572266, 0.68408203, -0.5253906, -0.8598633, 0.12768555, -0.57177734, 1.5722656, -0.25634766, 1.8837891, -0.4609375, 1.2382812, -0.6791992, -0.5708008, -0.1427002, 0.546875, -1.2021484, -1.2177734, -1.0703125, -0.6640625, -0.6298828, 0.6611328, 0.5541992, 0.984375, -1.421875, -0.7651367, 0.30859375, 0.4777832, 0.12817383, 0.5932617, -0.61083984, -1.2617188, -0.52734375, -0.7739258, -2.4238281, 1.1152344, -0.58496094, -1.4423828, -1.8007812, 1.2871094, -1.4960938, 1.890625, -0.06542969, -0.9995117, 0.1986084, -1.1210938, 0.7524414, 0.64404297, -1.2744141, 0.27075195, -1.2646484, -1.5722656, 2.5722656, 1.0195312, -1.2353516, -0.6513672, 0.3371582, 1.0146484, 0.6245117, -1.4326172, 0.47436523, 1.3867188, -0.6171875, 0.12084961, 0.46972656, 0.9506836, -3.4238281, -1.7568359, 3.0898438, 1.0283203, -0.18225098, 0.5175781, 0.18933105, -0.17919922, 0.5751953, 0.44873047, -1.0029297, -0.6464844, -0.6386719, -1.7871094, -0.17590332, -0.6582031, 0.087768555, 0.17102051, -0.9951172, 0.7158203, 0.038635254, 0.96972656, -0.25146484, 0.5185547, -0.3161621, -0.37646484, -0.74121094, -0.58496094, 1.8037109, -2.4667969, -1.7900391, 0.6074219, -2.0976562, 0.92089844, 0.57958984, 1.5166016, -0.8959961, -0.043273926, 1.6289062, -1.0048828, -0.7089844, -1.0712891, 0.6748047, -0.20263672, -2.4980469, 0.3930664, 2.6171875, 1.6494141, 0.8959961, 0.50097656, -1.5273438, 1.5, -0.9013672, -3.3789062, 1.1679688, 2.0429688, 0.39892578, -5.2695312, 1.6513672, -0.08453369, -2.8671875, 0.8881836, 1.7363281, -0.9472656, -0.7944336, -0.19189453, -0.17553711, 1.4335938, 0.5605469, 1.625, 2.8457031, 0.7861328, 1.5175781, 0.7915039, 0.31811523, 0.09118652, -0.26464844, -1.4179688, -0.41967773, 1.9599609, -1.8486328, 2.3515625, 0.8178711, -1.8291016, -1.7089844, -2.0488281, -1.5117188, -0.97558594, -0.19335938, -0.0803833, 2.5507812, 0.9404297, 0.024902344, -1.0253906, -1.2958984, 1.2714844, -0.25634766, 0.032592773, 4.5976562, -1.1396484, 0.39941406, 1.0048828, 0.80029297, 1.8701172, -1.0566406, -1.0996094, 1.03125, 0.37060547, -0.60595703, 2.7675781, 0.7060547, 1.9277344, -0.08129883, -0.9589844, -1.8291016, -1.1757812, -0.30664062, -0.8745117, -0.9682617, -0.24133301, -0.09729004, -1.5224609, -0.31640625, 0.030731201, 0.022521973, 1.6962891, 0.5957031, 0.3112793, 1.4941406, 0.6479492, -1.2929688, 0.8676758, 0.7416992, -2.1132812, -0.14477539, 2.2148438, 0.5551758, 0.90527344, 0.8354492, 0.8129883, 0.86035156, -0.5151367, 1.515625, -1.4521484, 0.4165039, 0.58154297, -1.1865234, 0.9838867, -1.5214844, 0.050720215, -1.3134766, 1.1269531, -2.0859375, 0.035186768, -1.2607422, 2.1875, -0.62939453, -0.09777832, 1.4013672, 1.40625, -0.5449219, -0.98535156, 1.2519531, -1.7099609, 1.7431641, -1.3955078, -2.1796875, -0.5180664, 0.3552246, 2.2636719, -0.6166992, 0.8925781, -1.2148438, -2.2617188, -2.9765625, -1.3017578, -3.4472656, -0.20825195, -0.4958496, 1.2089844, -2.0683594, 1.8662109, -1.3164062, -2.6894531, 0.13220215, -0.11419678, 2.0292969, -0.2770996, -0.45825195, 1.3144531, 0.47143555, 2.6289062, 0.17468262, 0.5595703, -1.0371094, 1.4902344, 0.91308594, 1.0429688, 0.4260254, -0.1607666, 1.8535156, -1.1816406, 0.15576172, 1.3369141, 1.4277344, 0.8354492, -0.06512451, 0.033233643, 0.2866211, -1.5869141, 2.5234375, -0.052886963, -1.6113281, -1.6035156, 1.1611328, -1.2304688, -0.36572266, -1.8212891, -1.390625, -0.6176758, 1.5410156, 0.20629883, 2.0234375, -1.421875, 0.5317383, 0.13903809, 4.0234375, 2.5917969, 0.42016602, -0.1907959, 1.1445312, 0.50878906, 0.6591797, -0.046051025, -2.4394531, -0.9770508, -0.7519531, -1.4072266, -2.4550781, 2.7519531, 0.3713379, 2.1347656, -1.0712891, 0.3474121, 0.04260254, 1.8798828, 0.36767578, -1.5976562, -3.4765625, -1.3925781, 2.2832031, -1.2226562, 0.4543457, 1.7587891, -0.65966797, 0.31860352, 1.5878906, 0.5463867, 1.4941406, -0.3864746, 2.9277344, 0.054901123, 1.3730469, 1.4179688, 0.049102783, -0.9345703, 1.3427734, 0.37402344, 0.41259766, 2.9023438, -1.0673828, 0.88183594, -1.203125, 0.5332031, 0.5683594, -1.0009766, -1.3642578, 0.32836914, 0.21606445, -1.0771484, -1.3945312, 0.35375977, 1.5273438, -1.53125, 0.60058594, -5.0820312, 1.4589844, 0.14135742, -1.2539062, -0.4724121, -3.7148438, 4.4648438, -2.3710938, 0.5361328, 1.6289062, 0.22607422, 0.6152344, -1.1464844, -0.1751709, 0.7939453, -1.6455078, -2.5859375, 0.6723633, -0.88378906, -1.0117188, -1.5722656, -1.4589844, 2.0976562, 1.6455078, 0.050567627, 0.4855957, -0.42456055, -2.4550781, -0.6933594, -0.3581543, 0.8330078, -2.9570312, -1.1259766, -0.09643555, -2.359375, -1.5380859, -1.0634766, -2.0390625, -0.4724121, 3.0839844, 0.50878906, 2.3769531, -0.7421875, -1.6425781, 1.4599609, 1.0869141, -1.2382812, -0.6743164, 0.3046875, -1.3417969, 0.17492676, -1.1835938, 0.16711426, 0.31201172, 3.3613281, 1.4521484, -1.7021484, -0.7636719, 1.7539062, 0.30859375, -0.39990234, 1.7949219, 1.0126953, 1.0742188, 1.75, -0.033996582, -0.2927246, -0.14428711, 2.03125, 0.27441406, 0.9941406, 0.66064453, 2.1855469, -0.08831787, 0.12609863, -1.4892578, -0.8823242, 2.21875, 2.75, 0.51953125, 0.58251953, 1.6728516, -0.4650879, -0.9145508, 0.19226074, -0.9921875, -1.3603516, -0.066345215, -0.1665039, -0.74658203, 2.7617188, -1.7958984, -2.3417969, 2.8320312, -0.054870605, -0.6035156, 1.90625, -2.3867188, 2.1542969, -1.5458984, 1.2128906, 0.16235352, 0.0063095093, -0.0073890686, 0.06347656, 0.024337769, -1.3486328, -1.2910156, 1.0351562, 0.22729492, -0.8100586, 0.23461914, 1.8486328, -0.6791992, -1.5263672, -1.8007812, 0.5878906, -0.39672852, -0.9863281, -1.1757812, -1.3964844, 0.24157715, 0.29614258, 0.10644531, -0.67089844, 0.64501953, -0.38500977, 0.05319214, 1.4160156, -0.01171875, 0.50439453, -0.45825195, -3.1152344, 0.36450195, -1.0244141, -3.5, 0.5751953, 0.59033203, -1.2119141, 1.6308594, -0.0496521, -0.009994507, 0.59472656, -1.2197266, 0.8930664, 1.6699219, -0.12573242, 0.6508789, -0.9560547, -0.5073242, 0.09661865, 0.022384644, -0.69189453, 0.107788086, -1.9443359, -0.42016602, -0.86035156, -1.8681641, 0.13220215, 0.6621094, 0.8676758, 0.4921875, 3.8125, -2.4785156, 1.7929688, -0.6118164, 0.69091797, 1.5732422, 1.3056641, -0.4584961, -0.18103027, 2.4179688, -0.8652344, 3.1523438, 2.7207031, -0.9501953, 0.50097656, -0.99316406, -2.3417969, -2.4179688, -1.7714844, -1.0146484, 1.1513672, 0.7729492, -1.6962891, 0.640625, 0.33740234, -1.6494141, 0.9477539, -1.5361328, 0.11206055, -0.18347168, 1.2714844, 0.4921875, 0.90185547, -0.8852539, 1.1455078, 2.4667969, 2.1367188, -0.7138672, -1.4746094, -1.6943359, -0.42456055, -1.6201172, 1.3583984, 0.5683594, -0.92871094, -0.7236328, -0.6220703, 2.2851562, -1.34375, 0.4831543, -0.7651367, -1.2880859, 1.140625, 2.0898438, -0.39331055, -0.515625, -1.2304688, 0.19018555, -0.5625, 0.16821289, -0.26611328, 1.7714844, 0.6381836, -1.9130859, 1.5634766, -0.59814453, -1.6523438, -0.01524353, -3.0175781, 1.8125, 2.5585938, -1.0546875, 0.8496094, 0.12841797, 1.3652344, 1.8681641, -1.6992188, 1.0556641, 0.46191406, 5.1484375, 2.1601562, -0.035217285, -0.54785156, -1.9287109, 0.49951172, 0.40112305, -0.21496582, 0.62841797, 0.43725586, 0.25756836, -0.6982422, 1.2070312, -0.7446289, -1.6835938, 1.8505859, 1.5244141, -1.7802734, -0.13012695, -0.9663086, 0.58740234, 0.09136963, -0.3708496, -1.0371094, -0.6879883, -0.53759766, -0.21594238, -0.22070312, 0.8388672, 2.4570312, -0.6850586, -0.8486328, -0.4116211, 0.7060547, -0.3852539, -0.019088745, -0.2376709, 0.5810547, -1.6523438, 0.17773438, 0.57373047, -3.0195312, 0.54003906, -0.5605469, 0.3371582, 0.54785156, 1.8525391, -1.5507812, 4.875, -1.0595703, -0.35791016, -0.11810303, -1.8554688, 0.9584961, 0.7294922, 1.8818359, 0.8496094, 0.0013141632, 1.0771484, 1.1181641, -0.7319336, 0.93066406, 0.5498047, 0.6879883, 0.70996094, 1.0009766, 0.7265625, 0.21264648, 2.4804688, 1.9619141, -3.8222656, 0.08068848, 0.14135742, -0.96533203, -0.8120117, 0.96435547, -0.14440918, 1.1279297, 1.2802734, 0.34350586, 0.9482422, 0.75341797, 1.9521484, 0.6665039, -1.7275391, 0.8666992, -0.084228516, -0.018814087, 1.5371094, -0.35302734, -1.7050781, 0.29467773, 0.5175781, 0.30859375, -0.27246094, 1.0117188, -0.5385742, 1.2294922, 1.484375, -1.4082031, -0.66064453, 1.4697266, -1.5830078, -2.7050781, -0.53808594, 0.07305908, 2.3261719, -1.8427734, -0.7182617, -1.2763672, -2.2109375, -0.4802246, -0.06921387, -1.7119141, 0.53125, -0.44628906, -0.30322266, -0.8979492, -2.65625, -0.5683594, -0.99316406, -0.11224365, 1.4306641, -0.20092773, -2.9179688, 1.0322266, -2.3046875, 1.8486328, -1.7119141, 0.79248047, 0.98779297, -0.74316406, 0.3935547, -0.7714844, -2.1601562, -0.7158203, 0.8383789, -1.0341797, 0.2479248, 0.8066406, -0.11425781, -0.38793945, 2.7226562, 1.3164062, -1.9375, -0.7626953, -0.2800293, -0.64160156, 1.5576172, -1.2519531, -0.4140625, -0.47045898, -1.7666016, -0.7524414, 2.2578125, 0.3466797, 1.1416016, 1.6738281, -1.7646484, 0.033355713, 1.3554688, 1.0195312, -0.7548828, -0.29956055, -1.7802734, -2.4921875, -1.4863281, -1.5673828, -0.25610352, -0.21850586, 0.9042969, 0.6152344, 0.29711914, -0.2376709, -2.5507812, 0.50146484, 1.1367188, 0.2241211, 0.7788086, -2.4003906, 0.31274414, -0.9667969, 1.8369141, -0.7260742, -0.057250977, -2.0507812, -0.5800781, 0.5307617, 0.90527344, 0.0022125244, 3.2089844, 0.051696777, -1.5214844, 0.32250977, 2.1347656, 1.4941406, 1.734375, -1.5830078, 0.5966797, -1.4111328, -1.3837891, -0.7480469, 1.0283203, 1.4267578, -0.26049805, -0.9785156, 2.875, -2.1777344, -0.3605957, 0.47680664, 0.7475586, -0.98535156, 0.79785156, 1.6240234, 1.2197266, -0.0034561157, -1.1611328, -0.5024414, 0.35375977, 2.1582031, -0.027008057, 1.7236328, 0.1262207, -1.7460938, 1.5107422, -0.23962402, -0.19018555, 1.1894531, -0.8691406, -1.3144531, 5.0390625, 0.40454102, 1.1308594, 1.6298828, 0.36767578, 0.29785156, -1.3642578, 0.07745361, -0.5073242, 1.6142578, 1.2646484, -0.6826172, 4.0703125, 0.49829102, -1.9111328, -0.04147339, 0.8613281, 0.68066406, 0.52978516, -0.47509766, -0.30151367, 0.4326172, 1.8955078, -1.3222656, 1.3349609, -1.0673828, 1.6240234, -0.2175293, 0.36206055, 1.2832031, -0.37475586, 1.1259766, -2.1230469, -1.1181641, 0.6816406, -2.0839844, -1.3945312, -0.73339844, -0.2800293, -0.56591797, -0.17883301, 0.43408203, 0.9267578, 0.095458984, 0.22607422, 0.11431885, 0.6958008, 1.0664062, -1.6083984, 0.9194336, 1.4511719, 1.8388672, -1.7832031, 0.27783203, -0.10864258, 0.49487305, 0.4650879, -0.5395508, -0.1418457, -1.4414062, -0.028579712, 1.8300781, -0.079956055, 0.2590332, 0.47924805, 3.3398438, 0.5439453, -1.7070312, -0.1081543, 1.3183594, 2.2519531, -1.9892578, -1.5917969, -0.05731201, 0.84814453, -0.5361328, 1.3320312, -1.3457031, 1.3105469, -0.019561768, -1.4980469, -0.6196289, 1.0927734, 0.7109375, -0.16906738, 0.8935547, -0.53564453, 0.1776123, -0.012573242, 1.0703125, -0.74316406, 1.2080078, 0.67529297, -0.036590576, -0.7348633, -1.6865234, 2.2148438, -0.07623291, -0.6972656, -1.3701172, 0.90527344, -0.7270508, 0.9267578, -1.5224609, 2.3417969, -2.9375, -1.2509766, 0.071899414, -0.4802246, 0.14648438, 2.6777344, 0.1673584, -0.8769531, 1.2480469, 0.45922852, -1.0527344, 0.8251953, -0.2758789, 2.6757812, -0.1451416, -0.40673828, -0.77441406, 0.10534668, -0.059906006, -3.0097656, 1.8476562, 1.7275391, 0.6376953, 2.8398438, 0.7338867, -2.2558594, -1.7558594, 0.005405426, 0.1381836, 0.28466797, 0.46777344, -0.0010890961, -0.8491211, -0.40405273, 1.5625, 1.8925781, -0.22338867, 0.13684082, -2.6953125, 1.4023438, -1.5410156, 0.23303223, 0.89160156, 0.89160156, 1.1279297, -0.6176758, -1.7666016, -1.6494141, -2.1796875, -0.63183594, 0.07965088, -0.24536133, -1.7763672, -1.0273438, 3.6699219, 1.359375, -0.44311523, 0.10229492, -0.020889282, 0.9423828, 0.013633728, -0.36157227, 0.4807129, -0.2133789, 0.40625, -0.39086914, 3.0097656, 0.06866455, -1.1894531, 0.42089844, -0.020980835, 1.2207031, 2.1816406, 1.7490234, -1.046875, -2.0097656, 0.22253418, 0.7734375, 0.23913574, 0.043945312, 2.0664062, 1.15625, -0.61035156, -0.4580078, 0.859375, -0.9580078, -0.7441406, -0.17211914, 0.47265625, -0.5126953, -1.3974609, 3.2636719, -2.9492188, 0.14892578, -1.4169922, -0.56591797, 0.32299805, -0.9975586, -0.15649414, -2.1835938, 0.8198242, -1.1289062, 0.21313477, -1.6787109, 1.2763672, 0.81152344, 0.3708496, 2.0957031, -2.1953125, -0.24353027, -2.8535156, 0.1352539, -2.5214844, -0.859375, 2.3671875, 1.1962891, -0.38256836, -0.84716797, 0.9946289, -1.4785156, -1.1894531, 0.56103516, 1.0703125, -1.2216797, -0.29882812, 1.6767578, -1.2246094, 2.3398438, 1.5761719, -1.234375, -0.18371582, -0.4453125, 3.3105469, 1.0644531, -1.1835938, 0.15942383, 0.7788086, -3.5585938, -3.2363281, 1.5380859, -0.33032227, 0.1015625, -1.2958984, 0.6953125, -0.1986084, 1.4677734, 1.0898438, -0.4987793, -0.22241211, 0.014419556, -1.4667969, 1.2226562, -0.0050315857, -1.2490234, -2.0976562, -0.8618164, 0.5024414, 0.54589844, 0.36669922, 0.48608398, 1.5009766, 0.29467773, -1.1054688, -0.54785156, -1.4375, -0.24243164, -1.9335938, 0.2854004, 0.8598633, -0.47631836, 1.2382812, 1.5410156, 0.41430664, -0.07067871, -1.4980469, 0.6484375, 1.1279297, -0.25341797, -0.9033203, -1.5410156, 1.8398438, -0.1998291, 1.1445312, 2.2167969, -2.5917969, -1.0322266, 0.6660156, -1.1738281, -0.31762695, 0.22143555, 0.9116211, -0.050933838, -0.90625, -0.45214844, -0.9526367, 0.74658203, -1.3535156, 0.8051758, 0.40063477, 0.9848633, -2.7460938, -0.14550781, -0.5698242, 1.8388672, -1.7324219, -1.1630859, 2.0527344, -0.7993164, 1.4169922, 1.7304688, 1.9492188, -2.9667969, 1.1396484, -0.105529785, 1.1992188, -0.85058594, 0.6069336, -1.1777344, 1.0273438, -1.0722656, -1.5986328, 1.1757812, -1.2666016, 1.7304688, 1.5332031, -0.6411133, -0.018829346, -1.2099609, -0.53125, 0.7504883, 2.4179688, 2.5917969, 0.79345703, -1.9482422, -0.7504883, 0.6611328, -1.9433594, -0.5029297, 0.8564453, 0.38256836, -1.2802734, 1.8398438, -3.0078125, -1.6191406, -0.7553711, 0.6118164, 0.45166016, 0.73535156, -2.2460938, -0.6381836, -0.22351074, 0.6635742, -3.6972656, 1.0449219, 1.2128906, 0.22265625, 0.7910156, -1.7011719, 0.8129883, -1.6132812, -2.8164062, 0.5019531, 1.0957031, 1.5195312, 0.34375, -0.5629883, -1.4892578, -0.703125, 1.9355469, -0.19018555, 0.6376953, -0.20202637, -0.2052002, -0.27441406, 2.4042969, 0.6508789, 0.9448242, -0.9892578, -0.31225586, -2.6113281, 0.41577148, -0.20825195, -1.671875, 1.1396484, 0.13830566, 0.38110352, -0.22973633, -0.9980469, -0.9609375, -2.0078125, 0.59277344, 0.3864746, -1.3964844, 1.0244141, 0.5800781, -0.19897461, -1.3105469, -1.4277344, -0.32250977, -2.0742188, 0.6591797, 2.0214844, -1.9287109, -2.2207031, 0.1875, 1.5195312, -0.9248047, -1.4169922, -0.7216797, 2.8945312, 1.5087891, -0.37158203, 1.2050781, -0.15185547, -1.2539062, -0.14648438, 0.18823242, 0.98339844, 4.703125, -0.6435547, 0.6933594, -3.3925781, 0.85595703, -0.19726562, 1.2587891, 1.40625, 4.4453125, 1.0302734, -1.4990234, -0.81591797, -0.5048828, -0.007247925, -1.5566406, 0.14746094, 0.42138672, 0.4243164, 0.83935547, 0.21508789, 1.1386719, 1.0009766, -1.8105469, 1.0458984, -0.7871094, 0.4741211, 2.5742188, -0.5498047, 1.9462891, -0.25927734, 1.5458984, 1.1074219, -0.59033203, -0.2578125, -1.7011719, -0.09576416, -0.6176758, 2.4453125, -0.95214844, -2.8242188, 0.66503906, 0.5966797, -0.023330688, -0.6977539, 0.8095703, 0.21508789, 0.12036133, 0.4309082, -0.67089844, -0.734375, -1.7822266, -0.0657959, -1.8847656, -0.32543945, -0.61083984, -1.6132812, 1.2011719, 1.8496094, 0.8417969, 0.19091797, -0.73779297, 0.65722656, 2.4882812, 0.36547852, -0.064819336, 0.15405273, -0.1274414, 1.7978516, -0.17382812, -0.36816406, -0.5058594, -4.8984375, 1.6650391, -0.2680664, 4.1523438, 0.9404297, 0.4260254, 0.42797852, -1.1210938, -0.20874023, 3.0703125, -0.3017578, 0.45141602, -0.2175293, -0.0012016296, 1.0126953, 1.3242188, -2.6015625, -0.87597656, -1.5322266, -0.296875, -1.1132812, -2.8476562, 0.9057617, 0.05859375, 2.2558594, 1.5019531, -0.5214844, 0.8696289, 0.7910156, 0.98339844, 0.58154297, -0.8417969, -0.22473145, 0.2548828, 1.1621094, 0.66064453, -0.23132324, -2.6914062, 0.2475586, -0.7631836, -0.8300781, -0.93847656, -0.53466797, -0.4975586, -1.1738281, 0.1743164, -2.1328125, 3.28125, -0.7915039, 0.036895752, -1.2880859, 2.4160156, 1.1796875, 0.16015625, -1.4179688, 3.3652344, -0.16809082, 2.7734375, 0.3293457, -1.6650391, 0.84716797, 0.68408203, -0.77685547, 0.88623047, 0.26904297, 0.98535156, 1.9238281, 1.1503906, 3.8320312, -1.0507812, 1.2753906, 0.052520752, -0.8129883, 1.4912109, 0.55566406, -1.0566406, 0.3544922, -0.7871094, -0.30029297, 2.1230469, -0.40112305, 1.9912109, -0.8300781, -0.29003906, 1.8925781, 0.21032715, 0.14855957, 1.5742188, 0.9951172, -2.2402344, -1.5537109, -3.6035156, -3.3789062, -2.2421875, -2.6152344, 2.296875, -0.5678711, 1.7851562, -0.44799805, 0.21118164, 0.6669922, -2.7539062, -1.34375, 0.23498535, -0.3996582, -0.06829834, 0.8979492, 0.041015625, 0.9916992, -0.43725586, 0.56347656, -2.2539062, -2.2382812, 2.2207031, 0.2548828, -1.1728516, -1.8027344, 1.7558594, 0.56933594, 2.5117188, 0.3894043, -1.1210938, 0.7734375, 1.4121094, -1.7861328, 0.30493164, -0.95996094, -0.73535156, 1.5253906, 1.0322266, 1.9462891, -0.07885742, -0.55908203, -0.19421387, -1.2724609, 0.21166992, -1.8642578, -0.5332031, 0.46142578, 0.13977051, 0.9633789, -0.052886963, -2.3183594, 1.5917969, 0.96435547, 1.1425781, 0.78564453, -0.7109375, -0.7504883, 0.6113281, 1.8125, 0.44628906, 0.9501953, -0.7211914, -2.8671875, 0.4794922, 1.9365234, 0.31225586, -1.4199219, -0.5366211, -0.9375, -0.1928711, 0.72998047, -0.46484375, 1.4257812, -1.9179688, -1.7978516, 0.77783203, -1.1318359, 0.87597656, -1.5058594, 1.9375, 0.9238281, 0.0041770935, -0.5678711, 1.5986328, -1.4277344, 0.35546875, -0.5029297, -1.8007812, 1.9169922, 0.17700195, 2.2011719, -2.1738281, -2.0136719, -1.6523438, 0.5390625, 0.3100586, 0.9633789, -0.57714844, 0.025848389, -0.97314453, -0.7939453, 0.9741211, -2.3789062, 2.9648438, 0.064819336, -3.3886719, 0.6855469, 1.2910156, 2.0507812, 2.0703125, -1.5214844, -1.0458984, -0.1459961, -0.7910156, 0.55908203, 1.5, 1.1572266, -1.625, -0.61328125, -0.27416992, -2.6328125, 1.5820312, 2.2050781, -1.9257812, -2.9296875, 0.24194336, 2.2207031, -2.2011719, -0.6220703, 0.88183594, -0.7260742, 1.4804688, 2.0507812, -1.2441406, -0.7548828, -1.0087891, 0.9375, 0.671875, 0.057556152, 1.0068359, 1.1025391, -0.5805664, 0.6191406, 2.1582031, -6.0898438, -0.7709961, -0.39794922, -2.2460938, 0.23937988, 0.2319336, -0.9628906, 2.1855469, 2.15625, -0.39575195, 0.066833496, 1.3291016, -3.2695312, 0.79003906, 1.5996094, -0.59814453, 1.4707031, 1.46875, -0.6767578, -1.5556641, -1.1035156, 0.41259766, 0.6801758, -1.3994141, -3.3125, 0.11743164, 0.8183594, 0.23461914, 0.47631836, -0.7036133, -1.0087891, -0.3959961, -1.8134766, -2.8261719, 0.13977051, 2.2050781, 2.6230469, 0.56689453, 4.7539062, -0.13793945, 1.0585938, 2.7207031, 1.1708984, -0.056610107, 3.0957031, 2.0195312, -0.6386719, 1.7392578, 0.86621094, 0.2956543, -0.1772461, 0.22717285, 0.9580078, 0.6933594, -0.08654785, 0.22473145, 0.50146484, 0.6401367, 0.86816406, -0.9291992, 0.33935547, 1.2851562, -0.3503418, 0.40283203, -1.2392578, -1.0625, 0.19970703, -0.2854004, -0.23522949, -2.3027344, -0.265625, -2.1347656, 1.8632812, -0.8364258, 0.8027344, 1.8994141, 0.3293457, 1.8056641, -1.9882812, 0.71435547, 1.2519531, -0.9135742, 2.4257812, -1.7978516, -1.1464844, -0.9526367, -0.031219482, 2.5195312, -0.3244629, 0.60009766, 1.4384766, -0.03050232, 0.028137207, -1.3486328, 1.1347656, 1.1337891, -0.16821289, 0.1361084, -1.1240234, 2.8359375, 1.7207031, -1.9580078, -0.9819336, 0.52685547, -0.2680664, 0.4597168, -1.6708984, 0.46850586, -0.3256836, -3.8359375, -1.0683594, 3.2421875, -0.041931152, -0.7626953, 0.07196045, 1.6630859, 0.41577148, -1.6923828, -0.7080078, 0.9736328, -0.5292969, -1.4199219, -1.4638672, 0.90527344, 0.1887207, -0.5957031, 0.76904297, -1.2119141, -1.7509766, 1.5302734, 0.062286377, 1.9902344, -1.5244141, -2.8554688, 1.6992188, 0.25927734, -0.8017578, -0.5004883, 0.13659668, -1.6103516, -0.35839844, -0.14953613, 1.5917969, 0.5073242, -0.3701172, 2.6582031, -2.0292969, -0.26367188, -0.86376953, -0.5913086, 1.6396484, -0.0181427, 0.36987305, 0.43847656, 0.9399414, 0.07922363, -0.4909668, -0.03125, -0.8300781, 0.80029297, -1.7324219, 0.7866211, 0.39575195, 0.40185547, 1.171875, -3.0546875, 1.1386719, 0.50341797, 0.8696289, -1.9853516, 0.8129883, 2.7890625, -1.3632812, -0.14086914, -1.0039062, 1.4980469, 0.3984375, 0.9941406, 0.5805664, -1.3701172, -0.9941406, -1.0400391, 1.7568359, -2.8867188, 0.065979004, -0.7285156, 0.21142578, -0.10949707, 1.8193359, 0.4099121, 0.11956787, -0.31420898, 0.99316406, -1.7929688, 1.5517578, -0.9658203, -1.5625, 0.42993164, 1.2285156, 0.6772461, 0.9008789, 0.6513672, 0.9086914, 1.4833984, -0.61328125, -1.6542969, 0.9848633, -1.0195312, -1.2509766, -0.26660156, -0.52490234, 0.86376953, -1.4326172, 1.3691406, -1.9169922, -0.77246094, 0.47558594, -2.40625, 1.9697266, -0.5913086, -0.24621582, 0.6386719, 1.0615234, -1.3017578, 0.30688477, -0.40405273, 1.2363281, -0.6328125, 0.66845703, -0.63623047, 0.6352539, -1.0839844, 0.70654297, -1.7275391, 2.1621094, 0.010971069, 1.3896484, -0.66308594, 1.2724609, -0.81591797, 2.3417969, -0.75683594, -0.9897461, 0.7602539, -1.8388672, -1.6455078, -0.9511719, 0.62597656, -3.0644531, -1.2490234, 1.1865234, 0.09643555, -0.8725586, 0.8618164, 0.6508789, -0.40527344, -0.4165039, -1.0058594, 0.6748047, -1.4804688, 0.4555664, -0.12927246, 0.5751953, 1.484375, -0.3083496, 0.0904541, 0.06628418, -0.1217041, 1.6621094, -0.7055664, 0.2442627, -0.95996094, -0.97216797, 0.4934082, 1.0283203, 1.3398438, -0.6923828, 0.29516602, -0.734375, 1.3896484, -1.6513672, 1.6542969, 2.1503906, -3.4902344, -0.21508789, 0.984375, -2.3359375, -1.6132812, 1.3388672, 0.8178711, 1.1884766, -2.5800781, 0.1763916, 1.2304688, 1.4628906, -1.9130859, -0.7910156, 2.8339844, -0.45483398, -0.046813965, 0.05822754, -0.028503418, 0.8833008, -0.50927734, -1.5976562, -1.3427734, -0.11395264, 1.2675781, -0.77441406, 1.4072266, 1.0556641, 1.2255859, 1.3427734, -3.3847656, 0.58740234, -1.5615234, 0.78222656, -0.69189453, -0.9589844, 1.796875, -0.25512695, -0.95996094, 0.90283203, 0.9428711, -1.9160156, -0.7050781, 1.9101562, -1.234375, -2.2890625, 2.2070312, 1.2431641, -1.3613281, -0.75341797, 0.09265137, 2.3671875, -1.1318359, 2.3789062, -1.9980469, 1.9746094, -0.3461914, -1.2568359, 0.28100586, 0.40600586, 0.3088379, 0.22265625, -0.7285156, 2.1269531, 1.6259766, -2.9257812, -2.6113281, 1.7480469, 0.11627197, 0.8071289, -0.41455078, 1.7236328, -0.61083984, -2.0839844, -1.4951172, -0.81591797, -0.63964844, 2.046875, 2.9902344, 0.1875, 1.2128906, 2.7324219, -1.5107422, 1.0771484, -4.390625, -0.5004883, -0.14758301, -1.2714844, 0.2836914, -0.5620117, -1.34375, 1.3496094, -1.28125, 0.62597656, -1.3085938, -0.58251953, 2.4785156, 1.1152344, 3.0839844, -1.5429688, -1.4521484, 4.0234375, -0.17578125, 0.6352539, -0.27319336, -0.2788086, -2.4394531, 0.12585449, 0.7973633, -0.78027344, 0.76904297, 0.39819336, 1.6943359, 0.20678711, 0.8256836, 0.5571289, -0.4868164, -1.5263672, -1.5742188, -0.7167969, 1.6474609, -0.6567383, 0.3408203, -1.8222656, -0.7861328, -2.5390625, -1.7285156, 1.7958984, -0.9121094, -1.4257812, -0.24975586, -0.5888672, 1.6660156, -0.8935547, 3.6972656, 1.0458984, -1.0849609, 0.32861328, 1.0058594, -0.7807617, 0.328125, -0.79345703, 1.4960938, 0.047058105, 0.48413086, -0.5053711, -1.2822266, -0.23095703, 0.53808594, -1.9785156, -0.97753906, -2.5410156, -0.08728027, -0.9453125, -0.24975586, -0.64941406, -0.40649414, 0.07922363, -1.3037109, -0.8510742, 0.17919922, -0.96435547, 2.1640625, -0.15014648, -0.026535034, -1.0253906, 2.8632812, -0.6855469, 0.2446289, 0.46826172, 0.5576172, -0.1430664, 2.9589844, -1.8847656, 3.2636719, -1.7744141, 2.4726562, -0.008110046, -1.1757812, -4.5390625, 1.6650391, 0.12390137, -0.53466797, 1.0283203, -1.2285156, 0.96777344, -2.2578125, 0.65283203, -1.6347656, 1.7988281, -2.359375, -0.46728516, -1.3974609, -0.28149414, 1.6210938, 1.3505859, 0.8979492, 0.15600586, 0.6538086, -0.4111328, -1.2509766, 1.4736328, -2.28125, 0.7104492, 0.032348633, -0.048614502, -0.6826172, -1.3027344, 1.8291016, -0.083862305, -1.2548828, 0.46069336, 1.6503906, 3.7382812, 0.5292969, -1.1503906, 2.0585938, 1.953125, -0.4189453, 1.9541016, 1.0566406, -0.9453125, 0.29052734, 0.33740234, 0.5048828, 0.9370117, -2.4179688, 1.9335938, 0.5888672, 2.1367188, -0.09429932, -2.1542969, 2.1601562, -1.0224609, -0.31298828, 3.0429688, -1.9394531, -0.58496094, -0.71533203, -1.6230469, 0.91845703, 1.5517578, -0.3798828, -0.5917969, 1.6542969, 1.828125, 0.16906738, 1.8017578, -0.31420898, 0.10064697, 0.8305664, -1.3427734, 0.6274414, -0.064575195, -0.9316406, -0.09906006, -0.50683594, -0.31640625, 2.3730469, -0.31933594, 0.43798828, 0.54248047, 0.062927246, 0.015586853, -1.2597656, -0.86621094, 0.7553711, 0.07531738, 0.4897461, 0.57373047, -0.3852539, -0.03845215, -0.9741211, -1.2207031, -0.97753906, -1.234375, -0.13195801, 1.1972656, 0.93408203, -1.3496094, -1.9179688, 0.7109375, 0.14001465, 0.2529297, 1.6357422, 0.9580078, -1.4179688, 1.1054688, 2.3515625, 1.5292969, -0.8041992, 0.8183594, 0.3869629, -0.87158203, -0.3623047, -0.66748047, -0.26391602, -0.45581055, 0.029037476, -0.48339844, 2.2929688, 0.9033203, 0.50097656, -1.4101562, -2.9394531, 0.028289795, 0.8017578, 0.6303711, -0.31225586, 0.75097656, 0.25634766, -0.7397461, -0.7763672, 0.22766113, -0.4399414, 1.6708984, 2.5742188, -2.0527344, 0.9609375, -0.56591797, -0.3244629, 2.0429688, 1.7294922, 0.00093889236, 0.5678711, 2.1757812, 0.8149414, -2.1699219, 0.07739258, 0.3413086, -2.2070312, 0.0418396, -0.9794922, 1.4804688, -1.8496094, 2.4199219, -1.1650391, -0.5541992, 1.7246094, -0.60253906, -1.0849609, 0.0592041, -0.9560547, 0.19335938, 0.7421875, -0.62597656, 2.2519531, 1.5869141, -0.14453125, -0.054534912, -1.90625, -0.9272461, -0.2758789, -0.13562012, 0.70751953, -0.27954102, 1.5722656, 1.3740234, -0.48706055, 0.7026367, 1.3701172, -0.11413574, -2.5585938, 1.2460938, -0.6503906, 2.6796875, -0.06008911, 1.5214844, 1.5927734, 2.6171875, 0.46484375, -0.734375, 0.43115234, -0.40527344, -3.0410156, 1.0537109, 1.6308594, 0.30371094, -0.27807617, 0.5678711, 1.0449219, 0.6230469, 1.2666016, 0.84472656, -1.9111328, -2.8007812, 1.8056641, -1.8105469, -0.5341797, -0.107055664, 1.1367188, 0.7182617, 0.9707031, 1.9023438, -0.06616211, 1.6650391, 0.71191406, -0.90185547, 0.7246094, -3.4453125, 0.24438477, -1.3056641, 0.08984375, 0.9580078, 1.4287109, 1.734375, -0.49169922, 1.1484375, -3.2480469, -0.30859375, -0.6303711, -1.421875, 1.0917969, 1.7431641, -0.7963867, -0.45703125, -1.3896484, 1.3789062, 1.2363281, 0.32983398, 2.2167969, -1.3066406, -1.625, 0.7836914, 0.4165039, -0.24035645, -4.8554688, 0.22473145, -0.8120117, 0.39331055, -0.18103027, 0.16137695, -0.43310547, 2.2265625, -1.4599609, 0.07727051, -0.21618652, 0.7080078, -1.1005859, -0.10546875, -2.0234375, 3.1835938, 0.78466797, 1.3554688, -0.6230469, 0.77441406, 0.8930664, -1.140625, 0.10253906, 0.2421875, 1.5009766, -0.117126465, 0.16967773, 0.033325195, -0.8959961, -1.4443359, -0.56152344, -2.1328125, -0.17663574, -2.0800781, -1.0634766, 0.016342163, 1.6113281, 0.12915039, 1.7255859, 2.1289062, 0.64160156, 0.64501953, 0.6645508, -1.6650391, 0.45532227, 0.3630371, 0.49902344, 0.6513672, -3.6035156, -1.5449219, 1.9746094, 0.7060547, -0.56689453, 2.1777344, 1.8896484, 1.0351562, 1.0107422, 0.4025879, -0.49243164, 3.0136719, -0.51660156, -0.18579102, 0.6923828, 1.3691406, -1.9150391, 0.88378906, -2.0332031, -0.9892578, -1.9462891, 1.3144531, -0.019119263, -0.5126953, -1.1308594, -0.34399414, 0.34423828, -0.3239746, 1.421875, 0.15930176, 1.0869141, 2.8476562, -0.5834961, -0.9638672, 1.2226562, -1.0195312, 0.26416016, 0.034301758, 0.76123047, -0.18493652, 2.3476562, 0.004272461, 1.0087891, 0.20947266, -0.640625, -2.8535156, -0.45581055, -0.15881348, -0.28808594, -0.15698242, 2.3066406, -1.6230469, -1.90625, 0.46142578, -0.111450195, 1.0302734, 0.8847656, -1.9042969, 1.1865234, 0.36938477, -1.2197266, -0.9003906, -1.0039062, -1.1279297, -1.9580078, 1.1181641, -0.28344727, -1.1445312, 1.0791016, 0.9448242, -0.54785156, 0.2841797, -0.9316406, -0.26171875, 2.1933594, -1.9433594, -2.1757812, -2.1914062, -0.8823242, 0.37841797, -0.46435547, 0.7104492, 1.4160156, 0.40966797, -1.2324219, -0.5810547, -0.6616211, -0.9375, -2.6679688, -1.1494141, -0.7504883, 1.3769531, 1.2851562, 1.7773438, -1.0146484, -1.9052734, -1.28125, 0.34545898, 0.51708984, -3.4648438, -2.3554688, 0.3149414, -0.27929688, -1.3916016, 1.9892578, -0.6225586, -0.4802246, -2.5644531, -1.0175781, 0.41308594, -0.6123047, -2.3964844, -0.10546875, 0.1607666, -1.8261719, -1.375, 0.5332031, 0.20678711, -0.17321777, 0.7739258, -0.2541504, 0.9145508, 0.7783203, -0.008712769, 1.6494141, 2.5546875, 0.88623047, 1.7041016, 0.9926758, 0.92089844, 1.6621094, -0.34277344, 1.3183594, 1.4755859, -0.6748047, 1.6923828, 0.5727539, -0.3010254, -0.40771484, 1.5166016, -0.4387207, -0.7363281, 0.7001953, -1.1054688, 0.70654297, 0.49780273, 0.7558594, 1.2304688, 0.2705078, 1.1230469, 0.2861328, 1.3652344, 0.31030273, 0.0084991455, -3.0507812, -1.7978516, 2.1738281, -1.3193359, 0.5097656, 0.61328125, 0.6845703, 0.32006836, 1.0253906, 1.5302734, 0.64404297, 1.5986328, -1.3076172, 0.072631836, 1.4912109, -2.2949219, 0.7011719, -0.064086914, -0.95751953, 0.4580078, 0.77685547, -0.56103516, 0.890625, -0.7866211, -0.5307617, 0.7495117, -1.0322266, -0.28295898, -1.1152344, -0.009880066, -0.5756836, -1.4443359, 1.4013672, -2.4570312, 1.0332031, 0.2578125, 0.12164307, 0.6743164, 2.5195312, 2.3261719, 1.2861328, -0.9399414, 1.2089844, 1.9541016, 0.18798828, 0.48266602, 0.9604492, 0.020233154, -1.3486328, -2.7050781, 1.1103516, -0.08581543, 3.4472656, 0.4243164, -0.3486328, 0.84472656, -1.125, 0.53759766, -1.1005859, 0.9819336, 1.9306641, 0.58691406, -1.1855469, -1.1865234, -0.859375, 1.3886719, -0.4567871, -2.0429688, 0.7973633, -1.0869141, 1.5615234, -2.2675781, 0.8261719, -0.4411621, 0.2932129, -0.6557617, 0.58447266, -1.4082031, 1.1513672, -0.9433594, 0.2154541, 3.9960938, 2.0019531, 1.3662109, 1.3535156, 2.9257812, 0.7832031, -0.5864258, 0.10449219, -2.1230469, -0.8051758, 0.14819336, 1.2363281, -1.0410156, 0.024871826, 2.625, -0.07922363, 1.2695312, -0.5751953, 1.4042969, -2.1425781, -1.9541016, 1.484375, -0.7324219, -1.9931641, 1.2861328, 1.3955078, -1.3994141, -3.0703125, -0.8251953, 0.20373535, 0.13586426, 0.1352539, 0.48266602, 1.7910156, -1.7255859, -1.9121094, -0.37231445, -0.9580078, 2.6523438, -1.6347656, -1.5507812, -2.359375, 0.45703125, -0.9296875, 1.8886719, 0.4477539, 3.7109375, -0.14794922, -0.9980469, -0.5336914, 1.7285156, 0.029891968, -0.8676758, 2.5507812, 0.027404785, 0.26293945, -1.4541016, 0.89160156, 0.52685547, -4.0898438, -2.3828125, -1.2568359, 0.9819336, -1.1425781, -0.39501953, 0.7055664]\n"
     ]
    }
   ],
   "source": [
    "print(response.embeddings)"
   ],
   "metadata": {
    "collapsed": false,
    "pycharm": {
     "name": "#%%\n"
    }
   }
  },
  {
   "attachments": {},
   "cell_type": "markdown",
   "metadata": {
    "pycharm": {
     "name": "#%% md\n"
    }
   },
   "source": [
    "Give me a bed time stories for a child. Make the moral of the story be the following: \n",
    "\"Some men underrate their best blessings.\"\n",
    "\n",
    "Once upon a time"
   ]
  },
  {
   "cell_type": "code",
   "execution_count": 17,
   "metadata": {
    "pycharm": {
     "name": "#%%\n"
    }
   },
   "outputs": [],
   "source": [
    "start_propmt = \"Give me a bed time stories for a child. Make the moral of the story be the following: \"\n",
    "\n",
    "df['prompt'] = df['moral'].apply(lambda x: start_propmt + x + \"\\nOnce upon a time, \")"
   ]
  },
  {
   "cell_type": "code",
   "execution_count": 28,
   "metadata": {
    "pycharm": {
     "name": "#%%\n"
    }
   },
   "outputs": [],
   "source": [
    "df['train'] = df.apply(lambda x: x.prompt + x.story + \"\\n--\", axis=1)"
   ]
  },
  {
   "cell_type": "code",
   "execution_count": 29,
   "metadata": {
    "pycharm": {
     "name": "#%%\n"
    }
   },
   "outputs": [],
   "source": [
    "with open('train_morale_fabels.txt', 'w') as f:\n",
    "    f.writelines(df['train'])"
   ]
  },
  {
   "attachments": {},
   "cell_type": "markdown",
   "metadata": {
    "pycharm": {
     "name": "#%% md\n"
    }
   },
   "source": [
    "# Create long stories"
   ]
  },
  {
   "cell_type": "code",
   "execution_count": 15,
   "metadata": {
    "pycharm": {
     "name": "#%%\n"
    }
   },
   "outputs": [],
   "source": [
    "def generate(prompt):\n",
    "\n",
    "    response = co.generate(\n",
    "    model='command-xlarge-20221108',\n",
    "    prompt=prompt,\n",
    "    max_tokens=1000,\n",
    "    temperature=1.4,\n",
    "    k=300,\n",
    "    p=0.9,\n",
    "    frequency_penalty=0.25,\n",
    "    presence_penalty=0.2,\n",
    "    stop_sequences=[],\n",
    "    return_likelihoods='NONE')\n",
    "    print('Prediction: {}'.format(response.generations[0].text))\n",
    "    return response.generations[0].text"
   ]
  },
  {
   "cell_type": "code",
   "execution_count": 13,
   "metadata": {
    "pycharm": {
     "name": "#%%\n"
    }
   },
   "outputs": [
    {
     "data": {
      "text/plain": [
       "story      A badger, crossing a bridge over a river with ...\n",
       "answer0          He who is once deceived is doubly cautious.\n",
       "answer1    He winds up friendless who plays both sides ag...\n",
       "answer2    Grasp at the shadow and you will lose the subs...\n",
       "answer3                     Little by little does the trick.\n",
       "answer4    Those who pretend to be what they are not, soo...\n",
       "label                                                      2\n",
       "moral      Grasp at the shadow and you will lose the subs...\n",
       "prompt     Give me a bed time stories for a child. Make t...\n",
       "Name: 0, dtype: object"
      ]
     },
     "execution_count": 13,
     "metadata": {},
     "output_type": "execute_result"
    }
   ],
   "source": [
    "df.iloc[0]"
   ]
  },
  {
   "cell_type": "code",
   "execution_count": 21,
   "outputs": [],
   "source": [
    "\n",
    "response = co.generate(\n",
    "    model='command-xlarge-20221108',\n",
    "    prompt=df.iloc[0]['prompt'],\n",
    "    max_tokens=1000,\n",
    "    temperature=1.4,\n",
    "    k=300,\n",
    "    p=0.9,\n",
    "    frequency_penalty=0.25,\n",
    "    presence_penalty=0.2,\n",
    "    stop_sequences=[],\n",
    "    num_generations=5,\n",
    "    return_likelihoods='NONE'\n",
    ")"
   ],
   "metadata": {
    "collapsed": false,
    "pycharm": {
     "name": "#%%\n"
    }
   }
  },
  {
   "cell_type": "code",
   "execution_count": 19,
   "outputs": [
    {
     "name": "stderr",
     "output_type": "stream",
     "text": [
      "\u001B[93mWarning: Your text contains a trailing whitespace, which has been trimmed to ensure high quality generations.\n",
      "\u001B[0m\n"
     ]
    },
    {
     "data": {
      "text/plain": "cohere.Generations {\n\tid: None\n\tgenerations: [cohere.Generation {\n\tid: a613d198-9f3b-45c5-950b-649107536416\n\ttext: there was a King who had many good and loyal subjects. But this King was very sad because he had no heir to his throne. Every night, he dreamed of an angel coming to him and saying \"If you are good to others, an heir will be born to you.\" So this king began to be good to his subjects, but he was still sad and did not have any happiness in his life.\n\nOne day, the King came across a poor old man who had a very beautiful daughter. The King instantly fell in love with her and wanted to marry her. But the old man refused as his daughter was already promised to another man. Angrily, the King said to the old man \"You are my subject and you must obey me! If you do not give me your daughter to be my wife, I will have you beheaded!\" But the old man still refused and said \"If you want my daughter so badly, then go and build a tall tower. If you can see the shadow of the tower from my house, I will give you my daughter.\"\n\tlikelihood: None\n\ttoken_likelihoods: None\n}]\n\treturn_likelihoods: NONE\n}"
     },
     "execution_count": 19,
     "metadata": {},
     "output_type": "execute_result"
    }
   ],
   "source": [
    "response"
   ],
   "metadata": {
    "collapsed": false,
    "pycharm": {
     "name": "#%%\n"
    }
   }
  },
  {
   "cell_type": "code",
   "execution_count": 22,
   "outputs": [
    {
     "data": {
      "text/plain": "[cohere.Generation {\n \tid: f2d1603f-8bd3-413e-b2d7-081dc7ca2c15\n \ttext: there was a small tree that lived in the middle of a beautiful forest. This little tree was very happy, and he loved his life. He loved being surrounded by all his friends, the other trees of the forest. He loved the smell of the flowers, the sound of the birds, and the feel of the soft breeze.\n \n One day, a storm came and knocked down some of the other trees. The little tree was sad to see his friends hurting, but he was also happy that he was strong and could help them. He bent down and gave his branches to his friends so they could be like him and be strong enough to help the other trees in the forest.\n \n After the storm was over, the little tree felt proud of himself. He was happy to be healthy and strong, and he was glad that he could help his friends. He learned that it was better to be strong and healthy, rather than trying to be like everyone else and bending over backwards. From then on, he continued to grow strong and happy, knowing that he could always help others if they needed him.\n \tlikelihood: None\n \ttoken_likelihoods: None\n },\n cohere.Generation {\n \tid: 6948a476-c8dc-409e-ac14-909e0bd8f4d9\n \ttext: there was a wise old man who lived in a small village. Every night he would sit by his window, watching the children play. And every night, he would tell them a story. One night, he told them a story about a fisherman who was always trying to catch the biggest fish in the sea. But no matter how hard he tried, he always ended up catching smaller fish. \"Why don't you just let the big fish swim away?\" the children asked. \"Then I won't be disappointed,\" said the fisherman. But the old man shook his head and said, \"If you try to grasp at the shadow, you will lose the substance.\"\n \tlikelihood: None\n \ttoken_likelihoods: None\n },\n cohere.Generation {\n \tid: 86047aae-c1b3-4285-b875-2a6dd8998759\n \ttext: in a land far away, there lived a little girl named Sally. Sally was a very happy child, and she loved nothing more than to spend her days playing with her friends and exploring the beautiful woods near her home.\n \n One day, Sally came across a strange creature in the woods. It was a small, mischievous imp, who told Sally that if she grasped at the shadow of a tree, she would be granted a wish.\n \n Sally was thrilled by this news and quickly made her wish: she wished for a new toy pony to call her own.\n \n The imp smiled and vanished into the shadows, and Sally was sure that her wish had been granted. But when she went to the stable the next day, there was no pony waiting for her.\n \n Disappointed, Sally realized that she had been grasping at the shadow and had lost the substance of what she truly wanted: a pony of her own.\n \n From that day on, Sally vowed to always be careful what she wished for, and to remember that the imp's trick was just that-a trick. And from that day forward, Sally was content with the simple joys of being a child and enjoying the beauty of the world around her.\n \tlikelihood: None\n \ttoken_likelihoods: None\n },\n cohere.Generation {\n \tid: 18bb144f-3e89-4954-a337-02d0007bb9ba\n \ttext: in group of children were playing together in they noticed a curious sight: the sky. High above them, a great shadow appeared. The children were mesmerized by the mysterious shape and quickly began to discuss what it could be.\n \n One of the children, a little girl named Emily, had an idea. \"I know!\" she exclaimed. \"Let's try to grab the shadow! It looks like so much fun.\"\n \n At first, the other children were unsure. They knew that shadows were just reflections of light and couldn't be touched. But Emily was determined, and eventually she convinced the others to join her in reaching for the shadow.\n \n So, one by one, the children jumped up and stretched their arms towards the sky. But no matter how hard they tried, they couldn't quite grasp the shadow. It seemed to always slip just out of their reach.\n \n Finally, after much effort, Emily realized that she was tired and frustrated. \"It's no use,\" she said with a sigh. \"The shadow is just a reflection, and we can't touch it. We might as well just enjoy playing together instead.\"\n \n And so, the other children agreed. They put aside their attempts to grab the shadow and instead spent the rest of the day laughing and playing together. And Emily, though she still wished she could have held the shadow, was happy to be surrounded by her friends.\n \n Moral of the story: Grasp at the shadow and you will lose the substance. Like the children who tried to grab the shadow in the sky, sometimes we try to hold onto things that are just illusions. Whether it's a material object, a feeling, or even a person, if we try to grasp at something that isn't real, we will only end up disappointed. Instead, it's important to focus on the things that truly matter in life, like the love of friends and family. These are the things that will bring us true happiness and contentment.\n \tlikelihood: None\n \ttoken_likelihoods: None\n },\n cohere.Generation {\n \tid: d2a9c89f-f8ba-43b9-a6d8-46bd26487c09\n \ttext: in a magical land far, far away, there was a beautiful young princess named Snow White. She was kind and gentle, with a pure heart and a love of nature and animals. She lived with her wicked stepmother, the queen, in a castle surrounded by a forest full of wild beasts and dangerous creatures.\n \n One day, while exploring the woods with her faithful friend, a mischievous dwarf named Dopey, Snow White came across a strange and mysterious cottage. As she peered through the windows, she saw a cozy room with a roaring fire and a table set for two. Intrigued, she knocked on the door and was greeted by an old woman with long, silver hair.\n \n The old woman welcomed Snow White into her home and invited her to stay for tea. As they chatted, the old woman told Snow White a tale of lost love and a bitter curse.\n \n Long ago, the old woman had been a queen herself, until a cruel twist of fate had turned her heart cold and black. Furious at the world, she had summoned the most powerful magic she knew and cast a terrible spell, cursing her mirror to show only the ugliness within.\n \n But the curse had backfired, and instead of seeing her own reflection, the old woman saw only the beauty and goodness of others. Seeing how kind and good Snow White was, the old woman was reminded of the person she used to be and her heart began to melt.\n \n Just then, the clock struck midnight and the old woman realized that Snow White's hour of doom had come. She begged Snow White to leave at once, but it was too late. The princess had already taken a bite of the poisoned apple the queen had left for her.\n \n Snow White fell into a deep sleep and the old woman wept, knowing that her curse could not be broken. But even in her darkest hour, the old woman clung to a glimmer of hope. As she watched over her beloved princess, she vowed to find a way to save her.\n \n And so, every night, the old woman visited Snow White in her dreams, telling her stories of hope and love and courage. And though Snow White's body lay still and lifeless, her spirit grew stronger and brighter.\n \n At last, the day came when the curse was broken and Snow White awoke, safe and sound. She embraced the old woman and thanked her for her kindness, and the two became friends for life.\n \n From that day forward, Snow White never forgot the lesson she had learned: Grasp at the shadow and you will lose the substance.\n \tlikelihood: None\n \ttoken_likelihoods: None\n }]"
     },
     "execution_count": 22,
     "metadata": {},
     "output_type": "execute_result"
    }
   ],
   "source": [
    "response.generations"
   ],
   "metadata": {
    "collapsed": false,
    "pycharm": {
     "name": "#%%\n"
    }
   }
  },
  {
   "cell_type": "code",
   "execution_count": 16,
   "metadata": {
    "pycharm": {
     "name": "#%%\n"
    }
   },
   "outputs": [],
   "source": [
    "df['output'] = df['prompt'].apply(generate)"
   ]
  },
  {
   "cell_type": "code",
   "execution_count": 14,
   "metadata": {
    "pycharm": {
     "name": "#%%\n"
    }
   },
   "outputs": [
    {
     "name": "stderr",
     "output_type": "stream",
     "text": [
      "\u001B[93mWarning: Your text contains a trailing whitespace, which has been trimmed to ensure high quality generations.\n",
      "\u001B[0m\n"
     ]
    },
    {
     "name": "stdout",
     "output_type": "stream",
     "text": [
      "Prediction: a child's mother asked her to fetch some flour from the pantry. The child did as she was told, but when she opened the pantry door, she saw that the flour was gone! She turned to tell her mother, but saw that she was gone, too! The child then realized that she had been tricked by the flour's shadow, which had looked like her mother to her. She learned her lesson and never trust a shadow again!\n"
     ]
    },
    {
     "name": "stderr",
     "output_type": "stream",
     "text": [
      "\u001B[93mWarning: Your text contains a trailing whitespace, which has been trimmed to ensure high quality generations.\n",
      "\u001B[0m\n"
     ]
    },
    {
     "name": "stdout",
     "output_type": "stream",
     "text": [
      "Prediction: a mother had three children who were very tired and could not fall asleep. The mother decided to tell them a bed time story that would help them fall asleep. She began to tell them about a woman who was very tired and could not fall asleep. She talked about how the woman tried to fall asleep, but she just couldn't seem to do it. Finally, the mother talked about how the woman came up with a solution to her problem. She invented a way to fall asleep that involved counting sheep.\n"
     ]
    },
    {
     "name": "stderr",
     "output_type": "stream",
     "text": [
      "\u001B[93mWarning: Your text contains a trailing whitespace, which has been trimmed to ensure high quality generations.\n",
      "\u001B[0m\n"
     ]
    },
    {
     "name": "stdout",
     "output_type": "stream",
     "text": [
      "Prediction: there was a king who wanted to please his people. He did everything he could think of to make them happy. He built them houses, he gave them clothes, he fed them, he educated them. But still, they were not happy. They were always looking for more. So the king decided to try something different. He would give them a story every night before bed. And he would make the moral of the story be: Those who seek to please everybody please nobody.\n"
     ]
    },
    {
     "name": "stderr",
     "output_type": "stream",
     "text": [
      "\u001B[93mWarning: Your text contains a trailing whitespace, which has been trimmed to ensure high quality generations.\n",
      "\u001B[0m\n"
     ]
    },
    {
     "name": "stdout",
     "output_type": "stream",
     "text": [
      "Prediction: a young boy named Naughty was constantly getting into trouble. He would lie, cheat, and steal from others. His parents had finally had enough of his behavior and decided to punish him. They made him sleep in a bed of nails. Naughty thought this would be a fun game, but he quickly realized that it was not. He tried to get out of bed, but the nails were stuck in his skin. He screamed and screamed until his parents came to check on him. They saw what he had done and were so disappointed in him. They sent him to his room without dinner and told him he would have to sleep in the bed of nails for a week. Naughty was so angry that he had been punished for his vices. He thought that this was the worst thing that could ever happen to him. But he soon realized that his vices were his own punishment.\n"
     ]
    },
    {
     "name": "stderr",
     "output_type": "stream",
     "text": [
      "\u001B[93mWarning: Your text contains a trailing whitespace, which has been trimmed to ensure high quality generations.\n",
      "\u001B[0m\n"
     ]
    },
    {
     "name": "stdout",
     "output_type": "stream",
     "text": [
      "Prediction: a mother went to her baby's room to put him to sleep. She picked up his favorite stuffed animal and began to tell him a bed time story. \"Once upon a time,\" she began, \"a little boy named Jack was born. He was a very happy boy, and he loved his mother very much.\"\n",
      "\n",
      "Suddenly, Jack's mother began to cough and choke. She turned away from Jack and reached for a drink of water. Jack watched as his mother's body began to convulse. \"No, no, no!\" he cried. \"Mommy, you're okay!\"\n",
      "\n",
      "But Jack's mother was not okay. She was having a coughing fit.\n",
      "Jack tried to think of something that would make his mother feel better. \"Hey, Mommy! Let's play a game! Okay?\"\n",
      "\n",
      "But Jack's mother could not speak. She could only cough.\n",
      "Jack had to think of something else. He knew that if words did not suffice, blows must follow. He got out of bed and went to his mother's side. He placed his small hand on her back and began to rub it in circles. He could feel her body relax as the coughing fit subsided. \"Thanks, Jack,\" she said, reaching out to hug him. \"You're a good boy.\"\n",
      "As they hugged each other, Jack felt a sense of satisfaction. He had helped his mother, and he knew that if words did not suffice, blows must follow.\n"
     ]
    },
    {
     "name": "stderr",
     "output_type": "stream",
     "text": [
      "\u001B[93mWarning: Your text contains a trailing whitespace, which has been trimmed to ensure high quality generations.\n",
      "\u001B[0m\n"
     ]
    },
    {
     "name": "stdout",
     "output_type": "stream",
     "text": [
      "Prediction: there was a little birdie who was out flying around when he saw a bunch of other little birdies all flocked together. He was so excited to join them that he hurried over to them. When he got there, he realized that they were all turkeys! Ha! He had been tricked by the turkeys.\n",
      "\n",
      "The moral of the story is that birds of a feather flock together. This means that people who are similar to each other often stick together.\n"
     ]
    },
    {
     "name": "stderr",
     "output_type": "stream",
     "text": [
      "\u001B[93mWarning: Your text contains a trailing whitespace, which has been trimmed to ensure high quality generations.\n",
      "\u001B[0m\n"
     ]
    },
    {
     "name": "stdout",
     "output_type": "stream",
     "text": [
      "Prediction: there was a beautiful princess named Serenity. She was kind and gentle, and she loved animals. She also loved to read, and she had a large collection of books in her castle. One day, she was reading a book when she heard a knock at the door. She opened it to find a handsome prince named Romeo. He was very charming and very handsome, and he had a way with words. He told her that he had been looking for a wife, and he had finally found the perfect one. Serenity was shocked. She didn't know what to say. Romeo then took her hand and placed a kiss on it. She was even more shocked. He then said, \"I would like to marry you.\" Serenity was still speechless. Finally, she managed to say, \"I…I don't know. I need to think about it.\" Romeo was not deterred. He said, \"Sure, but hurry up. I've got a date with Juliet in the morning.\" With that, he turned and left. Serenity was left standing there, wondering what just happened. The moral of the story is: If you allow men to use you for your own purposes, they will use you for theirs.\n"
     ]
    },
    {
     "name": "stderr",
     "output_type": "stream",
     "text": [
      "\u001B[93mWarning: Your text contains a trailing whitespace, which has been trimmed to ensure high quality generations.\n",
      "\u001B[0m\n"
     ]
    },
    {
     "name": "stdout",
     "output_type": "stream",
     "text": [
      "Prediction: there was a rich man who had many friends. He was very happy and content with his life. However, one day he encountered some bad luck and he lost all of his money. He was very sad and depressed and he didn't know what he was going to do.\n",
      "He decided to go out and make some new friends. He went to a bar and he met a group of people who were very friendly and welcoming. They offered to help him out and they took him in. He was very grateful and he realized that he had made some good friends in prosperity.\n",
      "\n",
      "If we would like to have our friends' support in adversity, we must make friends in prosperity.\n"
     ]
    },
    {
     "name": "stderr",
     "output_type": "stream",
     "text": [
      "\u001B[93mWarning: Your text contains a trailing whitespace, which has been trimmed to ensure high quality generations.\n",
      "\u001B[0m\n"
     ]
    },
    {
     "name": "stdout",
     "output_type": "stream",
     "text": [
      "Prediction: a young boy named Peter loved to tell lies. He would lie about anything and everything, big things and small things. He lied about his age, he lied about his job, and he even lied about his name. He once told a woman he was a doctor, just so he could get her number. Another time, he claimed to be a model, just so he could get free clothes. But the thing is, Peter never meant to hurt anyone. He just liked to make people believe what he wanted them to believe.\n",
      "\n",
      "One day, Peter decided to try something different. He went to the local bookstore and picked up a book on how to tell lies. He read it cover to cover and learned all sorts of new techniques for lying. He was so excited to try them out that he went out and tried them on his friends. But when he did, he realized that all he was doing was hurting himself. The lies he was telling were just making him look bad and feel worse. He realized that the only person he was deceiving was himself.\n"
     ]
    },
    {
     "name": "stderr",
     "output_type": "stream",
     "text": [
      "\u001B[93mWarning: Your text contains a trailing whitespace, which has been trimmed to ensure high quality generations.\n",
      "\u001B[0m\n"
     ]
    },
    {
     "name": "stdout",
     "output_type": "stream",
     "text": [
      "Prediction: there was a king who loved to tell stories. He would tell stories to his subjects every night before bed. His favorite story was about a great sea monster that lived in the oceans. He would tell his subjects that the sea monster was so big that it could swallow up an entire ship. He would tell them that the sea monster was so angry that it could destroy an entire city. He would tell them that the sea monster was so powerful that it could kill an army. He would tell them that the sea monster was so smart that it could outsmart any creature.\n",
      "\n",
      "One night, the king decided to tell his subjects a story about the sea monster. He made up a story that he had heard from a traveler. He said that the traveler had seen the sea monster and that it was even bigger than he had imagined. He said that the traveler had also seen the sea monster's home, and that it was even more amazing than he had thought. He ended the story by saying that the traveler had also seen the sea monster's girlfriend, and that she was even prettier than he had imagined.\n",
      "\n",
      "The king's subjects were so amazed by the story that they believed it to be true. They began to tell their friends and family members about the sea monster, and everyone soon became obsessed with it. The king was so happy that his story had been so successful that he decided to tell his subjects a new story about the sea monster every night.\n"
     ]
    },
    {
     "name": "stderr",
     "output_type": "stream",
     "text": [
      "\u001B[93mWarning: Your text contains a trailing whitespace, which has been trimmed to ensure high quality generations.\n",
      "\u001B[0m\n"
     ]
    },
    {
     "name": "stdout",
     "output_type": "stream",
     "text": [
      "Prediction: there was a little boy named John who always wanted to be a good example to his friends and family. He would always try his best to follow the Golden Rule and to be a light to others. One day, John's mom asked him to clean up his room as a part of his chores. He did so happily, but when he was finished, he realized that he had forgotten to dust the blinds. He went to get the dusting cloth and began to wipe down the blinds, but he was having a hard time reaching some of the higher ones. So, he got out his stepstool and climbed up to the highest blinds. He could see that there were still some streaks of dust left, so he got down and got the cloth wet with his tongue. He then began to wipe down the blinds again, but this time he was able to reach all of the dusty spots. When he was finished, he realized that he had been a very good example to his mother and that he had done a very good job.\n"
     ]
    },
    {
     "name": "stderr",
     "output_type": "stream",
     "text": [
      "\u001B[93mWarning: Your text contains a trailing whitespace, which has been trimmed to ensure high quality generations.\n",
      "\u001B[0m\n"
     ]
    },
    {
     "name": "stdout",
     "output_type": "stream",
     "text": [
      "Prediction: there was a little girl named Alice. She lived in a small town in the middle of nowhere. One day, she came across a talking rabbit who told her that he was late for a very important date. Alice offered to help him find his way, and together they set off on a journey through the woods. Along the way, they came across many strange creatures and places, but they always did the right thing at the right time. In the end, they found the rabbit's date, and he was so grateful to Alice that he gave her a present.\n",
      "\n",
      "The moral of the story is that it is a great art to do the right thing at the right season.\n"
     ]
    },
    {
     "name": "stderr",
     "output_type": "stream",
     "text": [
      "\u001B[93mWarning: Your text contains a trailing whitespace, which has been trimmed to ensure high quality generations.\n",
      "\u001B[0m\n"
     ]
    },
    {
     "name": "stdout",
     "output_type": "stream",
     "text": [
      "Prediction: there was a king who had four sons. He loved all his sons equally, but he had to choose one of them to be his successor. He consulted his advisors, but they could not come to a decision. Finally, he decided to let his sons decide for themselves. He called them all together and told them that he would give the kingdom to the one who was most satisfied with his lot.\n",
      "The eldest son was the first to speak. He said that he was satisfied with his lot and did not want to be king. The second son spoke next. He said that he was also satisfied with his lot and did not want to be king. The third son spoke last. He said that he was the most satisfied with his lot and would like to be king.\n",
      "The king was surprised by his son's response. He had not expected him to want to be king. However, he realized that his son was right. Satisfaction is better than desire.\n"
     ]
    },
    {
     "name": "stderr",
     "output_type": "stream",
     "text": [
      "\u001B[93mWarning: Your text contains a trailing whitespace, which has been trimmed to ensure high quality generations.\n",
      "\u001B[0m\n"
     ]
    },
    {
     "name": "stdout",
     "output_type": "stream",
     "text": [
      "Prediction: there was a child who loved to play with her toys. She had so many toys that she sometimes forgot which ones she had already played with. One day, she decided to clean up her room and put away all of her toys. She worked hard all day long and finally got everything cleaned up. She was so proud of herself for working so hard and getting the job done.\n"
     ]
    },
    {
     "name": "stderr",
     "output_type": "stream",
     "text": [
      "\u001B[93mWarning: Your text contains a trailing whitespace, which has been trimmed to ensure high quality generations.\n",
      "\u001B[0m\n"
     ]
    },
    {
     "name": "stdout",
     "output_type": "stream",
     "text": [
      "Prediction: there was a kingdom ruled by a king and queen. The king was very happy because he had just been able to defeat his enemy. He had been planning for years to take over the kingdom next door, and finally he had done it. He was so proud of himself that he decided to make a promise to his queen.\n",
      "\n",
      "\"My queen,\" he said, \"I promise that I will never again go to war. I am done with fighting.\"\n",
      "The queen was so happy that her husband had finally made a decision to stop fighting. She had been begging him for years to stop, and finally she had succeeded. She leaned in to kiss him, but he turned his head away.\n",
      "\n",
      "\"What's wrong, my king?\" she asked.\n",
      "\n",
      "\"I'm just looking at our son,\" he replied. \"I promised him I would never go to war again, and I don't want to break my promise.\"\n"
     ]
    },
    {
     "name": "stderr",
     "output_type": "stream",
     "text": [
      "\u001B[93mWarning: Your text contains a trailing whitespace, which has been trimmed to ensure high quality generations.\n",
      "\u001B[0m\n"
     ]
    },
    {
     "name": "stdout",
     "output_type": "stream",
     "text": [
      "Prediction: there was a girl who lived in a small town. She was born and raised there, and she knew everyone. She was friendly with all of her neighbors, and she was always willing to help them out. She was a very happy girl, and she loved her life.\n",
      "One day, she met a boy from out of town. He was new to the area, and he was just as friendly as the girl. They became fast friends and did everything together.\n",
      "However, over time, the girl began to feel as if she were being replaced. The boy was always the center of attention, and the girl was left feeling like a third wheel. She began to hate him, and she wanted him gone.\n",
      "One day, the boy left town, never to be seen again. The girl was relieved and happy to be rid of him. She never wanted to see him again.\n"
     ]
    },
    {
     "name": "stderr",
     "output_type": "stream",
     "text": [
      "\u001B[93mWarning: Your text contains a trailing whitespace, which has been trimmed to ensure high quality generations.\n",
      "\u001B[0m\n"
     ]
    },
    {
     "name": "stdout",
     "output_type": "stream",
     "text": [
      "Prediction: a little boy named Jack lived in a small town. He was always so willing to help out his friends and neighbors, and everyone in town loved him.\n",
      "\n",
      "One day, a local politician came to town and gave a speech about how much he loved the people there. Jack's friends and family were so impressed by his speech that they decided to vote for him in the upcoming election.\n",
      "\n",
      "However, when the election came around, Jack's friends and family realized that the politician was actually quite evil. He was cheating on his wife, lying to his constituents, and generally making a mess of things.\n",
      "\n",
      "So, the next time you hear a politician giving a speech, just remember that you can never be sure what they're really thinking.\n"
     ]
    },
    {
     "name": "stderr",
     "output_type": "stream",
     "text": [
      "\u001B[93mWarning: Your text contains a trailing whitespace, which has been trimmed to ensure high quality generations.\n",
      "\u001B[0m\n"
     ]
    },
    {
     "name": "stdout",
     "output_type": "stream",
     "text": [
      "Prediction: there was a kingdom that was being invaded by an enemy. The king called upon his people to defend the kingdom. However, one of the king's trusted advisors gave the enemy the plans to the kingdom's defenses. The enemy used these plans to easily defeat the king and his people. The advisor was later found out and executed for his betrayal.\n",
      "\n",
      "They are foolish who give their enemy the means of destroying them.\n"
     ]
    },
    {
     "name": "stderr",
     "output_type": "stream",
     "text": [
      "\u001B[93mWarning: Your text contains a trailing whitespace, which has been trimmed to ensure high quality generations.\n",
      "\u001B[0m\n"
     ]
    },
    {
     "name": "stdout",
     "output_type": "stream",
     "text": [
      "Prediction: a man named Jack was very tired and wanted to go to bed. He told his wife, \"I'm going to bed early tonight because I'm so tired.\" His wife replied, \"Okay, I'll let you know when it's time to wake up.\"\n",
      "\n",
      "So Jack went to bed and fell asleep. He was awoken by his wife an hour later. \"It's time to wake up, Jack,\" she said.\n",
      "\"What? No way! I just fell asleep!\"\n",
      "\"Sure, Jack. Go back to sleep.\"\n"
     ]
    },
    {
     "name": "stderr",
     "output_type": "stream",
     "text": [
      "\u001B[93mWarning: Your text contains a trailing whitespace, which has been trimmed to ensure high quality generations.\n",
      "\u001B[0m\n"
     ]
    },
    {
     "name": "stdout",
     "output_type": "stream",
     "text": [
      "Prediction: a young boy named Bobby was walking home from getting ice cream with his friends when he ran into a strange man. The man was wearing a long black cloak and had a wide-brimmed hat pulled down over his eyes. Bobby could see that the man's eyes were beady and bright, like two flashlights shining in the dark.\n",
      "\n",
      "\"Hey, kid,\" the man said, \"I'm sorry to hear about your dad. He was a good man.\"\n",
      "\n",
      "Bobby's eyes got wide. \"What did you say?\"\n",
      "\n",
      "\"I said I'm sorry to hear about your dad. He was a good man.\"\n",
      "\n",
      "Bobby shook his head. \"You're lying. My dad was a great man.\"\n",
      "\n",
      "The man put his hand on Bobby's shoulder. \"I'm very sorry for your loss, son.\"\n",
      "\n",
      "Bobby's heart was pounding so hard he thought it might burst. He yanked his shoulder away from the man and took a step back. \"Don't you touch me!\" he shouted. \"I know you're lying!\"\n",
      "If you ever feel like you need to trust someone's advice, always remember that it's better to be safe than sorry.\n"
     ]
    },
    {
     "name": "stderr",
     "output_type": "stream",
     "text": [
      "\u001B[93mWarning: Your text contains a trailing whitespace, which has been trimmed to ensure high quality generations.\n",
      "\u001B[0m\n"
     ]
    },
    {
     "name": "stdout",
     "output_type": "stream",
     "text": [
      "Prediction: there was a little girl who was so excited to go out and play in the snow. She had been waiting all day for her parents to finally let her go, and when they did, she ran out the door and straight into a big pile of snow. She screamed and laughed and rolled around in the snow until she was completely covered. Then, she made a snow fort and had a blast playing in it. But when the time came to go inside and get ready for bed, she realized that she was missing her favorite stuffed animal, Oscar the Owl. She searched high and low, but he was nowhere to be found. Finally, she decided to try something different. She got down on her knees and started searching again. And that's when she saw him. Oscar was lying right there, right under her nose. She had been so focused on looking up that she never even saw him sitting there all along. She picked him up and hugged him tight, grateful that she had stooped to conquer.\n"
     ]
    },
    {
     "name": "stderr",
     "output_type": "stream",
     "text": [
      "\u001B[93mWarning: Your text contains a trailing whitespace, which has been trimmed to ensure high quality generations.\n",
      "\u001B[0m\n"
     ]
    },
    {
     "name": "stdout",
     "output_type": "stream",
     "text": [
      "Prediction: there was a girl named Elizabeth who had a very best friend named John. John was always there for Elizabeth and made her feel so special. He would do anything for her, and she felt like she could really trust him.\n",
      "One day, Elizabeth's mom asked her to run an errand for her. Elizabeth was happy to do it and excited to tell John about her adventure later. She ran into town and went to the store, but when she came back, John was nowhere to be found. She looked all over for him, but he was just gone.\n",
      "Elizabeth was so disappointed and hurt that John had just up and left her like that. She knew she couldn't trust him anymore.\n",
      "No one can be a friend if you know not whether to trust or distrust him.\n"
     ]
    },
    {
     "name": "stderr",
     "output_type": "stream",
     "text": [
      "\u001B[93mWarning: Your text contains a trailing whitespace, which has been trimmed to ensure high quality generations.\n",
      "\u001B[0m\n"
     ]
    },
    {
     "name": "stdout",
     "output_type": "stream",
     "text": [
      "Prediction: there was a little boy who loved sweets. He would have sweets for breakfast, lunch, and dinner if he could. His mother would try to get him to eat something else, but he would just sneer and say, \"I don't like that.\"\n",
      "\n",
      "One day, the little boy's uncle came to visit. He brought the boy a bag full of sweets. The boy was so happy! He ate all the sweets in the bag. Then he asked his uncle for more. His uncle shook his head and said, \"No more.\" The boy was so disappointed. He had wanted more sweets, but his uncle had said no.\n",
      "\n",
      "The next day, the boy's mother took him to the park to play. He had so much fun playing with his friends that he forgot about the sweets. He even ate a healthy sandwich for lunch. When he got home, his mother told him that he had been such a good boy today that he deserved a reward. She gave him a bag of sweets. The boy was so happy! He had gotten what he wanted after all.\n",
      "\n",
      "The moral of the story is that greed often overreaches itself.\n"
     ]
    },
    {
     "name": "stderr",
     "output_type": "stream",
     "text": [
      "\u001B[93mWarning: Your text contains a trailing whitespace, which has been trimmed to ensure high quality generations.\n",
      "\u001B[0m\n"
     ]
    },
    {
     "name": "stdout",
     "output_type": "stream",
     "text": [
      "Prediction: a hard-working young man named Bob decided he'd had enough of his current job and wanted a change. He decided to try his hand at making shoes, since he'd always been good with his hands. He set up a little shop in his house and went to work. At first, things were tough and he struggled to make ends meet. But then, one day, a well-known TV show came to town to film a segment on his little shop. Bob was so excited that he made sure his shop was spotless and that he had a great selection of shoes to choose from. When the TV crew arrived, they were so impressed by Bob's work that they featured him on the show. Bob was thrilled and his business began to boom. He was able to hire more employees and buy more supplies. He was able to expand his business and sell his shoes to stores all over the world. Bob's hard work had paid off in a big way.\n"
     ]
    },
    {
     "name": "stderr",
     "output_type": "stream",
     "text": [
      "\u001B[93mWarning: Your text contains a trailing whitespace, which has been trimmed to ensure high quality generations.\n",
      "\u001B[0m\n"
     ]
    },
    {
     "name": "stdout",
     "output_type": "stream",
     "text": [
      "Prediction: there was a village where all the residents were friends. They got together every day to chat and laugh and enjoy each other's company. But one day, a new family moved into the village and they were not as friendly as the rest of the villagers. They didn't laugh or chat or enjoy each other's company. In fact, they were quite rude and even started fights with the other villagers. The whole village was worried about these new residents and what they might do next.\n",
      "One day, the village decided to have a meeting to discuss the issue. They all gathered in the town hall and talked about how they felt and what they thought should be done. Some of the villagers were in favor of throwing the new family out of the village while others were in favor of giving them a chance to improve their behavior. In the end, they decided to give the new family a chance to change their ways. They made a pact to always try to get along with each other and to never start any more fights.\n",
      "\n",
      "The moral of the story is that he who incites to strife is worse than he who takes part in it.\n"
     ]
    },
    {
     "name": "stderr",
     "output_type": "stream",
     "text": [
      "\u001B[93mWarning: Your text contains a trailing whitespace, which has been trimmed to ensure high quality generations.\n",
      "\u001B[0m\n"
     ]
    },
    {
     "name": "stdout",
     "output_type": "stream",
     "text": [
      "Prediction: there was a man who was very lazy. He always blamed his more active friend for causing him to be late. One day, the active friend decided to teach the loiterer a lesson. He challenged the loiterer to a race. The loiterer accepted the challenge and they both began to race. The active friend ran as fast as he could, but the loiterer just loitered along. The active friend reached the finish line first and the loiterer was forced to admit that he had been defeated. He then realized that it was his own laziness that had caused him to lose the race and he vowed to change his ways.\n"
     ]
    },
    {
     "name": "stderr",
     "output_type": "stream",
     "text": [
      "\u001B[93mWarning: Your text contains a trailing whitespace, which has been trimmed to ensure high quality generations.\n",
      "\u001B[0m\n"
     ]
    },
    {
     "name": "stdout",
     "output_type": "stream",
     "text": [
      "Prediction: there was a little boy named Billy. He was playing in his room with his toys when he suddenly heard his mom yell \"Billy, come here!\". He knew he was in trouble, so he quickly got up and went to his mom. When he got there, he saw that his sister had thrown his favorite toy truck out the window. He began to cry and ran to his room. His mom followed him and asked him what happened. He told her that his sister had thrown his toy truck out the window and he didn't know why. His mom comforted him and told him that she would help him get his truck back. She then went to speak to his sister about what had happened. When she came back, she had his truck in her hand. She handed it to Billy and told him that his sister had realized how much he loved his truck and so she had gotten it back for him. Billy was so happy to have his truck back and he knew that his mom had really helped him.\n"
     ]
    },
    {
     "name": "stderr",
     "output_type": "stream",
     "text": [
      "\u001B[93mWarning: Your text contains a trailing whitespace, which has been trimmed to ensure high quality generations.\n",
      "\u001B[0m\n"
     ]
    },
    {
     "name": "stdout",
     "output_type": "stream",
     "text": [
      "Prediction: a little girl named Goldilocks sneaked into the house of a family of bears while they were out for a walk. She was excited to see what the inside of their home looked like, but when she got there, she found that the bears had just returned from a trip to the city and they were very tired. Goldilocks ran through the house, laughing and singing as she went. She climbed onto the bed of one of the bears and began to bounce up and down, excited to have found such a fun place to play.\n",
      "\n",
      "Suddenly, Goldilocks heard a deep growl come from the other room and she knew that one of the bears had woken up. She tried to quieten her laughter, but it only got louder as she bounced higher and higher. The growling got louder too, and Goldilocks realized that the bear was coming to get her. She screamed as the bear reached her, but it was too late. The bear clamped its jaws around her head and began to shake her violently. Goldilocks screamed and screamed, but it was no use. Then, just as the bear was about to kill her, Goldilocks bit down on its leg and it let her go. Goldilocks ran out the door and into the woods, where she knew the bears would never find her.\n"
     ]
    },
    {
     "name": "stderr",
     "output_type": "stream",
     "text": [
      "\u001B[93mWarning: Your text contains a trailing whitespace, which has been trimmed to ensure high quality generations.\n",
      "\u001B[0m\n"
     ]
    },
    {
     "name": "stdout",
     "output_type": "stream",
     "text": [
      "Prediction: there was a little girl who always wanted to be a princess. She would wear her tiara and dress up in her ball gown all day long. She even went so far as to dream about her prince charming coming to sweep her off her feet. One day, she was out playing in her yard when she saw a huge cloud of dust billowing towards her. She quickly ran inside to avoid the storm. When the dust finally settled, she realized that it had been a giant marshmallow!\n"
     ]
    },
    {
     "name": "stderr",
     "output_type": "stream",
     "text": [
      "\u001B[93mWarning: Your text contains a trailing whitespace, which has been trimmed to ensure high quality generations.\n",
      "\u001B[0m\n"
     ]
    },
    {
     "name": "stdout",
     "output_type": "stream",
     "text": [
      "Prediction: there was a little boy named Johnny who loved to play with his toys. He would spend hours every day playing with his toy cars, his legos, and his stuffed animals. He was always so happy and content.\n",
      "One day, Johnny's mom came into his room and sat down on the bed next to him. She started to talk to him about how he was growing up and how he needed to start acting more like a big boy. She told him that he needed to start putting away his toys and stop playing with them all the time.\n",
      "Johnny didn't like what he was hearing. He knew that he was still a little boy and he didn't want to have to stop playing with his toys. He started to cry and his mom tried to comfort him.\n",
      "\"Johnny, I know you don't want to hear this, but you need to start acting like a big boy. I'm not saying you can never play with your toys again, but you need to start putting them away when you're done playing with them. Okay?\"\n",
      "Johnny reluctantly agreed and began to put away his toys. He was still allowed to play with them, just not all the time. As he got older, he became more responsible and began to put away his toys before he started to play with them.\n"
     ]
    },
    {
     "name": "stderr",
     "output_type": "stream",
     "text": [
      "\u001B[93mWarning: Your text contains a trailing whitespace, which has been trimmed to ensure high quality generations.\n",
      "\u001B[0m\n"
     ]
    },
    {
     "name": "stdout",
     "output_type": "stream",
     "text": [
      "Prediction: a little girl named Elizabeth loved to play with her toys. She had a special toy chest where she kept all of her favorite things. One day, Elizabeth's mother asked her to clean up her room and put her toys away. Elizabeth was very happy to do this, as she knew that her mother loved her and wanted her to be tidy. When Elizabeth was done cleaning up her room, she went to her toy chest to put away her last few toys. But wait! She realized that she had forgotten to put away her favorite toy, a stuffed bear named Beany. She quickly put Beany into her toy chest and closed the lid, satisfied that she had done a good job.\n",
      "\n",
      "Elizabeth's mother came into her room later that night to say goodnight. She smiled at Elizabeth and then leaned over to give her a kiss. \"Goodnight, Elizabeth. I love you.\" Elizabeth smiled back and then closed her eyes, satisfied that she had done a good job.\n"
     ]
    },
    {
     "name": "stderr",
     "output_type": "stream",
     "text": [
      "\u001B[93mWarning: Your text contains a trailing whitespace, which has been trimmed to ensure high quality generations.\n",
      "\u001B[0m\n"
     ]
    },
    {
     "name": "stdout",
     "output_type": "stream",
     "text": [
      "Prediction: there was a little girl who was very sad. Her father had just died, and she was left alone in the world. She was very poor, and she had no idea how she would survive.\n",
      "One day, she met a woman who was also very sad. Her husband had just left her, and she was heartbroken. The woman told the little girl that she could come and live with her. She said that she would take care of the little girl and help her to grow up happy and strong.\n",
      "The little girl was very grateful to the woman. She knew that she had been given a great gift. From then on, she always tried to turn her circumstances to good account.\n"
     ]
    },
    {
     "name": "stderr",
     "output_type": "stream",
     "text": [
      "\u001B[93mWarning: Your text contains a trailing whitespace, which has been trimmed to ensure high quality generations.\n",
      "\u001B[0m\n"
     ]
    },
    {
     "name": "stdout",
     "output_type": "stream",
     "text": [
      "Prediction: a young boy named Tommy wanted to help his mother clean the house. He grabbed a broom and started to sweep the floor. He worked hard for hours, until the job was done. His mother was so proud of him that she gave him a hug. She also gave him a piece of advice: \"Tommy, whatever you do, do with all your might.\"\n",
      "\n",
      "Tommy took her advice to heart and became a very successful man. He always did his best at whatever he did, and he eventually became the president of a company. He never forgot his mother's advice, and he always did his best in everything he did.\n"
     ]
    },
    {
     "name": "stderr",
     "output_type": "stream",
     "text": [
      "\u001B[93mWarning: Your text contains a trailing whitespace, which has been trimmed to ensure high quality generations.\n",
      "\u001B[0m\n"
     ]
    },
    {
     "name": "stdout",
     "output_type": "stream",
     "text": [
      "Prediction: a little boy named Johnny was playing in his room when he heard his mother yelling at his father in the kitchen. Johnny crept to the door to listen, and he heard his mother say, \"I'm so tired of your lies! I know you're cheating on me, and I'm going to prove it!\"\n",
      "\n",
      "Johnny was shocked. He knew his father was cheating on his mother, but he had never heard his mother talk about it before. He quickly ran to his room and closed the door, afraid that he might be caught eavesdropping. He lay in bed, heart pounding, as he tried to make sense of what he had heard. He knew that his mother was probably just trying to protect herself and her family, but he couldn't help but feel like she was accusing his father of something he didn't do.\n",
      "If you were Johnny, how would you feel?\n",
      "\n",
      "Johnny would feel scared and confused. He didn't know what he should believe, or who he could trust. He lay in bed, trying to fall asleep, but he could feel his mother's words ricochet around in his head. Finally, he dozed off, but he awoke a few hours later to the sound of his parents arguing again. He groggily got out of bed and went to the kitchen to see if they were okay. When he opened the door, he saw his father putting on his coat, while his mother sat at the kitchen table, crying.\n",
      "\n",
      "Johnny didn't know what to say. He just stood there, watching them. Finally, his father kissed his mother's forehead and said, \"I'm going to go to the office for a few hours. I'll be back soon.\"\n",
      "\n",
      "Johnny was relieved to see that they were both okay. He went back to his room and fell asleep, but he awoke a few hours later to the sound of his parents arguing again. He groggily got out of bed and went to the kitchen to see if they were okay. When he opened the door, he saw his father putting on his coat, while his mother sat at the kitchen table, crying.\n",
      "\n",
      "Johnny didn't know what to say. He just stood there, watching them. Finally, his father kissed his mother's forehead and said, \"I'm going to go to the office for a few hours. I'll be back soon.\"\n"
     ]
    },
    {
     "name": "stderr",
     "output_type": "stream",
     "text": [
      "\u001B[93mWarning: Your text contains a trailing whitespace, which has been trimmed to ensure high quality generations.\n",
      "\u001B[0m\n"
     ]
    },
    {
     "name": "stdout",
     "output_type": "stream",
     "text": [
      "Prediction: there was a little boy named Jack who was just as naughty as he could be. He loved to play tricks on his classmates and even his own family. One day, he decided to play a trick on his mother. He put a piece of bread in her shoe and when she went to take it out, he screamed, \"There's a mouse in your shoe!\" His mother looked down and sure enough, there was a mouse in her shoe. She screamed and jumped up and down on the bed. Finally, Jack's father came in and asked what was going on. Jack told him about the bread in his mother's shoe and how he had scared her. His father shook his head and said, \"You're going to have to learn to behave yourself, Jack. These are just the sorts of things that naughty children do.\"\n",
      "\n",
      "Naughty children are like that because they choose to be like that. If you choose to be good, then you will be good. But if you choose to be naughty, then you will be naughty.\n"
     ]
    },
    {
     "name": "stderr",
     "output_type": "stream",
     "text": [
      "\u001B[93mWarning: Your text contains a trailing whitespace, which has been trimmed to ensure high quality generations.\n",
      "\u001B[0m\n"
     ]
    },
    {
     "name": "stdout",
     "output_type": "stream",
     "text": [
      "Prediction: there was a little girl named Goldilocks. She had long, golden hair and bright green eyes. She was a very happy little girl, always laughing and playing games. One day, she went for a walk in the forest and came across a small house. She could see that the front door was open, so she wandered inside. There, she met a family of three bears who were just sitting down to dinner. Goldilocks was so excited to see them that she sat down right next to them and started eating their food. The bears were not very happy about this, but they let her stay.\n",
      "\n",
      "The next day, Goldilocks went back to the forest and met up with the three bears again. This time, she was able to help them with their daily chores. She watered the plants, picked the fruit, and even milked the cows. The bears were so happy with her help that they decided to keep her as their own. Goldilocks was so happy to have found a new family that she never left their side.\n",
      "\n",
      "The moral of this story is that regardless of our wishes, or even our intent, it is to our nature alone that we will be faithful.\n"
     ]
    },
    {
     "name": "stderr",
     "output_type": "stream",
     "text": [
      "\u001B[93mWarning: Your text contains a trailing whitespace, which has been trimmed to ensure high quality generations.\n",
      "\u001B[0m\n"
     ]
    },
    {
     "name": "stdout",
     "output_type": "stream",
     "text": [
      "Prediction: there was a selfish child who didn't want to share his toys with anyone. He was always so tired when it was time for bed, but he just couldn't fall asleep because he was thinking about his toys and how he didn't want to let anyone play with them. One night, he finally fell asleep and had a dream that he was being chased by a giant spider. He screamed and screamed until he finally woke up. When he realized it was just a dream, he realized how selfish he had been and how it had made him feel. He decided to start sharing his toys with everyone from then on.\n"
     ]
    },
    {
     "name": "stderr",
     "output_type": "stream",
     "text": [
      "\u001B[93mWarning: Your text contains a trailing whitespace, which has been trimmed to ensure high quality generations.\n",
      "\u001B[0m\n"
     ]
    },
    {
     "name": "stdout",
     "output_type": "stream",
     "text": [
      "Prediction: there was a little boy named Tommy. He was a very sweet little boy, but he was also a bit of a rascal. One day, he decided to run away from home. He packed his bag and left without telling anyone. He ran and ran until he finally reached the city. He was so tired, but he knew he was finally free. He curled up in a doorway and fell asleep. When he woke up, he saw a group of men standing around him. They were laughing and pointing at him. Tommy was so confused. He didn't know what they were talking about. One of the men kicked him in the back and he fell to the ground. Tommy cried and cried. He was so tired and so hungry. He got back up and kept walking. He didn't know where he was going, but he had to keep walking. He walked and walked until he finally saw a sign for a nearby shelter. He knew he was safe there.\n"
     ]
    },
    {
     "name": "stderr",
     "output_type": "stream",
     "text": [
      "\u001B[93mWarning: Your text contains a trailing whitespace, which has been trimmed to ensure high quality generations.\n",
      "\u001B[0m\n"
     ]
    },
    {
     "name": "stdout",
     "output_type": "stream",
     "text": [
      "Prediction: a king and his wife were sleeping in their bedroom when they heard a noise outside. They both got up to investigate, and when they opened the door, they saw a flatter standing there. The flatter had been waiting outside the door for hours, and when he saw the king and his wife, he knew he was finally in. He told them that he had been sent by the queen to kill the king, and that he would do so if they didn't give him the keys to the kingdom. The king and his wife were shocked, but they quickly realized that the flatter was not to be trusted. They refused to give him the keys, and they called for help. When the guards came, they arrested the flatter and sent him to jail. The king and his wife were safe, and they never forgot the lesson they learned that night: flatters are not to be trusted.\n"
     ]
    },
    {
     "name": "stderr",
     "output_type": "stream",
     "text": [
      "\u001B[93mWarning: Your text contains a trailing whitespace, which has been trimmed to ensure high quality generations.\n",
      "\u001B[0m\n"
     ]
    },
    {
     "name": "stdout",
     "output_type": "stream",
     "text": [
      "Prediction: there was a little girl named Goldilocks who loved to play games. She would spend hours upon hours each day playing games with her friends. Her favorite game was called \"The Three Bears.\" In this game, she would pretend to be Goldilocks and her friends would pretend to be the three bears. They would take turns telling each other's fortunes and acting out the story of Goldilocks and the three bears.\n",
      "\n",
      "One day, Goldilocks' mother called her into the kitchen for dinner. Goldilocks was so caught up in her game that she didn't even notice her mother until she was right in front of her.\n",
      "\"Goldilocks, dinner's ready!,\" her mother exclaimed.\n",
      "Goldilocks quickly turned off her game and sat down at the table. She was so hungry that she wolfed down her dinner in no time.\n",
      "After dinner, Goldilocks asked her mother if she could play \"The Three Bears\" again. Her mother sighed and said, \"Goldilocks, you've been playing that game for hours each day. I think it's time you tried something new.\"\n",
      "Goldilocks looked at her mother with pleading eyes.\n",
      "\"Goldilocks, I'm sorry. I'll play with you for an hour, but then I need you to try something else.\"\n",
      "Goldilocks was so happy that she had won her argument that she completely forgot about the other thing her mother had said.\n",
      "An hour later, Goldilocks' mother came to get her again. This time, she was wearing her robe and slippers and had a tired look on her face.\n",
      "\"Goldilocks, it's time for bed,\" she said.\n",
      "\"But I don't want to go to bed!\" Goldilocks protested.\n",
      "\"Sweetie, I've been up since early this morning. I need to get some rest,\" her mother said.\n",
      "\"Fine, I'll go to bed. But I'm still going to play 'The Three Bears' tomorrow!\"\n",
      "\n",
      "Men often bear little grievances with less courage than they do large misfortunes.\n"
     ]
    },
    {
     "name": "stderr",
     "output_type": "stream",
     "text": [
      "\u001B[93mWarning: Your text contains a trailing whitespace, which has been trimmed to ensure high quality generations.\n",
      "\u001B[0m\n"
     ]
    },
    {
     "name": "stdout",
     "output_type": "stream",
     "text": [
      "Prediction: there was a little girl who loved to help people. She would always try to do good deeds for others, and she always seemed to succeed. One day, she decided to help a little boy who was crying because he had lost his favorite toy. She found the toy in the trash can and gave it back to him. The little boy was so happy that he thanked the little girl with all his heart.\n",
      "\n",
      "One good turn deserved another, the little boy learned, and he went on to do many more good things for people. The little girl's simple act of kindness had started a chain reaction of goodness that spread far and wide.\n"
     ]
    },
    {
     "name": "stderr",
     "output_type": "stream",
     "text": [
      "\u001B[93mWarning: Your text contains a trailing whitespace, which has been trimmed to ensure high quality generations.\n",
      "\u001B[0m\n"
     ]
    },
    {
     "name": "stdout",
     "output_type": "stream",
     "text": [
      "Prediction: there was a little boy who was very unhappy. He didn't like his room, he didn't like his bed, and he didn't like his stuffed animals. He wanted a new room, a new bed, and new stuffed animals. His mother tried to comfort him, but he didn't want her help. He just wanted to be happy.\n",
      "\n",
      "One day, he decided to clean his room and make his bed. He found that he actually liked his room and his bed when they were clean. He also realized that he still loved his stuffed animals. He had just been looking for happiness in the wrong places.\n"
     ]
    },
    {
     "name": "stderr",
     "output_type": "stream",
     "text": [
      "\u001B[93mWarning: Your text contains a trailing whitespace, which has been trimmed to ensure high quality generations.\n",
      "\u001B[0m\n"
     ]
    },
    {
     "name": "stdout",
     "output_type": "stream",
     "text": [
      "Prediction: a child named Jaden was caught in a thunderstorm while he was out playing. He ran inside to his mother, who was taking a nap. He told her that he was scared and she said, \"why don't you try to think of something that will make you feel better?\" Jaden thought for a minute and then he said, \"I know! I'll count to ten and then I'll feel better.\" His mother smiled and nodded. Jaden began to count and soon he felt better.\n"
     ]
    },
    {
     "name": "stderr",
     "output_type": "stream",
     "text": [
      "\u001B[93mWarning: Your text contains a trailing whitespace, which has been trimmed to ensure high quality generations.\n",
      "\u001B[0m\n"
     ]
    },
    {
     "name": "stdout",
     "output_type": "stream",
     "text": [
      "Prediction: a mother bear and her two cubs were taking a crap in the woods when they were suddenly attacked by a group of wolves. The mother bear fought back as best she could, but it was only a matter of time before she was overpowered and killed. Her two cubs were also killed by the wolves.\n",
      "\n",
      "The moral of this story is that you should never trust your enemy, even if they seem to be friendly.\n"
     ]
    },
    {
     "name": "stderr",
     "output_type": "stream",
     "text": [
      "\u001B[93mWarning: Your text contains a trailing whitespace, which has been trimmed to ensure high quality generations.\n",
      "\u001B[0m\n"
     ]
    },
    {
     "name": "stdout",
     "output_type": "stream",
     "text": [
      "Prediction: a young man went to a tailor to get his suit measured. The tailor was an old man with a long beard who spoke in a very strange voice. The young man was quite startled by the sound of his voice but he tried his best to understand what the tailor was saying. Finally, after a great deal of effort, he managed to make out that the tailor was telling him to come back the next day for his suit. The young man was very disappointed as he had hoped to get his suit measured and leave right away. But he realized that the old tailor was probably just having a bad day and so he decided to humor him. He told the old man that he would come back the next day, even if he didn't really plan to. And sure enough, when the young man came back the next day, the old tailor was in a much better mood and he measured the young man's suit without any trouble.\n"
     ]
    },
    {
     "name": "stderr",
     "output_type": "stream",
     "text": [
      "\u001B[93mWarning: Your text contains a trailing whitespace, which has been trimmed to ensure high quality generations.\n",
      "\u001B[0m\n"
     ]
    },
    {
     "name": "stdout",
     "output_type": "stream",
     "text": [
      "Prediction: there was a mother who wanted to teach her son about the importance of kindness. She told him a bed time story about a king who was very kind to his people. The king would give gifts to his subjects and never expect anything in return. He was always happy just to see his people happy.\n",
      "\n",
      "One day, the king decided to test his people's kindness. He went out into the streets and started giving away money to anyone who would take it. Some people were grateful and took the money, while others were ungrateful and turned away.\n",
      "\n",
      "The king was happy to see that his people were still kind, even when he was being kind to them. But he also realized that there was still room for improvement. He decided to continue being kind to his people, but he would also start expecting a little bit of kindness in return.\n"
     ]
    },
    {
     "name": "stderr",
     "output_type": "stream",
     "text": [
      "\u001B[93mWarning: Your text contains a trailing whitespace, which has been trimmed to ensure high quality generations.\n",
      "\u001B[0m\n"
     ]
    },
    {
     "name": "stdout",
     "output_type": "stream",
     "text": [
      "Prediction: there was a town where everyone was very sick with the flu. The doctor in town had a special medicine that he made from his own mixture of herbs. He told the townspeople that his medicine would make them feel better. They all took his medicine and within a day, they all felt better. The doctor was a hero in the town.\n",
      "\n",
      "However, the doctor's medicine did not cure the flu. It just made people feel better for a little while. The townspeople were better off avoiding his medicine because it was worse than the disease.\n"
     ]
    },
    {
     "name": "stderr",
     "output_type": "stream",
     "text": [
      "\u001B[93mWarning: Your text contains a trailing whitespace, which has been trimmed to ensure high quality generations.\n",
      "\u001B[0m\n"
     ]
    },
    {
     "name": "stdout",
     "output_type": "stream",
     "text": [
      "Prediction: there was a man who had a lot of money. He was very happy. But then he saw a poor man who was crying because he had no food. The man with the money went to him and gave him some food. The poor man was very happy. He learned from the misfortunes of others and was happy.\n"
     ]
    },
    {
     "name": "stderr",
     "output_type": "stream",
     "text": [
      "\u001B[93mWarning: Your text contains a trailing whitespace, which has been trimmed to ensure high quality generations.\n",
      "\u001B[0m\n"
     ]
    },
    {
     "name": "stdout",
     "output_type": "stream",
     "text": [
      "Prediction: a boy named Andy met a girl named Sarah. They became friends and did everything together. But one day, Sarah told Andy she had a secret. She said that she had been bitten by a snake and needed Andy to help her. Andy was scared at first, but he agreed to help her.\n",
      "\n",
      "When he got to Sarah's house, he saw that she had a huge snakebite on her leg. He quickly called 911 and then he and Sarah waited for the ambulance to come. When the ambulance arrived, they were both shocked to see that it was being driven by Sarah's mom!\n",
      "\n"
     ]
    },
    {
     "name": "stderr",
     "output_type": "stream",
     "text": [
      "\u001B[93mWarning: Your text contains a trailing whitespace, which has been trimmed to ensure high quality generations.\n",
      "\u001B[0m\n"
     ]
    },
    {
     "name": "stdout",
     "output_type": "stream",
     "text": [
      "Prediction: a good friend of mine was in trouble. He had been caught cheating on a test and was about to be expelled from school. I was able to help him out by telling the teacher that he had been sick and would not be able to take the test. The teacher believed me and let him take the test again.\n",
      "\n",
      "My friend was very grateful to me and we continued to be friends. However, I soon found out that he had lied to me about being sick. He had actually been out partying the night before and had just taken a nausea medicine to make himself seem sick. I felt betrayed and disappointed in my friend. I decided that I could no longer trust him.\n"
     ]
    },
    {
     "name": "stderr",
     "output_type": "stream",
     "text": [
      "\u001B[93mWarning: Your text contains a trailing whitespace, which has been trimmed to ensure high quality generations.\n",
      "\u001B[0m\n"
     ]
    },
    {
     "name": "stdout",
     "output_type": "stream",
     "text": [
      "Prediction: there was a little girl named Goldilocks. She had golden hair and golden eyes. She was also very, very sweet. One day, she went for a walk in the forest and came across a house. She knocked on the door and when it opened, she saw that it was empty. She decided to take a look around.\n",
      "She entered the kitchen and saw that it was filled with delicious-looking food. She helped herself to some cheese and a glass of milk. Then, she wandered into the living room and saw that it was filled with comfortable-looking furniture. She sat down on a couch and took a nap.\n",
      "When she woke up, she saw that it was dark outside. She got up and tried to leave the house, but the door was locked. She was trapped!\n",
      "She spent the rest of the night trying to escape, but she couldn't figure out how to open the door. In the morning, she heard the door open and she saw that it was her own father who had come to rescue her. He told her that he had seen her enter the house the night before and that he had been worried about her.\n",
      "He also said that he would never let anything happen to his little girl and that he would always be there for her. Goldilocks was happy to be reunited with her father and she realized that she was indeed more or less master of her own fate.\n"
     ]
    },
    {
     "name": "stderr",
     "output_type": "stream",
     "text": [
      "\u001B[93mWarning: Your text contains a trailing whitespace, which has been trimmed to ensure high quality generations.\n",
      "\u001B[0m\n"
     ]
    },
    {
     "name": "stdout",
     "output_type": "stream",
     "text": [
      "Prediction: a poor woodcutter was working hard to earn his daily bread. He had a family to support and was struggling to make ends meet. One day, he came across a tree that had been struck by lightning and was now lying on the ground, ready to be chopped up for firewood. The woodcutter was overjoyed at his good fortune and set to work immediately. He worked all day long, but when the sun went down, he realized that he had chopped up the wrong tree. He had cut down a tree that was worth much more than the one he had wanted. In his rush to get the job done, he had forgotten to take the time to check his work. As a result, he had committed a sin that was just as bad as the one he had been trying to avoid.\n",
      "\n",
      "Moral: In avoiding one evil, care must be taken not to fall into another.\n"
     ]
    },
    {
     "name": "stderr",
     "output_type": "stream",
     "text": [
      "\u001B[93mWarning: Your text contains a trailing whitespace, which has been trimmed to ensure high quality generations.\n",
      "\u001B[0m\n"
     ]
    },
    {
     "name": "stdout",
     "output_type": "stream",
     "text": [
      "Prediction: a little girl named Lulu wanted to get revenge on her big brother, Harry, for pulling her hair. She decided to wait until he was sleeping and then she would creep into his room and cut his hair off. However, when the time came, Lulu couldn't bring herself to do it. She ended up just sneaking into his room and tucking him in.\n",
      "\n",
      "The moral of the story is that revenge will hurt the avenger. Lulu couldn't bring herself to cut Harry's hair because she knew it would hurt him just as much as he had hurt her.\n"
     ]
    },
    {
     "name": "stderr",
     "output_type": "stream",
     "text": [
      "\u001B[93mWarning: Your text contains a trailing whitespace, which has been trimmed to ensure high quality generations.\n",
      "\u001B[0m\n"
     ]
    },
    {
     "name": "stdout",
     "output_type": "stream",
     "text": [
      "Prediction: there was a boy named Jack who was very lazy and did not want to do any work. He would spend all day sleeping and playing video games. His mother would always yell at him to get up and do his chores, but he never listened to her. One day, his mother decided to punish him by making him sleep outside in the cold rain. Jack was so angry that he decided to run away and live on his own. He soon realized that being alone was not as much fun as he thought it would be. He longed for his mother's love and company. In the end, he decided to give up his bad habits and become a responsible person.\n",
      "\n",
      "Change of habit cannot alter nature.\n"
     ]
    },
    {
     "name": "stderr",
     "output_type": "stream",
     "text": [
      "\u001B[93mWarning: Your text contains a trailing whitespace, which has been trimmed to ensure high quality generations.\n",
      "\u001B[0m\n"
     ]
    },
    {
     "name": "stdout",
     "output_type": "stream",
     "text": [
      "Prediction: there was a little girl named Goldilocks. She was very excited to go on her first camping trip with her friends. She had never been camping before, and she couldn't wait to try out all of the activities that her friends had been raving about.\n",
      "\n",
      "However, when the day finally arrived, Goldilocks found out that she was too sick to go on the trip. She had a fever and a cough, and she didn't want to spread her germs to her friends.\n",
      "\n",
      "Goldilocks was heartbroken. She had been looking forward to this trip for months, and now she was stuck at home, alone.\n",
      "\n",
      "But Goldilocks wasn't alone for long. Her friends came by to check on her, and they ended up staying for hours, telling her stories and playing games.\n",
      "\n",
      "While Goldilocks may have missed out on her first camping trip, she learned a valuable lesson: that pleasure bought with pains, hurts.\n"
     ]
    },
    {
     "name": "stderr",
     "output_type": "stream",
     "text": [
      "\u001B[93mWarning: Your text contains a trailing whitespace, which has been trimmed to ensure high quality generations.\n",
      "\u001B[0m\n"
     ]
    },
    {
     "name": "stdout",
     "output_type": "stream",
     "text": [
      "Prediction: there was a young prince named Lysander. He was loved by his parents and all who knew him, for he was always kind and gentle. One day, he was out playing in the palace garden with his friends when he heard his mother's voice. She was crying and sounded as if she were in pain. Lysander rushed to her side and found that she had been stung by a bee. He quickly applied a cold compress to her forehead and then he gave her a drink of water. He kissed her hand and said, \"Mother, I'm so sorry that you were hurt. I'll do anything I can to help you feel better.\"\n",
      "\n",
      "Lysander's mother was very grateful for his help and she kissed him back. Then she said, \"Youth's first duty is reverence to parents.\" Lysander knew that she was right and he promised to always be respectful to her.\n"
     ]
    },
    {
     "name": "stderr",
     "output_type": "stream",
     "text": [
      "\u001B[93mWarning: Your text contains a trailing whitespace, which has been trimmed to ensure high quality generations.\n",
      "\u001B[0m\n"
     ]
    },
    {
     "name": "stdout",
     "output_type": "stream",
     "text": [
      "Prediction: a king and his queen were walking through their kingdom when they saw a beggar on the side of the road. The king was so moved by the man's plight that he stopped to give him a few coins. The queen, however, was not so generous. She turned up her nose at the man and hurried away.\n",
      "\n",
      "The king was dismayed by his wife's coldness. \"Surely,\" he thought, \"There is as much malice in a wink as in a word.\"\n"
     ]
    },
    {
     "name": "stderr",
     "output_type": "stream",
     "text": [
      "\u001B[93mWarning: Your text contains a trailing whitespace, which has been trimmed to ensure high quality generations.\n",
      "\u001B[0m\n"
     ]
    },
    {
     "name": "stdout",
     "output_type": "stream",
     "text": [
      "Prediction: a mother sat down to read her child a bed time story. The story was about a rabbit who loved to play with his friends. One day, the rabbit's friends came over to his house to play, but the rabbit was too tired to join them. He told his friends that he would play with them another time, but they should just enjoy themselves without him. The moral of the story was that it is important to abate and enjoy.\n"
     ]
    },
    {
     "name": "stderr",
     "output_type": "stream",
     "text": [
      "\u001B[93mWarning: Your text contains a trailing whitespace, which has been trimmed to ensure high quality generations.\n",
      "\u001B[0m\n"
     ]
    },
    {
     "name": "stdout",
     "output_type": "stream",
     "text": [
      "Prediction: a child was born into a family of farmers. The child was named Smerdis and he was a very happy boy. He loved playing in the fields and watching the crops grow. He loved being out in the fresh air and getting his hands dirty. He loved his parents and his sister and he was always a very willing help to them.\n",
      "\n",
      "One day, Smerdis's parents sat him down and told him that he was going to have to go and work in the city. They explained that they needed him to help with the finances and that it would be a good experience for him. Smerdis was not thrilled with the idea of leaving his family and his beloved fields, but he did feel a sense of duty to help his parents.\n",
      "So, Smerdis went to the city and got a job in a factory. He worked hard and he was very good at his job. He saved his money and he sent some back to his parents. He was always a good son and he was always a pleasure to be around.\n",
      "\n",
      "One day, Smerdis was walking home from work when he heard a voice in his head. It was a voice that he had never heard before and it was telling him to kill his boss. Smerdis was shocked. He couldn't believe that he was being asked to kill someone. He tried to tell himself that he wouldn't do it, but the voice was persistent.\n",
      "\n",
      "Smerdis followed the voice's instructions and he killed his boss. He then turned himself in to the police and he was sent to jail. In jail, he heard the voice again and he realized that it was his fate. He could not escape his fate.\n"
     ]
    },
    {
     "name": "stderr",
     "output_type": "stream",
     "text": [
      "\u001B[93mWarning: Your text contains a trailing whitespace, which has been trimmed to ensure high quality generations.\n",
      "\u001B[0m\n"
     ]
    },
    {
     "name": "stdout",
     "output_type": "stream",
     "text": [
      "Prediction: a very cunning snake went to the forest to prey on the animals there. He was so cunning that he even outwitted himself. He started by biting the neck of a rabbit, but the rabbit was so cunning that he bit the snake's neck in return. The snake was so cunning that he bit the rabbit's neck a second time, but the rabbit was so cunning that he bit the snake's neck a third time. The snake was so cunning that he bit the rabbit's neck a fourth time, but the rabbit was so cunning that he bit the snake's neck a fifth time. The snake was so cunning that he bit the rabbit's neck a sixth time, but the rabbit was so cunning that he bit the snake's neck a seventh time. The snake was so cunning that he bit the rabbit's neck an eight time, but the rabbit was so cunning that he bit the snake's neck a nine time. The snake was so cunning that he bit the rabbit's neck a tenth time, but the rabbit was so cunning that he bit the snake's neck a hundred times. The snake was so cunning that he bit the rabbit's neck a thousand times, but the rabbit was so cunning that he bit the snake's neck a million times.\n"
     ]
    },
    {
     "name": "stderr",
     "output_type": "stream",
     "text": [
      "\u001B[93mWarning: Your text contains a trailing whitespace, which has been trimmed to ensure high quality generations.\n",
      "\u001B[0m\n"
     ]
    },
    {
     "name": "stdout",
     "output_type": "stream",
     "text": [
      "Prediction: a little boy named Johnny assumed the character of a girl named June. He put on a dress and some lipstick and went out to play with his friends. But when he got there, they all laughed at him and called him a baby. Johnny was so embarrassed that he ran home to his mother and told her what happened. She helped him understand that it was wrong to pretend to be someone he wasn't. Johnny learned a valuable lesson that day: It's best to just be yourself.\n",
      "\n",
      "Johnny assumed the character of a girl named June and went out to play with his friends. But when he got there, they all laughed at him and called him a baby. Johnny was so embarrassed that he ran home to his mother and told her what happened. She helped him understand that it was wrong to pretend to be someone he wasn't. Johnny learned a valuable lesson that day: It's best to just be yourself.\n"
     ]
    },
    {
     "name": "stderr",
     "output_type": "stream",
     "text": [
      "\u001B[93mWarning: Your text contains a trailing whitespace, which has been trimmed to ensure high quality generations.\n",
      "\u001B[0m\n"
     ]
    },
    {
     "name": "stdout",
     "output_type": "stream",
     "text": [
      "Prediction: a group of soldiers were out on a mission. They were very tired and hungry, and so they decided to take a break in a small town. They went to the town's only inn, and they all agreed to share a room for the night.\n",
      "\n",
      "In the morning, the soldiers were surprised to find that the inn had been completely looted. They were even more surprised when they realized that the townspeople had been in on the looting too.\n",
      "The soldiers decided to track down the townspeople and teach them a lesson. They found the townspeople in a field, where they were busy dividing up the stolen goods. The soldiers caught them red-handed and they were quickly apprehended.\n",
      "The soldiers then realized that the townspeople had been doing this for a while. They must have known that the soldiers were coming, and they had set up this trap just for them.\n",
      "The soldiers decided to teach the townspeople a different lesson. They let them go, but they told them that if they ever did anything like this again, they would come back and teach them a real lesson.\n",
      "\n",
      "He who shares the danger ought to share the prize.\n"
     ]
    },
    {
     "name": "stderr",
     "output_type": "stream",
     "text": [
      "\u001B[93mWarning: Your text contains a trailing whitespace, which has been trimmed to ensure high quality generations.\n",
      "\u001B[0m\n"
     ]
    },
    {
     "name": "stdout",
     "output_type": "stream",
     "text": [
      "Prediction: a little girl named Sarah was walking home from getting ice cream with her friends when she fell and broke her leg. Her friends were so scared that they would get in trouble with their parents that they just left her there. Poor Sarah had to spend the night by herself in the hospital.\n",
      "\n",
      "The next day, Sarah's friends finally came to visit her and they were so sorry for what they had done. They knew that they could have helped her sooner, but they were too scared. Sarah forgave her friends and they all learned a valuable lesson: When you're in trouble, your true friends will be there for you.\n"
     ]
    },
    {
     "name": "stderr",
     "output_type": "stream",
     "text": [
      "\u001B[93mWarning: Your text contains a trailing whitespace, which has been trimmed to ensure high quality generations.\n",
      "\u001B[0m\n"
     ]
    },
    {
     "name": "stdout",
     "output_type": "stream",
     "text": [
      "Prediction: there was a princess who lived in a castle. She was very unhappy because she had no friends and everyone else in the castle was mean to her. One day, she met a fairy who told her that what was most truly valuable was often underrated. The princess thought about this for a long time and finally decided to try to be nicer to the people around her. She started small, by just saying \"Hello\" to people she passed in the halls, but eventually she made some friends and began to feel better about herself. The princess learned that what is most truly valuable is often underrated, and that it's worth trying to be a bit nicer to the people around you.\n"
     ]
    },
    {
     "name": "stderr",
     "output_type": "stream",
     "text": [
      "\u001B[93mWarning: Your text contains a trailing whitespace, which has been trimmed to ensure high quality generations.\n",
      "\u001B[0m\n"
     ]
    },
    {
     "name": "stdout",
     "output_type": "stream",
     "text": [
      "Prediction: a father and his son were walking home from getting ice cream when they came across a large field of flowers. The father exclaimed, \"Oh, look at all these flowers! They're so beautiful!\"\n",
      "\n",
      "His son responded, \"Yeah, they are pretty cool.\"\n",
      "\n",
      "The father thought for a minute and then said, \"You know, I really appreciate these flowers. They make me feel happy and alive.\"\n",
      "\n",
      "His son looked at him and then said, \"Dad, you're right. These flowers are pretty great.\"\n"
     ]
    },
    {
     "name": "stderr",
     "output_type": "stream",
     "text": [
      "\u001B[93mWarning: Your text contains a trailing whitespace, which has been trimmed to ensure high quality generations.\n",
      "\u001B[0m\n"
     ]
    },
    {
     "name": "stdout",
     "output_type": "stream",
     "text": [
      "Prediction: there was a little girl named Gretel who loved to play her recorder. She would spend hours each day practicing, and she was so good that she often won first place in contests. One day, Gretel's parents decided to buy her a new recorder, one that was made of gold. Gretel was so excited! She spent hours playing her new recorder and enjoying its sweet sound.\n",
      "\n",
      "One day, Gretel's little brother came up to her and asked her what she was doing. Gretel replied that she was just playing her recorder. Her brother said, \"Can I try?\" Gretel nodded and her brother began to play. The sound was so much better than Gretel's that she was instantly envious.\n",
      "She tried to play her recorder again, but the sound was still inferior. Finally, she realized that her brother had been practicing on her old recorder, and that's why he sounded so much better. She also realized that she should be happy for her brother's success rather than feel envious.\n"
     ]
    },
    {
     "name": "stderr",
     "output_type": "stream",
     "text": [
      "\u001B[93mWarning: Your text contains a trailing whitespace, which has been trimmed to ensure high quality generations.\n",
      "\u001B[0m\n"
     ]
    },
    {
     "name": "stdout",
     "output_type": "stream",
     "text": [
      "Prediction: a giant heard a group of children taunting him from behind a tree. He asked them to come out and face him, but they only taunted him more. Finally, he burst through the tree with his ax and went after them. But when he got there, they were gone. He looked all around, but he could not find them anywhere. Finally, he realized that they had only been using a mirror to make it seem like they were right behind the tree.\n"
     ]
    },
    {
     "name": "stderr",
     "output_type": "stream",
     "text": [
      "\u001B[93mWarning: Your text contains a trailing whitespace, which has been trimmed to ensure high quality generations.\n",
      "\u001B[0m\n"
     ]
    },
    {
     "name": "stdout",
     "output_type": "stream",
     "text": [
      "Prediction: a mother and her young son were walking home from getting ice cream when they came across a large field. The mother had never seen the field before and didn't know what was in it. She asked her son to go ahead and check it out.\n",
      "The boy happily ran off towards the field. The mother smiled and waved as he ran away. She thought he would be back in a minute.\n",
      "She waited and waited, but he didn't return. She began to panic and ran to the field to look for him.\n",
      "She saw him lying motionless in a ditch. She quickly picked him up and screamed for help.\n",
      "A neighbor heard her screams and called 911. The boy was taken to the hospital and thankfully, he recovered.\n",
      "The moral of the story is that they who act without sufficient thought, will often fall into unsuspected danger.\n"
     ]
    },
    {
     "name": "stderr",
     "output_type": "stream",
     "text": [
      "\u001B[93mWarning: Your text contains a trailing whitespace, which has been trimmed to ensure high quality generations.\n",
      "\u001B[0m\n"
     ]
    },
    {
     "name": "stdout",
     "output_type": "stream",
     "text": [
      "Prediction: there was a little girl who loved to play outside. She would spend hours each day running through the meadow, playing in the creek, and climbing trees. She loved nature and all its creatures, and she especially loved the birds.\n",
      "\n",
      "One day, she found a wounded bird lying on the ground. She picked it up and took it home to care for it. She named it Peter and vowed to help it heal.\n",
      "\n",
      "For days, she fed Peter and helped him drink water. She also sang to him and told him stories. Gradually, Peter began to heal and eventually he was able to fly again.\n",
      "\n",
      "The little girl was so happy to have helped Peter that she decided to do something else to help nature. She started a club called the Green Team, and she and her friends began to clean up the meadow and the creek. They also started a recycling program and taught their classmates about the importance of taking care of the environment.\n"
     ]
    },
    {
     "name": "stderr",
     "output_type": "stream",
     "text": [
      "\u001B[93mWarning: Your text contains a trailing whitespace, which has been trimmed to ensure high quality generations.\n",
      "\u001B[0m\n"
     ]
    },
    {
     "name": "stdout",
     "output_type": "stream",
     "text": [
      "Prediction: there was a king who ruled over a faraway land. He was a good king, and he ruled justly. But one day, he awoke to find that his kingdom had been attacked by a neighboring king. The attackers had come during the night, while the king and his soldiers were sleeping.\n",
      "The king was outnumbered and outgunned. He knew he couldn't win the battle. But he also knew that he had to try.\n",
      "So the king and his soldiers fought with all their might. They were able to hold off the enemy for a while. But eventually, the enemy began to gain the upper hand. The king knew that his time was running out.\n",
      "But just when things were looking the bleakest, the king's horse came charging into the battle. The king's soldiers were able to rally and fight on. And in the end, they were able to defeat the enemy.\n",
      "The king knew that it was his horse who had turned the tide of the battle. And he was grateful for the horse's help.\n",
      "He could have just as easily been defeated, had it not been for his horse. And so, the king knew that it was his horse who was the sign of a noble soul.\n"
     ]
    },
    {
     "name": "stderr",
     "output_type": "stream",
     "text": [
      "\u001B[93mWarning: Your text contains a trailing whitespace, which has been trimmed to ensure high quality generations.\n",
      "\u001B[0m\n"
     ]
    },
    {
     "name": "stdout",
     "output_type": "stream",
     "text": [
      "Prediction: a young woman was walking home from getting her groceries when she was accosted by a group of thieves. They beat her up and took her money and shoes. She cried and pleaded with them to leave her alone, but they only became more violent. Finally, they decided to leave her, but not before they had further beaten her and robbed her of her remaining possessions. The young woman lay there, bloody and broken, until a kind passerby came along and helped her to her feet. She was taken to the hospital and eventually recovered. However, she never saw the thieves again, and she knew that justice would never be served.\n"
     ]
    },
    {
     "name": "stderr",
     "output_type": "stream",
     "text": [
      "\u001B[93mWarning: Your text contains a trailing whitespace, which has been trimmed to ensure high quality generations.\n",
      "\u001B[0m\n"
     ]
    },
    {
     "name": "stdout",
     "output_type": "stream",
     "text": [
      "Prediction: a little girl named Polly lived in a small town. She was a very sweet girl who was always willing to help others. She had many friends and was always the life of the party.\n",
      "One day, she heard some classmates talking about her. They were saying that Polly was a liar and a thief. She was so shocked that she ran to tell her best friend, Jack, what she had heard.\n",
      "Jack was very understanding and tried to help her feel better. He told her that he didn't think she was a liar or a thief, and that he would talk to the classmates and try to clear things up.\n",
      "The next day, Jack went to talk to the classmates. He told them that he didn't think Polly was a liar or a thief, and that he had heard from her mother that she was actually a very sweet girl.\n",
      "The classmates were very sorry for what they had said. They went to tell Polly that they were sorry and that they actually thought she was a very sweet girl.\n",
      "Polly was very happy to have such understanding friends. She knew that she could always count on them to stick up for her.\n"
     ]
    },
    {
     "name": "stderr",
     "output_type": "stream",
     "text": [
      "\u001B[93mWarning: Your text contains a trailing whitespace, which has been trimmed to ensure high quality generations.\n",
      "\u001B[0m\n"
     ]
    },
    {
     "name": "stdout",
     "output_type": "stream",
     "text": [
      "Prediction: there was a man who had a very bad reputation. He was known as a thief and a scoundrel. One day, he saw a little girl crying on the street. He stopped to help her and found out that she had lost her shoe. He searched high and low for the shoe, but it was nowhere to be found. Finally, he gave up and went on his way. The girl's mother saw what he did and was so grateful that she decided to change her opinion of him. From then on, she always saw him as a kind-hearted man.\n"
     ]
    },
    {
     "name": "stderr",
     "output_type": "stream",
     "text": [
      "\u001B[93mWarning: Your text contains a trailing whitespace, which has been trimmed to ensure high quality generations.\n",
      "\u001B[0m\n"
     ]
    },
    {
     "name": "stdout",
     "output_type": "stream",
     "text": [
      "Prediction: there was a king who had a beautiful daughter. She was so lovely that he declared she would be his heir. His wife, the queen, was very angry. She had wanted her own son to be the heir. So, she told her husband that their daughter was not really his. She was just a servant who had been bought at the market. The king was heartbroken. He went to his daughter's room to tell her the news. When he got there, he saw that she was already asleep. He decided to let her sleep and tell her the news in the morning.\n"
     ]
    },
    {
     "name": "stderr",
     "output_type": "stream",
     "text": [
      "\u001B[93mWarning: Your text contains a trailing whitespace, which has been trimmed to ensure high quality generations.\n",
      "\u001B[0m\n"
     ]
    },
    {
     "name": "stdout",
     "output_type": "stream",
     "text": [
      "Prediction: there was a man who loved to eat. He would have breakfast, lunch, and dinner and always had a snack in between. He was always looking for the next meal and couldn't stand to see food go to waste. One day, he saw a young boy sitting on the steps of a church with a sign that said \"Homeless and Hungry.\" The man was so moved by the boy's hunger that he went inside the church and gave him a big bowl of soup. The boy was so grateful that he cried. The man was happy to have helped someone in need and went on his way. The boy's hunger was finally satisfied and he went to sleep. The man's bed time story was: \"Better starve free than be a fat slave.\"\n"
     ]
    },
    {
     "name": "stderr",
     "output_type": "stream",
     "text": [
      "\u001B[93mWarning: Your text contains a trailing whitespace, which has been trimmed to ensure high quality generations.\n",
      "\u001B[0m\n"
     ]
    },
    {
     "name": "stdout",
     "output_type": "stream",
     "text": [
      "Prediction: two girls named Ella and Mia became the best of friends. They did everything together. They played games, they shared secrets, they even had their own secret language! But then one day, they had a huge fight. Ella accused Mia of cheating on a test, and Mia accused Ella of being a liar. They were so mad at each other that they stopped talking to each other. But then they realized that even though they were no longer talking to each other, they were still friends. And they realized that it was their friendship that made them so happy, and not the fight that had made them so sad.\n"
     ]
    },
    {
     "name": "stderr",
     "output_type": "stream",
     "text": [
      "\u001B[93mWarning: Your text contains a trailing whitespace, which has been trimmed to ensure high quality generations.\n",
      "\u001B[0m\n"
     ]
    },
    {
     "name": "stdout",
     "output_type": "stream",
     "text": [
      "Prediction: a woodcutter and his family lived in a small house in the middle of a forest. They were very poor and could barely afford to eat. One day, the woodcutter went to the city to sell his wares and he met a man who was very kind to him. The man gave him a pot of gold and told him to take it home to his family. The woodcatcher was so excited that he ran all the way home to his family and told them of his good fortune. They were all so happy that they began to live a much better life.\n",
      "\n",
      "One day, the woodcatcher's family were out walking in the forest when they came across the same man who had given him the pot of gold. They were so shocked to see him there that they began to follow him, thinking that he was a thief. But as they followed him, they saw that he was actually a kind-hearted man who was just visiting the forest. They realized that they had been wrong about him and they apologized to him for their suspicion.\n"
     ]
    },
    {
     "name": "stderr",
     "output_type": "stream",
     "text": [
      "\u001B[93mWarning: Your text contains a trailing whitespace, which has been trimmed to ensure high quality generations.\n",
      "\u001B[0m\n"
     ]
    },
    {
     "name": "stdout",
     "output_type": "stream",
     "text": [
      "Prediction: there was a little girl who loved to play in her garden. She would spend hours each day playing with her plants and flowers, and she loved every minute of it. However, one day she saw a strange man standing at the edge of her yard, watching her as she played. The girl knew that she was safe inside her home, but she couldn't help but feel scared as the man continued to stare at her. Finally, the girl's mother called her inside for dinner, and the strange man disappeared. The girl told her mother about the man she had seen, and they both agreed that it was best to be on guard against men who can strike from a distance.\n"
     ]
    },
    {
     "name": "stderr",
     "output_type": "stream",
     "text": [
      "\u001B[93mWarning: Your text contains a trailing whitespace, which has been trimmed to ensure high quality generations.\n",
      "\u001B[0m\n"
     ]
    },
    {
     "name": "stdout",
     "output_type": "stream",
     "text": [
      "Prediction: a man was very tired and he went to bed early. But he could not fall asleep because he was thinking about his clothes. He had bought some new clothes and he was very proud of them. But he worried that they might get dirty if he fell asleep with them on. So he got out of bed and put them in the closet. But then he realized that he had left his pajamas behind. He would have to sleep in his clothes again. But he was so tired that he quickly fell asleep. In the morning, he realized that his clothes were still clean and he had never once thought about his silly words during the night.\n"
     ]
    },
    {
     "name": "stderr",
     "output_type": "stream",
     "text": [
      "\u001B[93mWarning: Your text contains a trailing whitespace, which has been trimmed to ensure high quality generations.\n",
      "\u001B[0m\n"
     ]
    },
    {
     "name": "stdout",
     "output_type": "stream",
     "text": [
      "Prediction: there was a king who was very proud of his kingdom. He wanted to make sure that his people were happy and content. He also wanted to make sure that his kingdom was protected from enemies. So, he came up with a plan. He would build a huge wall around his kingdom to keep out the enemies.\n",
      "\n",
      "The king's plan worked for a while. The wall kept the enemies out and the king's people were happy. But, one day, a group of enemies got around the wall and attacked the king's people. The king's plan had failed and he was very disappointed.\n",
      "\n",
      "The king realized that his plan had not been perfect and that there was room for improvement. He also realized that his people were still happy, even though they had been attacked. In the end, the king's best intentions did not always ensure success.\n"
     ]
    },
    {
     "name": "stderr",
     "output_type": "stream",
     "text": [
      "\u001B[93mWarning: Your text contains a trailing whitespace, which has been trimmed to ensure high quality generations.\n",
      "\u001B[0m\n"
     ]
    },
    {
     "name": "stdout",
     "output_type": "stream",
     "text": [
      "Prediction: a mother tiger and her two cubs were out for a walk in the forest when they came across a small town. The mother tiger was very curious and went to investigate. She soon realized that the town was being overrun by a group of bandits. The mother tiger and her cubs were able to help the townspeople fight off the bandits and restore peace to the town.\n"
     ]
    },
    {
     "ename": "KeyboardInterrupt",
     "evalue": "",
     "output_type": "error",
     "traceback": [
      "\u001B[0;31m---------------------------------------------------------------------------\u001B[0m",
      "\u001B[0;31mKeyboardInterrupt\u001B[0m                         Traceback (most recent call last)",
      "\u001B[0;32m/var/folders/vf/tzjdf2nn1t311v9l1ygfxpd00000gn/T/ipykernel_58659/3321015205.py\u001B[0m in \u001B[0;36m<module>\u001B[0;34m\u001B[0m\n\u001B[0;32m----> 1\u001B[0;31m \u001B[0mdf\u001B[0m\u001B[0;34m[\u001B[0m\u001B[0;34m'output'\u001B[0m\u001B[0;34m]\u001B[0m \u001B[0;34m=\u001B[0m \u001B[0mdf\u001B[0m\u001B[0;34m[\u001B[0m\u001B[0;34m'prompt'\u001B[0m\u001B[0;34m]\u001B[0m\u001B[0;34m.\u001B[0m\u001B[0mapply\u001B[0m\u001B[0;34m(\u001B[0m\u001B[0mgenerate\u001B[0m\u001B[0;34m)\u001B[0m\u001B[0;34m\u001B[0m\u001B[0;34m\u001B[0m\u001B[0m\n\u001B[0m",
      "\u001B[0;32m~/opt/anaconda3/lib/python3.9/site-packages/pandas/core/series.py\u001B[0m in \u001B[0;36mapply\u001B[0;34m(self, func, convert_dtype, args, **kwargs)\u001B[0m\n\u001B[1;32m   4431\u001B[0m         \u001B[0mdtype\u001B[0m\u001B[0;34m:\u001B[0m \u001B[0mfloat64\u001B[0m\u001B[0;34m\u001B[0m\u001B[0;34m\u001B[0m\u001B[0m\n\u001B[1;32m   4432\u001B[0m         \"\"\"\n\u001B[0;32m-> 4433\u001B[0;31m         \u001B[0;32mreturn\u001B[0m \u001B[0mSeriesApply\u001B[0m\u001B[0;34m(\u001B[0m\u001B[0mself\u001B[0m\u001B[0;34m,\u001B[0m \u001B[0mfunc\u001B[0m\u001B[0;34m,\u001B[0m \u001B[0mconvert_dtype\u001B[0m\u001B[0;34m,\u001B[0m \u001B[0margs\u001B[0m\u001B[0;34m,\u001B[0m \u001B[0mkwargs\u001B[0m\u001B[0;34m)\u001B[0m\u001B[0;34m.\u001B[0m\u001B[0mapply\u001B[0m\u001B[0;34m(\u001B[0m\u001B[0;34m)\u001B[0m\u001B[0;34m\u001B[0m\u001B[0;34m\u001B[0m\u001B[0m\n\u001B[0m\u001B[1;32m   4434\u001B[0m \u001B[0;34m\u001B[0m\u001B[0m\n\u001B[1;32m   4435\u001B[0m     def _reduce(\n",
      "\u001B[0;32m~/opt/anaconda3/lib/python3.9/site-packages/pandas/core/apply.py\u001B[0m in \u001B[0;36mapply\u001B[0;34m(self)\u001B[0m\n\u001B[1;32m   1086\u001B[0m             \u001B[0;32mreturn\u001B[0m \u001B[0mself\u001B[0m\u001B[0;34m.\u001B[0m\u001B[0mapply_str\u001B[0m\u001B[0;34m(\u001B[0m\u001B[0;34m)\u001B[0m\u001B[0;34m\u001B[0m\u001B[0;34m\u001B[0m\u001B[0m\n\u001B[1;32m   1087\u001B[0m \u001B[0;34m\u001B[0m\u001B[0m\n\u001B[0;32m-> 1088\u001B[0;31m         \u001B[0;32mreturn\u001B[0m \u001B[0mself\u001B[0m\u001B[0;34m.\u001B[0m\u001B[0mapply_standard\u001B[0m\u001B[0;34m(\u001B[0m\u001B[0;34m)\u001B[0m\u001B[0;34m\u001B[0m\u001B[0;34m\u001B[0m\u001B[0m\n\u001B[0m\u001B[1;32m   1089\u001B[0m \u001B[0;34m\u001B[0m\u001B[0m\n\u001B[1;32m   1090\u001B[0m     \u001B[0;32mdef\u001B[0m \u001B[0magg\u001B[0m\u001B[0;34m(\u001B[0m\u001B[0mself\u001B[0m\u001B[0;34m)\u001B[0m\u001B[0;34m:\u001B[0m\u001B[0;34m\u001B[0m\u001B[0;34m\u001B[0m\u001B[0m\n",
      "\u001B[0;32m~/opt/anaconda3/lib/python3.9/site-packages/pandas/core/apply.py\u001B[0m in \u001B[0;36mapply_standard\u001B[0;34m(self)\u001B[0m\n\u001B[1;32m   1141\u001B[0m                 \u001B[0;31m# List[Union[Callable[..., Any], str]]]]]\"; expected\u001B[0m\u001B[0;34m\u001B[0m\u001B[0;34m\u001B[0m\u001B[0m\n\u001B[1;32m   1142\u001B[0m                 \u001B[0;31m# \"Callable[[Any], Any]\"\u001B[0m\u001B[0;34m\u001B[0m\u001B[0;34m\u001B[0m\u001B[0m\n\u001B[0;32m-> 1143\u001B[0;31m                 mapped = lib.map_infer(\n\u001B[0m\u001B[1;32m   1144\u001B[0m                     \u001B[0mvalues\u001B[0m\u001B[0;34m,\u001B[0m\u001B[0;34m\u001B[0m\u001B[0;34m\u001B[0m\u001B[0m\n\u001B[1;32m   1145\u001B[0m                     \u001B[0mf\u001B[0m\u001B[0;34m,\u001B[0m  \u001B[0;31m# type: ignore[arg-type]\u001B[0m\u001B[0;34m\u001B[0m\u001B[0;34m\u001B[0m\u001B[0m\n",
      "\u001B[0;32m~/opt/anaconda3/lib/python3.9/site-packages/pandas/_libs/lib.pyx\u001B[0m in \u001B[0;36mpandas._libs.lib.map_infer\u001B[0;34m()\u001B[0m\n",
      "\u001B[0;32m/var/folders/vf/tzjdf2nn1t311v9l1ygfxpd00000gn/T/ipykernel_58659/3315190055.py\u001B[0m in \u001B[0;36mgenerate\u001B[0;34m(prompt)\u001B[0m\n\u001B[1;32m     12\u001B[0m     \u001B[0mstop_sequences\u001B[0m\u001B[0;34m=\u001B[0m\u001B[0;34m[\u001B[0m\u001B[0;34m]\u001B[0m\u001B[0;34m,\u001B[0m\u001B[0;34m\u001B[0m\u001B[0;34m\u001B[0m\u001B[0m\n\u001B[1;32m     13\u001B[0m     return_likelihoods='NONE')\n\u001B[0;32m---> 14\u001B[0;31m     \u001B[0mprint\u001B[0m\u001B[0;34m(\u001B[0m\u001B[0;34m'Prediction: {}'\u001B[0m\u001B[0;34m.\u001B[0m\u001B[0mformat\u001B[0m\u001B[0;34m(\u001B[0m\u001B[0mresponse\u001B[0m\u001B[0;34m.\u001B[0m\u001B[0mgenerations\u001B[0m\u001B[0;34m[\u001B[0m\u001B[0;36m0\u001B[0m\u001B[0;34m]\u001B[0m\u001B[0;34m.\u001B[0m\u001B[0mtext\u001B[0m\u001B[0;34m)\u001B[0m\u001B[0;34m)\u001B[0m\u001B[0;34m\u001B[0m\u001B[0;34m\u001B[0m\u001B[0m\n\u001B[0m",
      "\u001B[0;32m~/opt/anaconda3/lib/python3.9/site-packages/cohere/response.py\u001B[0m in \u001B[0;36m__getattribute__\u001B[0;34m(self, name)\u001B[0m\n\u001B[1;32m     52\u001B[0m         \u001B[0mattr\u001B[0m \u001B[0;34m=\u001B[0m \u001B[0msuper\u001B[0m\u001B[0;34m(\u001B[0m\u001B[0;34m)\u001B[0m\u001B[0;34m.\u001B[0m\u001B[0m__getattribute__\u001B[0m\u001B[0;34m(\u001B[0m\u001B[0mname\u001B[0m\u001B[0;34m)\u001B[0m\u001B[0;34m\u001B[0m\u001B[0;34m\u001B[0m\u001B[0m\n\u001B[1;32m     53\u001B[0m         \u001B[0;32mif\u001B[0m \u001B[0misinstance\u001B[0m\u001B[0;34m(\u001B[0m\u001B[0mattr\u001B[0m\u001B[0;34m,\u001B[0m \u001B[0mAsyncAttribute\u001B[0m\u001B[0;34m)\u001B[0m\u001B[0;34m:\u001B[0m\u001B[0;34m\u001B[0m\u001B[0;34m\u001B[0m\u001B[0m\n\u001B[0;32m---> 54\u001B[0;31m             \u001B[0;32mreturn\u001B[0m \u001B[0mattr\u001B[0m\u001B[0;34m.\u001B[0m\u001B[0mresolve\u001B[0m\u001B[0;34m(\u001B[0m\u001B[0;34m)\u001B[0m\u001B[0;34m\u001B[0m\u001B[0;34m\u001B[0m\u001B[0m\n\u001B[0m\u001B[1;32m     55\u001B[0m         \u001B[0;32melse\u001B[0m\u001B[0;34m:\u001B[0m\u001B[0;34m\u001B[0m\u001B[0;34m\u001B[0m\u001B[0m\n\u001B[1;32m     56\u001B[0m             \u001B[0;32mreturn\u001B[0m \u001B[0mattr\u001B[0m\u001B[0;34m\u001B[0m\u001B[0;34m\u001B[0m\u001B[0m\n",
      "\u001B[0;32m~/opt/anaconda3/lib/python3.9/site-packages/cohere/response.py\u001B[0m in \u001B[0;36mresolve\u001B[0;34m(self)\u001B[0m\n\u001B[1;32m     39\u001B[0m             \u001B[0;32mreturn\u001B[0m \u001B[0mself\u001B[0m\u001B[0;34m.\u001B[0m\u001B[0m_result\u001B[0m\u001B[0;34m\u001B[0m\u001B[0;34m\u001B[0m\u001B[0m\n\u001B[1;32m     40\u001B[0m \u001B[0;34m\u001B[0m\u001B[0m\n\u001B[0;32m---> 41\u001B[0;31m         \u001B[0mself\u001B[0m\u001B[0;34m.\u001B[0m\u001B[0m_result\u001B[0m \u001B[0;34m=\u001B[0m \u001B[0mself\u001B[0m\u001B[0;34m.\u001B[0m\u001B[0m_getter\u001B[0m\u001B[0;34m(\u001B[0m\u001B[0mself\u001B[0m\u001B[0;34m.\u001B[0m\u001B[0m_request\u001B[0m\u001B[0;34m.\u001B[0m\u001B[0mresult\u001B[0m\u001B[0;34m(\u001B[0m\u001B[0;34m)\u001B[0m\u001B[0;34m)\u001B[0m\u001B[0;34m\u001B[0m\u001B[0;34m\u001B[0m\u001B[0m\n\u001B[0m\u001B[1;32m     42\u001B[0m         \u001B[0;32mreturn\u001B[0m \u001B[0mself\u001B[0m\u001B[0;34m.\u001B[0m\u001B[0m_result\u001B[0m\u001B[0;34m\u001B[0m\u001B[0;34m\u001B[0m\u001B[0m\n\u001B[1;32m     43\u001B[0m \u001B[0;34m\u001B[0m\u001B[0m\n",
      "\u001B[0;32m~/opt/anaconda3/lib/python3.9/concurrent/futures/_base.py\u001B[0m in \u001B[0;36mresult\u001B[0;34m(self, timeout)\u001B[0m\n\u001B[1;32m    438\u001B[0m                     \u001B[0;32mreturn\u001B[0m \u001B[0mself\u001B[0m\u001B[0;34m.\u001B[0m\u001B[0m__get_result\u001B[0m\u001B[0;34m(\u001B[0m\u001B[0;34m)\u001B[0m\u001B[0;34m\u001B[0m\u001B[0;34m\u001B[0m\u001B[0m\n\u001B[1;32m    439\u001B[0m \u001B[0;34m\u001B[0m\u001B[0m\n\u001B[0;32m--> 440\u001B[0;31m                 \u001B[0mself\u001B[0m\u001B[0;34m.\u001B[0m\u001B[0m_condition\u001B[0m\u001B[0;34m.\u001B[0m\u001B[0mwait\u001B[0m\u001B[0;34m(\u001B[0m\u001B[0mtimeout\u001B[0m\u001B[0;34m)\u001B[0m\u001B[0;34m\u001B[0m\u001B[0;34m\u001B[0m\u001B[0m\n\u001B[0m\u001B[1;32m    441\u001B[0m \u001B[0;34m\u001B[0m\u001B[0m\n\u001B[1;32m    442\u001B[0m                 \u001B[0;32mif\u001B[0m \u001B[0mself\u001B[0m\u001B[0;34m.\u001B[0m\u001B[0m_state\u001B[0m \u001B[0;32min\u001B[0m \u001B[0;34m[\u001B[0m\u001B[0mCANCELLED\u001B[0m\u001B[0;34m,\u001B[0m \u001B[0mCANCELLED_AND_NOTIFIED\u001B[0m\u001B[0;34m]\u001B[0m\u001B[0;34m:\u001B[0m\u001B[0;34m\u001B[0m\u001B[0;34m\u001B[0m\u001B[0m\n",
      "\u001B[0;32m~/opt/anaconda3/lib/python3.9/threading.py\u001B[0m in \u001B[0;36mwait\u001B[0;34m(self, timeout)\u001B[0m\n\u001B[1;32m    310\u001B[0m         \u001B[0;32mtry\u001B[0m\u001B[0;34m:\u001B[0m    \u001B[0;31m# restore state no matter what (e.g., KeyboardInterrupt)\u001B[0m\u001B[0;34m\u001B[0m\u001B[0;34m\u001B[0m\u001B[0m\n\u001B[1;32m    311\u001B[0m             \u001B[0;32mif\u001B[0m \u001B[0mtimeout\u001B[0m \u001B[0;32mis\u001B[0m \u001B[0;32mNone\u001B[0m\u001B[0;34m:\u001B[0m\u001B[0;34m\u001B[0m\u001B[0;34m\u001B[0m\u001B[0m\n\u001B[0;32m--> 312\u001B[0;31m                 \u001B[0mwaiter\u001B[0m\u001B[0;34m.\u001B[0m\u001B[0macquire\u001B[0m\u001B[0;34m(\u001B[0m\u001B[0;34m)\u001B[0m\u001B[0;34m\u001B[0m\u001B[0;34m\u001B[0m\u001B[0m\n\u001B[0m\u001B[1;32m    313\u001B[0m                 \u001B[0mgotit\u001B[0m \u001B[0;34m=\u001B[0m \u001B[0;32mTrue\u001B[0m\u001B[0;34m\u001B[0m\u001B[0;34m\u001B[0m\u001B[0m\n\u001B[1;32m    314\u001B[0m             \u001B[0;32melse\u001B[0m\u001B[0;34m:\u001B[0m\u001B[0;34m\u001B[0m\u001B[0;34m\u001B[0m\u001B[0m\n",
      "\u001B[0;31mKeyboardInterrupt\u001B[0m: "
     ]
    },
    {
     "name": "stderr",
     "output_type": "stream",
     "text": [
      "\u001B[93mWarning: Your text contains a trailing whitespace, which has been trimmed to ensure high quality generations.\n",
      "\u001B[0m\n"
     ]
    }
   ],
   "source": [
    "df['output'] = df['prompt'].apply(generate)"
   ]
  },
  {
   "cell_type": "code",
   "execution_count": null,
   "metadata": {
    "pycharm": {
     "name": "#%%\n"
    }
   },
   "outputs": [],
   "source": [
    "df.iloc[0]"
   ]
  },
  {
   "cell_type": "code",
   "execution_count": null,
   "metadata": {
    "pycharm": {
     "name": "#%%\n"
    }
   },
   "outputs": [],
   "source": [
    "df = df[[\"story\", \"moral\", \"prompt\", \"output\"]]\n",
    "df.to_csv(\"generated_stories.csv\")"
   ]
  },
  {
   "cell_type": "code",
   "execution_count": null,
   "metadata": {
    "pycharm": {
     "name": "#%%\n"
    }
   },
   "outputs": [],
   "source": []
  }
 ],
 "metadata": {
  "kernelspec": {
   "display_name": "base",
   "language": "python",
   "name": "python3"
  },
  "language_info": {
   "codemirror_mode": {
    "name": "ipython",
    "version": 3
   },
   "file_extension": ".py",
   "mimetype": "text/x-python",
   "name": "python",
   "nbconvert_exporter": "python",
   "pygments_lexer": "ipython3",
   "version": "3.9.7"
  },
  "orig_nbformat": 4,
  "vscode": {
   "interpreter": {
    "hash": "c9597ba649527e7fe599bc8db9b56cafdea5c4ba5b46e0bb236a2e7dbc3fa151"
   }
  }
 },
 "nbformat": 4,
 "nbformat_minor": 2
}